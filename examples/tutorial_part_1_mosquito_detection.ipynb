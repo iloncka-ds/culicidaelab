{
 "cells": [
  {
   "cell_type": "markdown",
   "metadata": {},
   "source": [
    "# Mosquito Detection Tutorial\n",
    "\n",
    "This notebook demonstrates how to use the CulicidaeLab library for detecting mosquitoes in images using YOLOv8."
   ]
  },
  {
   "cell_type": "code",
   "execution_count": null,
   "metadata": {},
   "outputs": [],
   "source": [
    "import cv2\n",
    "import numpy as np\n",
    "from pathlib import Path\n",
    "from culicidaelab.detection import MosquitoDetector\n",
    "\n",
    "# For visualization\n",
    "import matplotlib.pyplot as plt\n",
    "\n",
    "%matplotlib inline"
   ]
  },
  {
   "cell_type": "markdown",
   "metadata": {},
   "source": [
    "## Initialize the Detector\n",
    "\n",
    "First, we'll create a MosquitoDetector instance. You'll need to provide the path to your trained YOLOv8 model."
   ]
  },
  {
   "cell_type": "code",
   "execution_count": null,
   "metadata": {},
   "outputs": [],
   "source": [
    "# Initialize detector with your model path\n",
    "detector = MosquitoDetector(model_path=\"path/to/your/yolov8_model.pt\", confidence_threshold=0.5)"
   ]
  },
  {
   "cell_type": "markdown",
   "metadata": {},
   "source": [
    "## Load and Process an Image\n",
    "\n",
    "Let's load an example image and detect mosquitoes in it."
   ]
  },
  {
   "cell_type": "code",
   "execution_count": null,
   "metadata": {},
   "outputs": [],
   "source": [
    "# Load an example image\n",
    "image_path = \"path/to/your/image.jpg\"\n",
    "image = cv2.imread(image_path)\n",
    "image = cv2.cvtColor(image, cv2.COLOR_BGR2RGB)\n",
    "\n",
    "# Perform detection\n",
    "detections = detector.detect(image)\n",
    "\n",
    "\n",
    "# Visualize results\n",
    "def plot_detections(image, detections):\n",
    "    plt.figure(figsize=(12, 8))\n",
    "    plt.imshow(image)\n",
    "\n",
    "    for x1, y1, x2, y2, conf in detections:\n",
    "        plt.gca().add_patch(plt.Rectangle((x1, y1), x2 - x1, y2 - y1, fill=False, color=\"red\", linewidth=2))\n",
    "        plt.text(x1, y1 - 5, f\"Mosquito {conf:.2f}\", color=\"red\", bbox=dict(facecolor=\"white\", alpha=0.8))\n",
    "\n",
    "    plt.axis(\"off\")\n",
    "    plt.show()\n",
    "\n",
    "\n",
    "plot_detections(image, detections)"
   ]
  },
  {
   "cell_type": "markdown",
   "metadata": {},
   "source": [
    "## Process Multiple Images\n",
    "\n",
    "You can also process multiple images from a directory:"
   ]
  },
  {
   "cell_type": "code",
   "execution_count": null,
   "metadata": {},
   "outputs": [],
   "source": [
    "def process_directory(image_dir):\n",
    "    image_dir = Path(image_dir)\n",
    "    for img_path in image_dir.glob(\"*.jpg\"):\n",
    "        image = cv2.imread(str(img_path))\n",
    "        image = cv2.cvtColor(image, cv2.COLOR_BGR2RGB)\n",
    "\n",
    "        detections = detector.detect(image)\n",
    "\n",
    "        print(f\"Found {len(detections)} mosquitoes in {img_path.name}\")\n",
    "        plot_detections(image, detections)\n",
    "\n",
    "\n",
    "# Process images in a directory\n",
    "# process_directory('path/to/image/directory')"
   ]
  }
 ],
 "metadata": {
  "kernelspec": {
   "display_name": "Python 3",
   "language": "python",
   "name": "python3"
  },
  "language_info": {
   "codemirror_mode": {
    "name": "ipython",
    "version": 3
   },
   "file_extension": ".py",
   "mimetype": "text/x-python",
   "name": "python",
   "nbconvert_exporter": "python",
   "pygments_lexer": "ipython3",
   "version": "3.11.0"
  }
 },
 "nbformat": 4,
 "nbformat_minor": 4
}
