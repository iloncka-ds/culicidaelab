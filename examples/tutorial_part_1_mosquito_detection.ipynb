{
 "cells": [
  {
   "cell_type": "markdown",
   "metadata": {},
   "source": [
    "# Mosquito Detection Tutorial\n",
    "\n",
    "This notebook demonstrates how to use the CulicidaeLab library for detecting mosquitoes in images."
   ]
  },
  {
   "cell_type": "code",
   "execution_count": 5,
   "metadata": {},
   "outputs": [],
   "source": [
    "from culicidaelab.core.settings import get_settings\n",
    "from culicidaelab.predictors.detector import MosquitoDetector\n",
    "from culicidaelab.core.provider_service import ProviderService\n",
    "from culicidaelab.predictors.model_weights_manager import ModelWeightsManager\n",
    "import cv2\n",
    "import matplotlib.pyplot as plt\n",
    "from pathlib import Path"
   ]
  },
  {
   "cell_type": "markdown",
   "metadata": {},
   "source": [
    "## 1. Initialize Settings and Load Model\n",
    "\n",
    "First, we'll get the settings instance which will handle model weights and configurations."
   ]
  },
  {
   "cell_type": "code",
   "execution_count": 6,
   "metadata": {},
   "outputs": [
    {
     "data": {
      "text/plain": [
       "['classifier', 'detector', 'segmenter']"
      ]
     },
     "execution_count": 6,
     "metadata": {},
     "output_type": "execute_result"
    }
   ],
   "source": [
    "# Get settings instance\n",
    "settings = get_settings()\n",
    "settings.list_model_types()"
   ]
  },
  {
   "cell_type": "code",
   "execution_count": 7,
   "metadata": {},
   "outputs": [],
   "source": [
    "model_config = settings.get_config(\"predictors.detector\")\n",
    "model_path = settings.get_model_weights_path(\"detector\")"
   ]
  },
  {
   "cell_type": "code",
   "execution_count": 8,
   "metadata": {},
   "outputs": [
    {
     "name": "stdout",
     "output_type": "stream",
     "text": [
      "Weights file found at: C:\\Users\\lenova\\AppData\\Local\\culicidaelab\\culicidaelab\\models\\weights\\detection\\culico-net-det-v1-nano.pt\n"
     ]
    }
   ],
   "source": [
    "provider_service = ProviderService(settings=settings)\n",
    "weights_manager = ModelWeightsManager(settings=settings, provider_service=provider_service)\n",
    "detector = MosquitoDetector(settings=settings, weights_manager=weights_manager, load_model=True)"
   ]
  },
  {
   "cell_type": "markdown",
   "metadata": {},
   "source": [
    "## 2. Load and Process an Image\n",
    "\n",
    "Now let's load a test image and run detection on it."
   ]
  },
  {
   "cell_type": "code",
   "execution_count": 9,
   "metadata": {},
   "outputs": [
    {
     "ename": "AttributeError",
     "evalue": "'VisualizationConfig' object has no attribute 'thickness'",
     "output_type": "error",
     "traceback": [
      "\u001b[1;31m---------------------------------------------------------------------------\u001b[0m",
      "\u001b[1;31mAttributeError\u001b[0m                            Traceback (most recent call last)",
      "\u001b[1;32m~\\AppData\\Local\\Temp\\ipykernel_1396\\433276922.py\u001b[0m in \u001b[0;36m<cell line: 0>\u001b[1;34m()\u001b[0m\n\u001b[0;32m      8\u001b[0m \u001b[1;33m\u001b[0m\u001b[0m\n\u001b[0;32m      9\u001b[0m \u001b[1;31m# Draw detections\u001b[0m\u001b[1;33m\u001b[0m\u001b[1;33m\u001b[0m\u001b[0m\n\u001b[1;32m---> 10\u001b[1;33m \u001b[0mannotated_image\u001b[0m \u001b[1;33m=\u001b[0m \u001b[0mdetector\u001b[0m\u001b[1;33m.\u001b[0m\u001b[0mvisualize\u001b[0m\u001b[1;33m(\u001b[0m\u001b[0mimage\u001b[0m\u001b[1;33m,\u001b[0m \u001b[0mdetections\u001b[0m\u001b[1;33m)\u001b[0m\u001b[1;33m\u001b[0m\u001b[1;33m\u001b[0m\u001b[0m\n\u001b[0m\u001b[0;32m     11\u001b[0m \u001b[1;33m\u001b[0m\u001b[0m\n\u001b[0;32m     12\u001b[0m \u001b[1;31m# Display results\u001b[0m\u001b[1;33m\u001b[0m\u001b[1;33m\u001b[0m\u001b[0m\n",
      "\u001b[1;32m~\\CascadeProjects\\culicidaelab\\culicidaelab\\predictors\\detector.py\u001b[0m in \u001b[0;36mvisualize\u001b[1;34m(self, input_data, predictions, save_path)\u001b[0m\n\u001b[0;32m    198\u001b[0m         \u001b[0mtext_color\u001b[0m \u001b[1;33m=\u001b[0m \u001b[0mstr_to_bgr\u001b[0m\u001b[1;33m(\u001b[0m\u001b[0mvis_config\u001b[0m\u001b[1;33m.\u001b[0m\u001b[0mtext_color\u001b[0m\u001b[1;33m)\u001b[0m\u001b[1;33m\u001b[0m\u001b[1;33m\u001b[0m\u001b[0m\n\u001b[0;32m    199\u001b[0m         \u001b[0mfont_scale\u001b[0m \u001b[1;33m=\u001b[0m \u001b[0mvis_config\u001b[0m\u001b[1;33m.\u001b[0m\u001b[0mfont_scale\u001b[0m\u001b[1;33m\u001b[0m\u001b[1;33m\u001b[0m\u001b[0m\n\u001b[1;32m--> 200\u001b[1;33m         \u001b[0mthickness\u001b[0m \u001b[1;33m=\u001b[0m \u001b[0mvis_config\u001b[0m\u001b[1;33m.\u001b[0m\u001b[0mthickness\u001b[0m\u001b[1;33m\u001b[0m\u001b[1;33m\u001b[0m\u001b[0m\n\u001b[0m\u001b[0;32m    201\u001b[0m \u001b[1;33m\u001b[0m\u001b[0m\n\u001b[0;32m    202\u001b[0m         \u001b[1;32mfor\u001b[0m \u001b[0mx\u001b[0m\u001b[1;33m,\u001b[0m \u001b[0my\u001b[0m\u001b[1;33m,\u001b[0m \u001b[0mw\u001b[0m\u001b[1;33m,\u001b[0m \u001b[0mh\u001b[0m\u001b[1;33m,\u001b[0m \u001b[0mconf\u001b[0m \u001b[1;32min\u001b[0m \u001b[0mpredictions\u001b[0m\u001b[1;33m:\u001b[0m\u001b[1;33m\u001b[0m\u001b[1;33m\u001b[0m\u001b[0m\n",
      "\u001b[1;32mc:\\Users\\lenova\\CascadeProjects\\culicidaelab\\.venv\\Lib\\site-packages\\pydantic\\main.py\u001b[0m in \u001b[0;36m__getattr__\u001b[1;34m(self, item)\u001b[0m\n\u001b[0;32m    854\u001b[0m                     \u001b[1;32melse\u001b[0m\u001b[1;33m:\u001b[0m\u001b[1;33m\u001b[0m\u001b[1;33m\u001b[0m\u001b[0m\n\u001b[0;32m    855\u001b[0m                         \u001b[1;31m# this is the current error\u001b[0m\u001b[1;33m\u001b[0m\u001b[1;33m\u001b[0m\u001b[0m\n\u001b[1;32m--> 856\u001b[1;33m                         \u001b[1;32mraise\u001b[0m \u001b[0mAttributeError\u001b[0m\u001b[1;33m(\u001b[0m\u001b[1;34mf'{type(self).__name__!r} object has no attribute {item!r}'\u001b[0m\u001b[1;33m)\u001b[0m\u001b[1;33m\u001b[0m\u001b[1;33m\u001b[0m\u001b[0m\n\u001b[0m\u001b[0;32m    857\u001b[0m \u001b[1;33m\u001b[0m\u001b[0m\n\u001b[0;32m    858\u001b[0m         \u001b[1;32mdef\u001b[0m \u001b[0m__setattr__\u001b[0m\u001b[1;33m(\u001b[0m\u001b[0mself\u001b[0m\u001b[1;33m,\u001b[0m \u001b[0mname\u001b[0m\u001b[1;33m:\u001b[0m \u001b[0mstr\u001b[0m\u001b[1;33m,\u001b[0m \u001b[0mvalue\u001b[0m\u001b[1;33m:\u001b[0m \u001b[0mAny\u001b[0m\u001b[1;33m)\u001b[0m \u001b[1;33m->\u001b[0m \u001b[1;32mNone\u001b[0m\u001b[1;33m:\u001b[0m\u001b[1;33m\u001b[0m\u001b[1;33m\u001b[0m\u001b[0m\n",
      "\u001b[1;31mAttributeError\u001b[0m: 'VisualizationConfig' object has no attribute 'thickness'"
     ]
    }
   ],
   "source": [
    "# Load test image\n",
    "image_path = str(Path(\"test_img\") / \"640px-Aedes_aegypti.jpg\")\n",
    "image = cv2.imread(image_path)\n",
    "image = cv2.cvtColor(image, cv2.COLOR_BGR2RGB)\n",
    "\n",
    "# Run detection\n",
    "detections = detector.predict(image)\n",
    "\n",
    "# Draw detections\n",
    "annotated_image = detector.visualize(image, detections)\n",
    "\n",
    "# Display results\n",
    "plt.figure(figsize=(12, 8))\n",
    "plt.imshow(annotated_image)\n",
    "plt.axis(\"off\")\n",
    "plt.title(\"Detected Mosquitoes\")\n",
    "plt.show()\n",
    "\n",
    "# Print detection results\n",
    "print(\"\\nDetection Results:\")\n",
    "for i, (x, y, w, h, conf) in enumerate(detections):\n",
    "    print(f\"Mosquito {i+1}: Confidence = {conf:.2f}, Box = (x={x:.1f}, y={y:.1f}, w={w:.1f}, h={h:.1f})\")"
   ]
  },
  {
   "cell_type": "code",
   "execution_count": null,
   "metadata": {},
   "outputs": [
    {
     "name": "stdout",
     "output_type": "stream",
     "text": [
      "{'precision': 0.9999999989999999, 'recall': 1.0, 'f1': 0.9999999989999999, 'ap': 0.9999999989999999, 'mean_iou': 1.0000000742395245}\n",
      "{'precision': 0.9999999989999999, 'recall': 1.0, 'f1': 0.9999999989999999, 'ap': 0.9999999989999999, 'mean_iou': 1.0000000742395245}\n"
     ]
    }
   ],
   "source": [
    "test_ground_truth = detections[0][:4]\n",
    "evaluation = detector.evaluate([test_ground_truth], prediction=detections)\n",
    "print(evaluation)\n",
    "evaluation_from_raw = detector.evaluate([test_ground_truth], input_data=image)\n",
    "print(evaluation_from_raw)"
   ]
  },
  {
   "cell_type": "code",
   "execution_count": null,
   "metadata": {},
   "outputs": [
    {
     "name": "stderr",
     "output_type": "stream",
     "text": [
      "Predicting detection batch: 100%|██████████| 12/12 [00:01<00:00,  7.95it/s]"
     ]
    },
    {
     "name": "stdout",
     "output_type": "stream",
     "text": [
      "[[(299.6396789550781, 227.94766235351562, 359.2038, 365.33246, 0.8300006985664368)], [(299.6396789550781, 227.94766235351562, 359.2038, 365.33246, 0.8300006985664368)], [(299.6396789550781, 227.94766235351562, 359.2038, 365.33246, 0.8300006985664368)], [(299.6396789550781, 227.94766235351562, 359.2038, 365.33246, 0.8300006985664368)], [(299.6396789550781, 227.94766235351562, 359.2038, 365.33246, 0.8300006985664368)], [(299.6396789550781, 227.94766235351562, 359.2038, 365.33246, 0.8300006985664368)], [(299.6396789550781, 227.94766235351562, 359.2038, 365.33246, 0.8300006985664368)], [(299.6396789550781, 227.94766235351562, 359.2038, 365.33246, 0.8300006985664368)], [(299.6396789550781, 227.94766235351562, 359.2038, 365.33246, 0.8300006985664368)], [(299.6396789550781, 227.94766235351562, 359.2038, 365.33246, 0.8300006985664368)], [(299.6396789550781, 227.94766235351562, 359.2038, 365.33246, 0.8300006985664368)], [(299.6396789550781, 227.94766235351562, 359.2038, 365.33246, 0.8300006985664368)]]\n"
     ]
    },
    {
     "name": "stderr",
     "output_type": "stream",
     "text": [
      "\n"
     ]
    }
   ],
   "source": [
    "image_path2 = str(Path(\"test_img\") / \"640px-Aedes_aegypti2.jpg\")\n",
    "image2 = cv2.imread(image_path2)\n",
    "image2 = cv2.cvtColor(image2, cv2.COLOR_BGR2RGB)\n",
    "\n",
    "batch = [\n",
    "    image,\n",
    "    image2,\n",
    "    image,\n",
    "    image2,\n",
    "    image,\n",
    "    image2,\n",
    "    image,\n",
    "    image2,\n",
    "    image,\n",
    "    image2,\n",
    "    image,\n",
    "    image2,\n",
    "]\n",
    "\n",
    "detections_batch = detector.predict_batch(batch)\n",
    "print(detections_batch)"
   ]
  },
  {
   "cell_type": "code",
   "execution_count": null,
   "metadata": {},
   "outputs": [
    {
     "name": "stderr",
     "output_type": "stream",
     "text": [
      "Calculating metrics: 100%|██████████| 12/12 [00:00<?, ?it/s]"
     ]
    },
    {
     "name": "stdout",
     "output_type": "stream",
     "text": [
      "{'precision': 0.9999999989999999, 'precision_std': 0.0, 'precision_count': 12, 'ap': 0.9999999989999999, 'ap_std': 0.0, 'ap_count': 12, 'recall': 1.0, 'recall_std': 0.0, 'recall_count': 12, 'f1': 0.9999999989999999, 'f1_std': 0.0, 'f1_count': 12, 'mean_iou': 0.9999999014711887, 'mean_iou_std': 1.1102230246251565e-16, 'mean_iou_count': 12}\n"
     ]
    },
    {
     "name": "stderr",
     "output_type": "stream",
     "text": [
      "\n"
     ]
    }
   ],
   "source": [
    "# Assuming detections_batch is in the format: [[(x,y,w,h,conf), ...], [(x,y,w,h,conf), ...], ...]\n",
    "# Create ground truth batch in the correct format\n",
    "batch_test_gt = [[(x, y, w, h) for (x, y, w, h, conf) in detections] for detections in detections_batch]\n",
    "\n",
    "# Now call evaluate_batch with the correct format\n",
    "batch_evaluation = detector.evaluate_batch(\n",
    "    ground_truth_batch=batch_test_gt,  # List of lists of ground truth boxes\n",
    "    input_data_batch=None,  # We're providing predictions directly\n",
    "    predictions_batch=detections_batch,  # List of lists of predictions with confidence\n",
    "    num_workers=1,  # Use single worker for deterministic results\n",
    ")\n",
    "\n",
    "print(batch_evaluation)"
   ]
  }
 ],
 "metadata": {
  "kernelspec": {
   "display_name": ".venv",
   "language": "python",
   "name": "python3"
  },
  "language_info": {
   "codemirror_mode": {
    "name": "ipython",
    "version": 3
   },
   "file_extension": ".py",
   "mimetype": "text/x-python",
   "name": "python",
   "nbconvert_exporter": "python",
   "pygments_lexer": "ipython3",
   "version": "3.11.6"
  }
 },
 "nbformat": 4,
 "nbformat_minor": 4
}
