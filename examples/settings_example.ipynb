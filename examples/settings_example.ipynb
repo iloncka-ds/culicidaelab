{
 "cells": [
  {
   "cell_type": "markdown",
   "metadata": {},
   "source": [
    "# CulicidaeLab Settings Module Example\n",
    "\n",
    "This notebook demonstrates how to use the settings module in CulicidaeLab."
   ]
  },
  {
   "cell_type": "code",
   "execution_count": 1,
   "metadata": {},
   "outputs": [
    {
     "name": "stderr",
     "output_type": "stream",
     "text": [
      "c:\\Users\\lenova\\CascadeProjects\\culicidaelab\\.venv\\Lib\\site-packages\\pydantic\\_internal\\_fields.py:132: UserWarning: Field \"model_path\" in PredictorConfig has conflict with protected namespace \"model_\".\n",
      "\n",
      "You may be able to resolve this warning by setting `model_config['protected_namespaces'] = ()`.\n",
      "  warnings.warn(\n",
      "c:\\Users\\lenova\\CascadeProjects\\culicidaelab\\.venv\\Lib\\site-packages\\tqdm\\auto.py:21: TqdmWarning: IProgress not found. Please update jupyter and ipywidgets. See https://ipywidgets.readthedocs.io/en/stable/user_install.html\n",
      "  from .autonotebook import tqdm as notebook_tqdm\n"
     ]
    }
   ],
   "source": [
    "from culicidaelab.core.settings import get_settings\n",
    "import os"
   ]
  },
  {
   "cell_type": "markdown",
   "metadata": {},
   "source": [
    "## 1. Using Default Settings\n",
    "\n",
    "Get the default settings instance. This will use configurations from the default_configs directory."
   ]
  },
  {
   "cell_type": "code",
   "execution_count": 2,
   "metadata": {},
   "outputs": [
    {
     "name": "stdout",
     "output_type": "stream",
     "text": [
      "Config directory: C:\\Users\\lenova\\CascadeProjects\\culicidaelab\\culicidaelab\\conf\n",
      "Models directory: C:\\Users\\lenova\\AppData\\Local\\culicidaelab\\culicidaelab\\models\n",
      "Datasets directory: C:\\Users\\lenova\\AppData\\Local\\culicidaelab\\culicidaelab\\datasets\n",
      "Cache directory: C:\\Users\\lenova\\AppData\\Local\\culicidaelab\\culicidaelab\\Cache\n"
     ]
    }
   ],
   "source": [
    "# Get default settings\n",
    "settings = get_settings()\n",
    "\n",
    "# Print some basic information\n",
    "print(f\"Config directory: {settings.config_dir}\")\n",
    "print(f\"Models directory: {settings.model_dir}\")\n",
    "print(f\"Datasets directory: {settings.dataset_dir}\")\n",
    "print(f\"Cache directory: {settings.cache_dir}\")"
   ]
  },
  {
   "cell_type": "markdown",
   "metadata": {},
   "source": [
    "## 2. Working with Model Weights\n",
    "\n",
    "Demonstrate how to get model weights paths and handle downloads."
   ]
  },
  {
   "cell_type": "code",
   "execution_count": 3,
   "metadata": {},
   "outputs": [
    {
     "name": "stdout",
     "output_type": "stream",
     "text": [
      "Model weights paths:\n",
      "Detection: C:\\Users\\lenova\\AppData\\Local\\culicidaelab\\culicidaelab\\models\\weights\\detection\\culico-net-det-v1-nano.pt\n",
      "Segmentation: C:\\Users\\lenova\\AppData\\Local\\culicidaelab\\culicidaelab\\models\\weights\\segmentation\\sam2.1_hiera_tiny.pt\n",
      "Classification: C:\\Users\\lenova\\AppData\\Local\\culicidaelab\\culicidaelab\\models\\weights\\classification\\culico-net-cls-v1-17.pkl\n"
     ]
    }
   ],
   "source": [
    "# Get paths for different model types\n",
    "detection_weights = settings.get_model_weights(\"detector\")\n",
    "segmentation_weights = settings.get_model_weights(\"segmenter\")\n",
    "classification_weights = settings.get_model_weights(\"classifier\")\n",
    "\n",
    "print(\"Model weights paths:\")\n",
    "print(f\"Detection: {detection_weights}\")\n",
    "print(f\"Segmentation: {segmentation_weights}\")\n",
    "print(f\"Classification: {classification_weights}\")"
   ]
  },
  {
   "cell_type": "markdown",
   "metadata": {},
   "source": [
    "## 3. Working with Species Configuration\n",
    "\n",
    "Access species information from the configuration."
   ]
  },
  {
   "cell_type": "code",
   "execution_count": 9,
   "metadata": {},
   "outputs": [
    {
     "name": "stdout",
     "output_type": "stream",
     "text": [
      "Species mapping:\n",
      "Class 0: aedes_aegypti\n",
      "Class 1: aedes_albopictus\n",
      "Class 2: aedes_canadensis\n",
      "Class 3: aedes_dorsalis\n",
      "Class 4: aedes_geniculatus\n",
      "Class 5: aedes_koreicus\n",
      "Class 6: aedes_triseriatus\n",
      "Class 7: aedes_vexans\n",
      "Class 8: anopheles_arabiensis\n",
      "Class 9: anopheles_freeborni\n",
      "Class 10: anopheles_sinensis\n",
      "Class 11: class_background\n",
      "Class 12: culex_inatomii\n",
      "Class 13: culex_pipiens\n",
      "Class 14: culex_quinquefasciatus\n",
      "Class 15: culex_tritaeniorhynchus\n",
      "Class 16: culiseta_annulata\n",
      "Class 17: culiseta_longiareolata\n"
     ]
    },
    {
     "ename": "AttributeError",
     "evalue": "'SpeciesFiles' object has no attribute 'get'",
     "output_type": "error",
     "traceback": [
      "\u001b[1;31m---------------------------------------------------------------------------\u001b[0m",
      "\u001b[1;31mAttributeError\u001b[0m                            Traceback (most recent call last)",
      "\u001b[1;32m~\\AppData\\Local\\Temp\\ipykernel_22924\\1943068205.py\u001b[0m in \u001b[0;36m<cell line: 0>\u001b[1;34m()\u001b[0m\n\u001b[0;32m      9\u001b[0m \u001b[1;31m# Print metadata for a specific species\u001b[0m\u001b[1;33m\u001b[0m\u001b[1;33m\u001b[0m\u001b[0m\n\u001b[0;32m     10\u001b[0m \u001b[0mspecies_name\u001b[0m \u001b[1;33m=\u001b[0m \u001b[1;34m\"Aedes aegypti\"\u001b[0m\u001b[1;33m\u001b[0m\u001b[1;33m\u001b[0m\u001b[0m\n\u001b[1;32m---> 11\u001b[1;33m \u001b[0mmetadata\u001b[0m \u001b[1;33m=\u001b[0m \u001b[0mspecies_config\u001b[0m\u001b[1;33m.\u001b[0m\u001b[0mget_species_metadata\u001b[0m\u001b[1;33m(\u001b[0m\u001b[0mspecies_name\u001b[0m\u001b[1;33m)\u001b[0m\u001b[1;33m\u001b[0m\u001b[1;33m\u001b[0m\u001b[0m\n\u001b[0m\u001b[0;32m     12\u001b[0m \u001b[0mprint\u001b[0m\u001b[1;33m(\u001b[0m\u001b[1;34mf\"\\nMetadata for {species_name}:\"\u001b[0m\u001b[1;33m)\u001b[0m\u001b[1;33m\u001b[0m\u001b[1;33m\u001b[0m\u001b[0m\n\u001b[0;32m     13\u001b[0m \u001b[1;32mfor\u001b[0m \u001b[0mkey\u001b[0m\u001b[1;33m,\u001b[0m \u001b[0mvalue\u001b[0m \u001b[1;32min\u001b[0m \u001b[0mmetadata\u001b[0m\u001b[1;33m.\u001b[0m\u001b[0mitems\u001b[0m\u001b[1;33m(\u001b[0m\u001b[1;33m)\u001b[0m\u001b[1;33m:\u001b[0m\u001b[1;33m\u001b[0m\u001b[1;33m\u001b[0m\u001b[0m\n",
      "\u001b[1;32m~\\CascadeProjects\\culicidaelab\\culicidaelab\\core\\species_config.py\u001b[0m in \u001b[0;36mget_species_metadata\u001b[1;34m(self, species_name)\u001b[0m\n\u001b[0;32m     28\u001b[0m     \u001b[1;32mdef\u001b[0m \u001b[0mget_species_metadata\u001b[0m\u001b[1;33m(\u001b[0m\u001b[0mself\u001b[0m\u001b[1;33m,\u001b[0m \u001b[0mspecies_name\u001b[0m\u001b[1;33m:\u001b[0m \u001b[0mstr\u001b[0m\u001b[1;33m)\u001b[0m \u001b[1;33m->\u001b[0m \u001b[0mDict\u001b[0m\u001b[1;33m[\u001b[0m\u001b[0mstr\u001b[0m\u001b[1;33m,\u001b[0m \u001b[0mAny\u001b[0m\u001b[1;33m]\u001b[0m\u001b[1;33m:\u001b[0m\u001b[1;33m\u001b[0m\u001b[1;33m\u001b[0m\u001b[0m\n\u001b[0;32m     29\u001b[0m         \u001b[1;34m\"\"\"Get metadata for a specific species.\"\"\"\u001b[0m\u001b[1;33m\u001b[0m\u001b[1;33m\u001b[0m\u001b[0m\n\u001b[1;32m---> 30\u001b[1;33m         \u001b[1;32mreturn\u001b[0m \u001b[0mself\u001b[0m\u001b[1;33m.\u001b[0m\u001b[0m_config\u001b[0m\u001b[1;33m.\u001b[0m\u001b[0mspecies_metadata\u001b[0m\u001b[1;33m.\u001b[0m\u001b[0mget\u001b[0m\u001b[1;33m(\u001b[0m\u001b[0mspecies_name\u001b[0m\u001b[1;33m,\u001b[0m \u001b[1;33m{\u001b[0m\u001b[1;33m}\u001b[0m\u001b[1;33m)\u001b[0m\u001b[1;33m\u001b[0m\u001b[1;33m\u001b[0m\u001b[0m\n\u001b[0m\u001b[0;32m     31\u001b[0m \u001b[1;33m\u001b[0m\u001b[0m\n\u001b[0;32m     32\u001b[0m     \u001b[1;32mdef\u001b[0m \u001b[0mget_species_by_index\u001b[0m\u001b[1;33m(\u001b[0m\u001b[0mself\u001b[0m\u001b[1;33m,\u001b[0m \u001b[0mindex\u001b[0m\u001b[1;33m:\u001b[0m \u001b[0mint\u001b[0m\u001b[1;33m)\u001b[0m \u001b[1;33m->\u001b[0m \u001b[0mOptional\u001b[0m\u001b[1;33m[\u001b[0m\u001b[0mstr\u001b[0m\u001b[1;33m]\u001b[0m\u001b[1;33m:\u001b[0m\u001b[1;33m\u001b[0m\u001b[1;33m\u001b[0m\u001b[0m\n",
      "\u001b[1;32mc:\\Users\\lenova\\CascadeProjects\\culicidaelab\\.venv\\Lib\\site-packages\\pydantic\\main.py\u001b[0m in \u001b[0;36m__getattr__\u001b[1;34m(self, item)\u001b[0m\n\u001b[0;32m    854\u001b[0m                     \u001b[1;32melse\u001b[0m\u001b[1;33m:\u001b[0m\u001b[1;33m\u001b[0m\u001b[1;33m\u001b[0m\u001b[0m\n\u001b[0;32m    855\u001b[0m                         \u001b[1;31m# this is the current error\u001b[0m\u001b[1;33m\u001b[0m\u001b[1;33m\u001b[0m\u001b[0m\n\u001b[1;32m--> 856\u001b[1;33m                         \u001b[1;32mraise\u001b[0m \u001b[0mAttributeError\u001b[0m\u001b[1;33m(\u001b[0m\u001b[1;34mf'{type(self).__name__!r} object has no attribute {item!r}'\u001b[0m\u001b[1;33m)\u001b[0m\u001b[1;33m\u001b[0m\u001b[1;33m\u001b[0m\u001b[0m\n\u001b[0m\u001b[0;32m    857\u001b[0m \u001b[1;33m\u001b[0m\u001b[0m\n\u001b[0;32m    858\u001b[0m         \u001b[1;32mdef\u001b[0m \u001b[0m__setattr__\u001b[0m\u001b[1;33m(\u001b[0m\u001b[0mself\u001b[0m\u001b[1;33m,\u001b[0m \u001b[0mname\u001b[0m\u001b[1;33m:\u001b[0m \u001b[0mstr\u001b[0m\u001b[1;33m,\u001b[0m \u001b[0mvalue\u001b[0m\u001b[1;33m:\u001b[0m \u001b[0mAny\u001b[0m\u001b[1;33m)\u001b[0m \u001b[1;33m->\u001b[0m \u001b[1;32mNone\u001b[0m\u001b[1;33m:\u001b[0m\u001b[1;33m\u001b[0m\u001b[1;33m\u001b[0m\u001b[0m\n",
      "\u001b[1;31mAttributeError\u001b[0m: 'SpeciesFiles' object has no attribute 'get'"
     ]
    }
   ],
   "source": [
    "# Get species configuration\n",
    "species_config = settings.species_config\n",
    "\n",
    "# Print species mapping\n",
    "print(\"Species mapping:\")\n",
    "for idx, species in species_config.species_map.items():\n",
    "    print(f\"Class {idx}: {species}\")\n",
    "\n",
    "# Print metadata for a specific species\n",
    "species_name = \"Aedes aegypti\"\n",
    "metadata = species_config.get_species_metadata(species_name)\n",
    "print(f\"\\nMetadata for {species_name}:\")\n",
    "for key, value in metadata.items():\n",
    "    print(f\"{key}: {value}\")"
   ]
  },
  {
   "cell_type": "code",
   "execution_count": 8,
   "metadata": {},
   "outputs": [
    {
     "data": {
      "text/plain": [
       "['__class__',\n",
       " '__delattr__',\n",
       " '__dict__',\n",
       " '__dir__',\n",
       " '__doc__',\n",
       " '__eq__',\n",
       " '__format__',\n",
       " '__ge__',\n",
       " '__getattribute__',\n",
       " '__getstate__',\n",
       " '__gt__',\n",
       " '__hash__',\n",
       " '__init__',\n",
       " '__init_subclass__',\n",
       " '__le__',\n",
       " '__lt__',\n",
       " '__module__',\n",
       " '__ne__',\n",
       " '__new__',\n",
       " '__reduce__',\n",
       " '__reduce_ex__',\n",
       " '__repr__',\n",
       " '__setattr__',\n",
       " '__sizeof__',\n",
       " '__str__',\n",
       " '__subclasshook__',\n",
       " '__weakref__',\n",
       " '_config',\n",
       " '_reverse_species_map',\n",
       " '_species_map',\n",
       " 'get_index_by_species',\n",
       " 'get_species_by_index',\n",
       " 'get_species_metadata',\n",
       " 'species_map']"
      ]
     },
     "execution_count": 8,
     "metadata": {},
     "output_type": "execute_result"
    }
   ],
   "source": [
    "dir(species_config)\n"
   ]
  },
  {
   "cell_type": "markdown",
   "metadata": {},
   "source": [
    "## 4. Using Custom Configuration\n",
    "\n",
    "Demonstrate how to use custom configuration directory."
   ]
  },
  {
   "cell_type": "code",
   "execution_count": null,
   "metadata": {},
   "outputs": [
    {
     "ename": "FileNotFoundError",
     "evalue": "Configuration file 'culicidaelab/conf/custom_configs\\config.yaml' does not exist.",
     "output_type": "error",
     "traceback": [
      "\u001b[1;31m---------------------------------------------------------------------------\u001b[0m",
      "\u001b[1;31mFileNotFoundError\u001b[0m                         Traceback (most recent call last)",
      "\u001b[1;32m~\\AppData\\Local\\Temp\\ipykernel_1884\\2855759838.py\u001b[0m in \u001b[0;36m<cell line: 0>\u001b[1;34m()\u001b[0m\n\u001b[0;32m      6\u001b[0m \u001b[0mconfig_file_path\u001b[0m \u001b[1;33m=\u001b[0m \u001b[0mos\u001b[0m\u001b[1;33m.\u001b[0m\u001b[0mpath\u001b[0m\u001b[1;33m.\u001b[0m\u001b[0mjoin\u001b[0m\u001b[1;33m(\u001b[0m\u001b[0mcustom_config_dir\u001b[0m\u001b[1;33m,\u001b[0m \u001b[1;34m\"config.yaml\"\u001b[0m\u001b[1;33m)\u001b[0m\u001b[1;33m\u001b[0m\u001b[1;33m\u001b[0m\u001b[0m\n\u001b[0;32m      7\u001b[0m \u001b[1;32mif\u001b[0m \u001b[1;32mnot\u001b[0m \u001b[0mos\u001b[0m\u001b[1;33m.\u001b[0m\u001b[0mpath\u001b[0m\u001b[1;33m.\u001b[0m\u001b[0mexists\u001b[0m\u001b[1;33m(\u001b[0m\u001b[0mconfig_file_path\u001b[0m\u001b[1;33m)\u001b[0m\u001b[1;33m:\u001b[0m\u001b[1;33m\u001b[0m\u001b[1;33m\u001b[0m\u001b[0m\n\u001b[1;32m----> 8\u001b[1;33m     \u001b[1;32mraise\u001b[0m \u001b[0mFileNotFoundError\u001b[0m\u001b[1;33m(\u001b[0m\u001b[1;34mf\"Configuration file '{config_file_path}' does not exist.\"\u001b[0m\u001b[1;33m)\u001b[0m\u001b[1;33m\u001b[0m\u001b[1;33m\u001b[0m\u001b[0m\n\u001b[0m\u001b[0;32m      9\u001b[0m \u001b[1;32melse\u001b[0m\u001b[1;33m:\u001b[0m\u001b[1;33m\u001b[0m\u001b[1;33m\u001b[0m\u001b[0m\n\u001b[0;32m     10\u001b[0m     \u001b[1;32mwith\u001b[0m \u001b[0mopen\u001b[0m\u001b[1;33m(\u001b[0m\u001b[0mconfig_file_path\u001b[0m\u001b[1;33m,\u001b[0m \u001b[1;34m\"r\"\u001b[0m\u001b[1;33m)\u001b[0m \u001b[1;32mas\u001b[0m \u001b[0mfile\u001b[0m\u001b[1;33m:\u001b[0m\u001b[1;33m\u001b[0m\u001b[1;33m\u001b[0m\u001b[0m\n",
      "\u001b[1;31mFileNotFoundError\u001b[0m: Configuration file 'culicidaelab/conf/custom_configs\\config.yaml' does not exist."
     ]
    }
   ],
   "source": [
    "# Create a custom config directory\n",
    "custom_config_dir = \"culicidaelab/conf/custom_configs\"\n",
    "os.makedirs(custom_config_dir, exist_ok=True)\n",
    "\n",
    "# Validate the custom configuration directory contains the required key\n",
    "config_file_path = os.path.join(custom_config_dir, \"config.yaml\")\n",
    "required_key = \"required_key\"  # Replace with the actual key you want to check\n",
    "if not os.path.exists(config_file_path):\n",
    "    raise FileNotFoundError(f\"Configuration file '{config_file_path}' does not exist.\")\n",
    "else:\n",
    "    with open(config_file_path, \"r\") as file:\n",
    "        config_data = yaml.safe_load(file)\n",
    "        if required_key not in config_data:\n",
    "            raise KeyError(f\"Missing required key '{required_key}' in custom configuration file.\")\n",
    "\n",
    "# Get settings with custom config directory\n",
    "custom_settings = get_settings(config_dir=custom_config_dir)\n",
    "\n",
    "print(f\"Custom config directory: {custom_settings.config_dir}\")\n",
    "\n",
    "# Note: This will use default configs if custom configs are not found\n",
    "print(f\"Using default configs: {custom_settings.config_dir == settings.config_dir}\")"
   ]
  }
 ],
 "metadata": {
  "kernelspec": {
   "display_name": ".venv",
   "language": "python",
   "name": "python3"
  },
  "language_info": {
   "codemirror_mode": {
    "name": "ipython",
    "version": 3
   },
   "file_extension": ".py",
   "mimetype": "text/x-python",
   "name": "python",
   "nbconvert_exporter": "python",
   "pygments_lexer": "ipython3",
   "version": "3.11.6"
  }
 },
 "nbformat": 4,
 "nbformat_minor": 4
}
