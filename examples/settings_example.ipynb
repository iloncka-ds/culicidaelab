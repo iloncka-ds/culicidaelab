{
 "cells": [
  {
   "cell_type": "markdown",
   "metadata": {},
   "source": [
    "# CulicidaeLab Settings Module Example\n",
    "\n",
    "This notebook demonstrates how to use the settings module in CulicidaeLab."
   ]
  },
  {
   "cell_type": "code",
   "execution_count": 1,
   "metadata": {},
   "outputs": [
    {
     "ename": "ModuleNotFoundError",
     "evalue": "No module named 'culicidaelab.settings'",
     "output_type": "error",
     "traceback": [
      "\u001b[1;31m---------------------------------------------------------------------------\u001b[0m",
      "\u001b[1;31mModuleNotFoundError\u001b[0m                       Traceback (most recent call last)",
      "\u001b[1;32m~\\AppData\\Local\\Temp\\ipykernel_15560\\781197056.py\u001b[0m in \u001b[0;36m<cell line: 0>\u001b[1;34m()\u001b[0m\n\u001b[1;32m----> 1\u001b[1;33m \u001b[1;32mfrom\u001b[0m \u001b[0mculicidaelab\u001b[0m\u001b[1;33m.\u001b[0m\u001b[0msettings\u001b[0m \u001b[1;32mimport\u001b[0m \u001b[0mget_settings\u001b[0m\u001b[1;33m\u001b[0m\u001b[1;33m\u001b[0m\u001b[0m\n\u001b[0m\u001b[0;32m      2\u001b[0m \u001b[1;32mimport\u001b[0m \u001b[0mos\u001b[0m\u001b[1;33m\u001b[0m\u001b[1;33m\u001b[0m\u001b[0m\n",
      "\u001b[1;31mModuleNotFoundError\u001b[0m: No module named 'culicidaelab.settings'"
     ]
    }
   ],
   "source": [
    "from culicidaelab.settings import get_settings\n",
    "import os"
   ]
  },
  {
   "cell_type": "markdown",
   "metadata": {},
   "source": [
    "## 1. Using Default Settings\n",
    "\n",
    "Get the default settings instance. This will use configurations from the default_configs directory."
   ]
  },
  {
   "cell_type": "code",
   "execution_count": null,
   "metadata": {},
   "outputs": [
    {
     "name": "stdout",
     "output_type": "stream",
     "text": [
      "Config path: ../conf\n",
      "Config name: config\n",
      "Overrides: ['app_settings=development']\n",
      "Weights directory: C:\\Users\\lenova\\CascadeProjects\\culicidaelab\\culicidaelab\\weights\\development\n",
      "Datasets directory: C:\\Users\\lenova\\CascadeProjects\\culicidaelab\\culicidaelab\\datasets\\development\n",
      "Cache directory: C:\\Users\\lenova\\CascadeProjects\\culicidaelab\\culicidaelab\\cache\\development\n"
     ]
    }
   ],
   "source": [
    "# Get default settings\n",
    "settings = get_settings()\n",
    "\n",
    "# Print some basic information\n",
    "# print(f\"Config directory: {settings.config_dir}\")\n",
    "print(f\"Weights directory: {settings.weights_dir}\")\n",
    "print(f\"Datasets directory: {settings.datasets_dir}\")\n",
    "print(f\"Cache directory: {settings.cache_dir}\")"
   ]
  },
  {
   "cell_type": "markdown",
   "metadata": {},
   "source": [
    "## 2. Working with Model Weights\n",
    "\n",
    "Demonstrate how to get model weights paths and handle downloads."
   ]
  },
  {
   "cell_type": "code",
   "execution_count": null,
   "metadata": {},
   "outputs": [
    {
     "name": "stdout",
     "output_type": "stream",
     "text": [
      "Config state: {'hydra': {'run': {'dir': 'outputs/${now:%Y-%m-%d}/${now:%H-%M-%S}'}, 'sweep': {'dir': 'multirun/${now:%Y-%m-%d}/${now:%H-%M-%S}', 'subdir': '${hydra.job.num}'}, 'launcher': {'_target_': 'hydra._internal.core_plugins.basic_launcher.BasicLauncher'}, 'sweeper': {'_target_': 'hydra._internal.core_plugins.basic_sweeper.BasicSweeper', 'max_batch_size': None, 'params': None}, 'help': {'app_name': '${hydra.job.name}', 'header': '${hydra.help.app_name} is powered by Hydra.\\n', 'footer': 'Powered by Hydra (https://hydra.cc)\\nUse --hydra-help to view Hydra specific help\\n', 'template': '${hydra.help.header}\\n== Configuration groups ==\\nCompose your configuration from those groups (group=option)\\n\\n$APP_CONFIG_GROUPS\\n\\n== Config ==\\nOverride anything in the config (foo.bar=value)\\n\\n$CONFIG\\n\\n${hydra.help.footer}\\n'}, 'hydra_help': {'template': \"Hydra (${hydra.runtime.version})\\nSee https://hydra.cc for more info.\\n\\n== Flags ==\\n$FLAGS_HELP\\n\\n== Configuration groups ==\\nCompose your configuration from those groups (For example, append hydra/job_logging=disabled to command line)\\n\\n$HYDRA_CONFIG_GROUPS\\n\\nUse '--cfg hydra' to Show the Hydra config.\\n\", 'hydra_help': '???'}, 'hydra_logging': {'version': 1, 'formatters': {'simple': {'format': '[%(asctime)s][HYDRA] %(message)s'}}, 'handlers': {'console': {'class': 'logging.StreamHandler', 'formatter': 'simple', 'stream': 'ext://sys.stdout'}}, 'root': {'level': 'INFO', 'handlers': ['console']}, 'loggers': {'logging_example': {'level': 'DEBUG'}}, 'disable_existing_loggers': False}, 'job_logging': {'version': 1, 'formatters': {'simple': {'format': '[%(asctime)s][%(name)s][%(levelname)s] - %(message)s'}}, 'handlers': {'console': {'class': 'logging.StreamHandler', 'formatter': 'simple', 'stream': 'ext://sys.stdout'}, 'file': {'class': 'logging.FileHandler', 'formatter': 'simple', 'filename': '${hydra.runtime.output_dir}/${hydra.job.name}.log'}}, 'root': {'level': 'INFO', 'handlers': ['console', 'file']}, 'disable_existing_loggers': False}, 'env': {}, 'mode': None, 'searchpath': [], 'callbacks': {}, 'output_subdir': '.hydra', 'overrides': {'hydra': [], 'task': ['app_settings=development']}, 'job': {'name': 'config_manager', 'chdir': None, 'override_dirname': 'app_settings=development', 'id': '???', 'num': '???', 'config_name': 'config', 'env_set': {}, 'env_copy': [], 'config': {'override_dirname': {'kv_sep': '=', 'item_sep': ',', 'exclude_keys': []}}}, 'runtime': {'version': '1.3.2', 'version_base': '1.3', 'cwd': 'c:\\\\Users\\\\lenova\\\\CascadeProjects\\\\culicidaelab\\\\examples', 'config_sources': [{'path': 'hydra.conf', 'schema': 'pkg', 'provider': 'hydra'}, {'path': 'C:\\\\Users\\\\lenova\\\\CascadeProjects\\\\culicidaelab\\\\conf', 'schema': 'file', 'provider': 'main'}, {'path': '', 'schema': 'structured', 'provider': 'schema'}], 'output_dir': '???', 'choices': {'models': 'models_config', 'models/model_weights': 'weights', 'datasets': 'datasets_config', 'app_settings': 'development', 'hydra/env': 'default', 'hydra/callbacks': None, 'hydra/job_logging': 'default', 'hydra/hydra_logging': 'default', 'hydra/hydra_help': 'default', 'hydra/help': 'default', 'hydra/sweeper': 'basic', 'hydra/launcher': 'basic', 'hydra/output': 'default'}}, 'verbose': False}, 'app_settings': {'base_dirs': {'cache': 'cache/development', 'weights': 'weights/development', 'datasets': 'datasets/development'}, 'logging': {'level': 'DEBUG', 'handlers': ['console', 'file']}, 'api': {'endpoint': 'https://api.dev.example.com', 'timeout': 30}}, 'datasets': {'datasets': {'detection': {'repository': 'iloncka/mosquito-species-detection-dataset', 'dataset_name': 'detection', 'dataset_metadata': 'None', 'dataset_dir': 'datasets'}, 'segmentation': {'repository': 'iloncka/mosquito-species-segmentation-dataset', 'dataset_name': 'segmentation', 'dataset_metadata': 'None', 'dataset_dir': 'datasets'}, 'classification': {'repository': 'iloncka/mosquito-species-classification-dataset', 'dataset_name': 'classification', 'dataset_metadata': 'None', 'dataset_dir': 'datasets'}}}, 'models': {'model_weights': {'detection': {'local_path': 'weights/detection/culico-net-det-v1-nano.pt', 'remote_repo': 'iloncka/culico-net-det-v1', 'remote_file': 'culico-net-det-v1-nano.pt'}, 'segmentation': {'local_path': 'weights/segmentation/sam2.1_hiera_tiny.pt', 'remote_repo': 'iloncka/culico-net-segm-v1-nano', 'remote_file': 'sam2.1_hiera_tiny.pt'}, 'classification': {'local_path': 'weights/classification/culico-net-cls-v1-17.pkl', 'remote_repo': 'iloncka/culico-net-cls-v1', 'remote_file': 'culico-net-cls-v1-17.pkl'}}, 'models': {'_target_': 'culicidaelab.model_weights_manager.ModelWeightsConfig', 'detection': {'model_arch': 'yolov11n', 'local_path': '${model_weights.detection.local_path}', 'remote_repo': '${model_weights.detection.remote_repo}', 'remote_file': '${model_weights.detection.remote_file}', 'params': {'confidence_threshold': 0.25, 'iou_threshold': 0.45, 'max_detections': 1}}, 'segmentation': {'model_arch': 'sam2.1_hiera_tiny', 'local_path': '${model_weights.segmentation.local_path}', 'remote_repo': '${model_weights.segmentation.remote_repo}', 'remote_file': '${model_weights.segmentation.remote_file}', 'params': {'points_per_side': 32, 'pred_iou_thresh': 0.88, 'stability_score_thresh': 0.95}}, 'classification': {'model_arch': 'tiny_vit_21m_224.in1k', 'local_path': '${model_weights.classification.local_path}', 'remote_repo': '${model_weights.classification.remote_repo}', 'remote_file': '${model_weights.classification.remote_file}', 'classes': 'species_classes.yaml', 'params': {'input_size': 224, 'mean': [0.485, 0.456, 0.406], 'std': [0.229, 0.224, 0.225]}}}}, 'species': {'species_classes': {0: 'aedes_aegypti', 1: 'aedes_albopictus', 2: 'aedes_canadensis', 3: 'aedes_dorsalis', 4: 'aedes_geniculatus', 5: 'aedes_koreicus', 6: 'aedes_triseriatus', 7: 'aedes_vexans', 8: 'anopheles_arabiensis', 9: 'anopheles_freeborni', 10: 'anopheles_sinensis', 11: 'class_background', 12: 'culex_inatomii', 13: 'culex_pipiens', 14: 'culex_quinquefasciatus', 15: 'culex_tritaeniorhynchus', 16: 'culiseta_annulata', 17: 'culiseta_longiareolata'}, 'species_info_mapping': {'aedes_aegypti': 'Aedes aegypti', 'aedes_albopictus': 'Aedes albopictus', 'aedes_canadensis': 'Aedes canadensis', 'aedes_dorsalis': 'Aedes dorsalis', 'aedes_geniculatus': 'Aedes geniculatus', 'aedes_koreicus': 'Aedes koreicus', 'aedes_triseriatus': 'Aedes triseriatus', 'aedes_vexans': 'Aedes vexans', 'anopheles_arabiensis': 'Anopheles arabiensis', 'anopheles_freeborni': 'Anopheles freeborni', 'anopheles_sinensis': 'Anopheles sinensis', 'class_background': 'Background', 'culex_inatomii': 'Culex inatomii', 'culex_pipiens': 'Culex pipiens', 'culex_quinquefasciatus': 'Culex quinquefasciatus', 'culex_tritaeniorhynchus': 'Culex tritaeniorhynchus', 'culiseta_annulata': 'Culiseta annulata', 'culiseta_longiareolata': 'Culiseta longiareolata'}, 'species_metadata': {'Aedes aegypti': {'common_name': 'Yellow fever mosquito', 'taxonomy': {'family': 'Culicidae', 'subfamily': 'Culicinae', 'genus': 'Aedes', 'subgenus': 'Stegomyia'}, 'metadata': {'vector_status': True, 'diseases': ['Yellow fever', 'Dengue', 'Zika'], 'habitat': 'Urban', 'breeding_sites': ['Artificial containers', 'Tree holes'], 'sources': ['https://www.cdc.gov/zika/geo/aedes-aegypti.html']}}, 'Aedes albopictus': {'common_name': 'Asian tiger mosquito', 'taxonomy': {'family': 'Culicidae', 'subfamily': 'Culicinae', 'genus': 'Aedes', 'subgenus': 'Stegomyia'}, 'metadata': {'vector_status': True, 'diseases': ['Dengue', 'Chikungunya', 'Zika'], 'habitat': 'Urban/Suburban', 'breeding_sites': ['Artificial containers', 'Tree holes'], 'sources': ['https://www.cdc.gov/chikungunya/resources/vector-control.html', 'https://vectorbio.rutgers.edu/outreach/species/albo.htm']}}, 'Aedes canadensis': {'common_name': 'Woodland mosquito', 'taxonomy': {'family': 'Culicidae', 'subfamily': 'Culicinae', 'genus': 'Aedes'}, 'metadata': {'vector_status': True, 'diseases': ['La Crosse encephalitis'], 'habitat': 'Woodlands', 'breeding_sites': ['Temporary pools'], 'sources': ['https://vectorbio.rutgers.edu/outreach/species/sp21.htm']}}, 'Aedes dorsalis': {'common_name': 'Salt marsh mosquito', 'taxonomy': {'family': 'Culicidae', 'subfamily': 'Culicinae', 'genus': 'Aedes'}, 'metadata': {'vector_status': True, 'diseases': ['Western equine encephalitis'], 'habitat': 'Coastal salt marshes', 'breeding_sites': ['Salt marshes'], 'sources': ['https://vectorbio.rutgers.edu/outreach/species/sp14.htm', 'https://www.napamosquito.org/summer-salt-marsh-mosquito-aedes-dorsalis']}}, 'Aedes geniculatus': {'common_name': 'Tree-hole mosquito', 'taxonomy': {'family': 'Culicidae', 'subfamily': 'Culicinae', 'genus': 'Aedes'}, 'metadata': {'vector_status': False, 'diseases': ['Can transmit yellow fever and chikungunya'], 'habitat': 'Forests', 'breeding_sites': ['Tree holes'], 'sources': ['https://wrbu.si.edu/vectorspecies/mosquitoes/geniculatus', 'https://en.wikipedia.org/wiki/Aedes_geniculatus']}}, 'Aedes koreicus': {'common_name': 'Korean bush mosquito', 'taxonomy': {'family': 'Culicidae', 'subfamily': 'Culicinae', 'genus': 'Aedes'}, 'metadata': {'vector_status': True, 'diseases': ['Japanese encephalitis'], 'habitat': 'Urban/Suburban', 'breeding_sites': ['Artificial containers', 'Tree holes'], 'sources': ['https://www.ecdc.europa.eu/en/disease-vectors/facts/mosquito-factsheets/aedes-koreicus']}}, 'Aedes triseriatus': {'common_name': 'Eastern tree-hole mosquito', 'taxonomy': {'family': 'Culicidae', 'subfamily': 'Culicinae', 'genus': 'Aedes'}, 'metadata': {'vector_status': True, 'diseases': ['La Crosse encephalitis'], 'habitat': 'Forests', 'breeding_sites': ['Tree holes'], 'sources': ['https://www.ecdc.europa.eu/en/disease-vectors/facts/mosquito-factsheets/aedes-triseriatus']}}, 'Aedes vexans': {'common_name': 'Inland floodwater mosquito', 'taxonomy': {'family': 'Culicidae', 'subfamily': 'Culicinae', 'genus': 'Aedes'}, 'metadata': {'vector_status': True, 'diseases': ['Western equine encephalitis', 'Eastern equine encephalitis', 'Saint Louis encephalitis'], 'habitat': 'Floodplains', 'breeding_sites': ['Floodwater'], 'sources': ['https://www.ecdc.europa.eu/en/disease-vectors/facts/mosquito-factsheets/aedes-vexans', 'https://www.sciencedirect.com/topics/agricultural-and-biological-sciences/aedes-vexans#:~:text=Aedes%20vexans%20has%20been%20shown,%2C%20and%20Zika%20virus%20(ZIKV)']}}, 'Anopheles arabiensis': {'common_name': 'African malaria mosquito', 'taxonomy': {'family': 'Culicidae', 'subfamily': 'Anophelinae', 'genus': 'Anopheles', 'species_complex': 'Anopheles gambiae complex'}, 'metadata': {'vector_status': True, 'diseases': ['Malaria'], 'habitat': 'Rural', 'breeding_sites': ['Temporary pools'], 'sources': ['https://malariajournal.biomedcentral.com/articles/10.1186/s12936-024-04840-2']}}, 'Anopheles freeborni': {'common_name': 'Western malaria mosquito', 'taxonomy': {'family': 'Culicidae', 'subfamily': 'Anophelinae', 'genus': 'Anopheles'}, 'metadata': {'vector_status': True, 'diseases': ['Malaria'], 'habitat': 'Wetlands', 'breeding_sites': ['Irrigated fields', 'Marshes'], 'sources': ['https://en.wikipedia.org/wiki/Anopheles_freeborni']}}, 'Anopheles sinensis': {'common_name': 'Chinese malaria mosquito', 'taxonomy': {'family': 'Culicidae', 'subfamily': 'Anophelinae', 'genus': 'Anopheles'}, 'metadata': {'vector_status': True, 'diseases': ['Malaria'], 'habitat': 'Rural', 'breeding_sites': ['Rice paddies'], 'sources': ['https://pmc.ncbi.nlm.nih.gov/articles/PMC2712014/']}}, 'Culex inatomii': {'common_name': \"Inatomi's mosquito\", 'taxonomy': {'family': 'Culicidae', 'subfamily': 'Culicinae', 'genus': 'Culex'}, 'metadata': {'vector_status': False, 'diseases': ['West Nile virus'], 'habitat': 'Reed beds in low elevations near the seashore', 'breeding_sites': ['Fresh or brackish water bodies'], 'sources': ['https://bioone.org/journals/journal-of-the-american-mosquito-control-association/volume-29/issue-1/12-6306R.1/Outbreak-of-Culex-inatomii-in-Disaster-Areas-of-the-Great/10.2987/12-6306R.1.short', 'https://www.cabidigitallibrary.org/doi/pdf/10.5555/20123150022', 'https://parasitesandvectors.biomedcentral.com/articles/10.1186/s13071-015-1251-1']}}, 'Culex pipiens': {'common_name': 'Northern house mosquito', 'taxonomy': {'family': 'Culicidae', 'subfamily': 'Culicinae', 'genus': 'Culex'}, 'metadata': {'vector_status': True, 'diseases': ['West Nile virus', 'Lymphatic filariasis'], 'habitat': 'Urban', 'breeding_sites': ['Polluted water', 'Storm drains'], 'sources': ['https://www.ecdc.europa.eu/en/infectious-disease-topics/related-public-health-topics/disease-vectors/facts/mosquito-factsheets/culex-pipiens']}}, 'Culex quinquefasciatus': {'common_name': 'Southern house mosquito', 'taxonomy': {'family': 'Culicidae', 'subfamily': 'Culicinae', 'genus': 'Culex'}, 'metadata': {'vector_status': True, 'diseases': ['West Nile virus', 'Lymphatic filariasis'], 'habitat': 'Urban/Suburban', 'breeding_sites': ['Polluted water', 'Storm drains'], 'sources': ['https://www.sciencedirect.com/topics/agricultural-and-biological-sciences/culex-quinquefasciatus']}}, 'Culex tritaeniorhynchus': {'common_name': 'Rice field mosquito', 'taxonomy': {'family': 'Culicidae', 'subfamily': 'Culicinae', 'genus': 'Culex'}, 'metadata': {'vector_status': True, 'diseases': ['Japanese encephalitis'], 'habitat': 'Rural', 'breeding_sites': ['Rice fields'], 'sources': ['https://pmc.ncbi.nlm.nih.gov/articles/PMC10048298/']}}, 'Culiseta annulata': {'common_name': 'Thebanded mosquito', 'taxonomy': {'family': 'Culicidae', 'subfamily': 'Culicinae', 'genus': 'Culiseta'}, 'metadata': {'vector_status': False, 'diseases': ['investigations of several diseases'], 'habitat': 'Woodlands', 'breeding_sites': ['Temporary pools', 'Marshes'], 'sources': ['https://pmc.ncbi.nlm.nih.gov/articles/PMC6056819/']}}, 'Culiseta longiareolata': {'common_name': 'Large pale mosquito', 'taxonomy': {'family': 'Culicidae', 'subfamily': 'Culicinae', 'genus': 'Culiseta'}, 'metadata': {'vector_status': False, 'diseases': ['West Nile virus'], 'habitat': 'Urban/Suburban', 'breeding_sites': ['Temporary pools'], 'sources': ['https://pubmed.ncbi.nlm.nih.gov/34313772/']}}}}}\n",
      "Available models: {'model_weights': {'detection': {'local_path': 'weights/detection/culico-net-det-v1-nano.pt', 'remote_repo': 'iloncka/culico-net-det-v1', 'remote_file': 'culico-net-det-v1-nano.pt'}, 'segmentation': {'local_path': 'weights/segmentation/sam2.1_hiera_tiny.pt', 'remote_repo': 'iloncka/culico-net-segm-v1-nano', 'remote_file': 'sam2.1_hiera_tiny.pt'}, 'classification': {'local_path': 'weights/classification/culico-net-cls-v1-17.pkl', 'remote_repo': 'iloncka/culico-net-cls-v1', 'remote_file': 'culico-net-cls-v1-17.pkl'}}, 'models': {'_target_': 'culicidaelab.model_weights_manager.ModelWeightsConfig', 'detection': {'model_arch': 'yolov11n', 'local_path': '${model_weights.detection.local_path}', 'remote_repo': '${model_weights.detection.remote_repo}', 'remote_file': '${model_weights.detection.remote_file}', 'params': {'confidence_threshold': 0.25, 'iou_threshold': 0.45, 'max_detections': 1}}, 'segmentation': {'model_arch': 'sam2.1_hiera_tiny', 'local_path': '${model_weights.segmentation.local_path}', 'remote_repo': '${model_weights.segmentation.remote_repo}', 'remote_file': '${model_weights.segmentation.remote_file}', 'params': {'points_per_side': 32, 'pred_iou_thresh': 0.88, 'stability_score_thresh': 0.95}}, 'classification': {'model_arch': 'tiny_vit_21m_224.in1k', 'local_path': '${model_weights.classification.local_path}', 'remote_repo': '${model_weights.classification.remote_repo}', 'remote_file': '${model_weights.classification.remote_file}', 'classes': 'species_classes.yaml', 'params': {'input_size': 224, 'mean': [0.485, 0.456, 0.406], 'std': [0.229, 0.224, 0.225]}}}}\n"
     ]
    },
    {
     "ename": "ValueError",
     "evalue": "Unknown model type: detection",
     "output_type": "error",
     "traceback": [
      "\u001b[1;31m---------------------------------------------------------------------------\u001b[0m",
      "\u001b[1;31mValueError\u001b[0m                                Traceback (most recent call last)",
      "\u001b[1;32m~\\AppData\\Local\\Temp\\ipykernel_9484\\1582434549.py\u001b[0m in \u001b[0;36m<cell line: 0>\u001b[1;34m()\u001b[0m\n\u001b[0;32m      1\u001b[0m \u001b[1;31m# Get paths for different model types\u001b[0m\u001b[1;33m\u001b[0m\u001b[1;33m\u001b[0m\u001b[0m\n\u001b[1;32m----> 2\u001b[1;33m \u001b[0mdetection_weights\u001b[0m \u001b[1;33m=\u001b[0m \u001b[0msettings\u001b[0m\u001b[1;33m.\u001b[0m\u001b[0mget_model_weights\u001b[0m\u001b[1;33m(\u001b[0m\u001b[1;34m'detection'\u001b[0m\u001b[1;33m)\u001b[0m\u001b[1;33m\u001b[0m\u001b[1;33m\u001b[0m\u001b[0m\n\u001b[0m\u001b[0;32m      3\u001b[0m \u001b[0msegmentation_weights\u001b[0m \u001b[1;33m=\u001b[0m \u001b[0msettings\u001b[0m\u001b[1;33m.\u001b[0m\u001b[0mget_model_weights\u001b[0m\u001b[1;33m(\u001b[0m\u001b[1;34m'segmentation'\u001b[0m\u001b[1;33m)\u001b[0m\u001b[1;33m\u001b[0m\u001b[1;33m\u001b[0m\u001b[0m\n\u001b[0;32m      4\u001b[0m \u001b[0mclassification_weights\u001b[0m \u001b[1;33m=\u001b[0m \u001b[0msettings\u001b[0m\u001b[1;33m.\u001b[0m\u001b[0mget_model_weights\u001b[0m\u001b[1;33m(\u001b[0m\u001b[1;34m'classification'\u001b[0m\u001b[1;33m)\u001b[0m\u001b[1;33m\u001b[0m\u001b[1;33m\u001b[0m\u001b[0m\n\u001b[0;32m      5\u001b[0m \u001b[1;33m\u001b[0m\u001b[0m\n",
      "\u001b[1;32m~\\CascadeProjects\\culicidaelab\\culicidaelab\\settings.py\u001b[0m in \u001b[0;36mget_model_weights\u001b[1;34m(self, model_type)\u001b[0m\n\u001b[0;32m    105\u001b[0m         \u001b[0mprint\u001b[0m\u001b[1;33m(\u001b[0m\u001b[1;34mf\"Available models: {self._config.models if hasattr(self._config, 'models') else 'No models found'}\"\u001b[0m\u001b[1;33m)\u001b[0m\u001b[1;33m\u001b[0m\u001b[1;33m\u001b[0m\u001b[0m\n\u001b[0;32m    106\u001b[0m         \u001b[1;32mif\u001b[0m \u001b[0mmodel_type\u001b[0m \u001b[1;32mnot\u001b[0m \u001b[1;32min\u001b[0m \u001b[0mself\u001b[0m\u001b[1;33m.\u001b[0m\u001b[0m_config\u001b[0m\u001b[1;33m.\u001b[0m\u001b[0mmodels\u001b[0m\u001b[1;33m:\u001b[0m\u001b[1;33m\u001b[0m\u001b[1;33m\u001b[0m\u001b[0m\n\u001b[1;32m--> 107\u001b[1;33m             \u001b[1;32mraise\u001b[0m \u001b[0mValueError\u001b[0m\u001b[1;33m(\u001b[0m\u001b[1;34mf\"Unknown model type: {model_type}\"\u001b[0m\u001b[1;33m)\u001b[0m\u001b[1;33m\u001b[0m\u001b[1;33m\u001b[0m\u001b[0m\n\u001b[0m\u001b[0;32m    108\u001b[0m \u001b[1;33m\u001b[0m\u001b[0m\n\u001b[0;32m    109\u001b[0m         \u001b[0mmodel_config\u001b[0m \u001b[1;33m=\u001b[0m \u001b[0mself\u001b[0m\u001b[1;33m.\u001b[0m\u001b[0m_config\u001b[0m\u001b[1;33m.\u001b[0m\u001b[0mmodels\u001b[0m\u001b[1;33m[\u001b[0m\u001b[0mmodel_type\u001b[0m\u001b[1;33m]\u001b[0m\u001b[1;33m\u001b[0m\u001b[1;33m\u001b[0m\u001b[0m\n",
      "\u001b[1;31mValueError\u001b[0m: Unknown model type: detection"
     ]
    }
   ],
   "source": [
    "# Get paths for different model types\n",
    "detection_weights = settings.get_model_weights(\"detection\")\n",
    "segmentation_weights = settings.get_model_weights(\"segmentation\")\n",
    "classification_weights = settings.get_model_weights(\"classification\")\n",
    "\n",
    "print(\"Model weights paths:\")\n",
    "print(f\"Detection: {detection_weights}\")\n",
    "print(f\"Segmentation: {segmentation_weights}\")\n",
    "print(f\"Classification: {classification_weights}\")"
   ]
  },
  {
   "cell_type": "markdown",
   "metadata": {},
   "source": [
    "## 3. Working with Species Configuration\n",
    "\n",
    "Access species information from the configuration."
   ]
  },
  {
   "cell_type": "code",
   "execution_count": null,
   "metadata": {},
   "outputs": [
    {
     "ename": "AttributeError",
     "evalue": "'Settings' object has no attribute 'species_config'",
     "output_type": "error",
     "traceback": [
      "\u001b[1;31m---------------------------------------------------------------------------\u001b[0m",
      "\u001b[1;31mAttributeError\u001b[0m                            Traceback (most recent call last)",
      "\u001b[1;32m~\\AppData\\Local\\Temp\\ipykernel_14432\\1943068205.py\u001b[0m in \u001b[0;36m<cell line: 0>\u001b[1;34m()\u001b[0m\n\u001b[0;32m      1\u001b[0m \u001b[1;31m# Get species configuration\u001b[0m\u001b[1;33m\u001b[0m\u001b[1;33m\u001b[0m\u001b[0m\n\u001b[1;32m----> 2\u001b[1;33m \u001b[0mspecies_config\u001b[0m \u001b[1;33m=\u001b[0m \u001b[0msettings\u001b[0m\u001b[1;33m.\u001b[0m\u001b[0mspecies_config\u001b[0m\u001b[1;33m\u001b[0m\u001b[1;33m\u001b[0m\u001b[0m\n\u001b[0m\u001b[0;32m      3\u001b[0m \u001b[1;33m\u001b[0m\u001b[0m\n\u001b[0;32m      4\u001b[0m \u001b[1;31m# Print species mapping\u001b[0m\u001b[1;33m\u001b[0m\u001b[1;33m\u001b[0m\u001b[0m\n\u001b[0;32m      5\u001b[0m \u001b[0mprint\u001b[0m\u001b[1;33m(\u001b[0m\u001b[1;34m\"Species mapping:\"\u001b[0m\u001b[1;33m)\u001b[0m\u001b[1;33m\u001b[0m\u001b[1;33m\u001b[0m\u001b[0m\n",
      "\u001b[1;31mAttributeError\u001b[0m: 'Settings' object has no attribute 'species_config'"
     ]
    }
   ],
   "source": [
    "# Get species configuration\n",
    "species_config = settings.species_config\n",
    "\n",
    "# Print species mapping\n",
    "print(\"Species mapping:\")\n",
    "for idx, species in species_config.species_map.items():\n",
    "    print(f\"Class {idx}: {species}\")\n",
    "\n",
    "# Print metadata for a specific species\n",
    "species_name = \"Aedes aegypti\"\n",
    "metadata = species_config.get_species_metadata(species_name)\n",
    "print(f\"\\nMetadata for {species_name}:\")\n",
    "for key, value in metadata.items():\n",
    "    print(f\"{key}: {value}\")"
   ]
  },
  {
   "cell_type": "markdown",
   "metadata": {},
   "source": [
    "## 4. Using Custom Configuration\n",
    "\n",
    "Demonstrate how to use custom configuration directory."
   ]
  },
  {
   "cell_type": "code",
   "execution_count": null,
   "metadata": {},
   "outputs": [
    {
     "name": "stdout",
     "output_type": "stream",
     "text": [
      "Warning: Config directory C:\\Users\\lenova\\CascadeProjects\\culicidaelab\\custom_configs not found. Using default configs.\n",
      "Custom config directory: C:\\Users\\lenova\\CascadeProjects\\culicidaelab\\default_configs\n",
      "Using default configs: True\n"
     ]
    }
   ],
   "source": [
    "# Create a custom config directory\n",
    "custom_config_dir = \"custom_configs\"\n",
    "os.makedirs(custom_config_dir, exist_ok=True)\n",
    "\n",
    "# Get settings with custom config directory\n",
    "custom_settings = get_settings(custom_config_dir)\n",
    "\n",
    "print(f\"Custom config directory: {custom_settings.config_dir}\")\n",
    "\n",
    "# Note: This will use default configs if custom configs are not found\n",
    "print(f\"Using default configs: {custom_settings.config_dir == settings.config_dir}\")"
   ]
  }
 ],
 "metadata": {
  "kernelspec": {
   "display_name": ".venv",
   "language": "python",
   "name": "python3"
  },
  "language_info": {
   "codemirror_mode": {
    "name": "ipython",
    "version": 3
   },
   "file_extension": ".py",
   "mimetype": "text/x-python",
   "name": "python",
   "nbconvert_exporter": "python",
   "pygments_lexer": "ipython3",
   "version": "3.11.6"
  }
 },
 "nbformat": 4,
 "nbformat_minor": 4
}
