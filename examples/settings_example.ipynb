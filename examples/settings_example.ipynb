{
 "cells": [
  {
   "cell_type": "markdown",
   "metadata": {},
   "source": [
    "# CulicidaeLab Settings Module Example\n",
    "\n",
    "This notebook demonstrates how to use the settings module in CulicidaeLab."
   ]
  },
  {
   "cell_type": "code",
   "execution_count": 1,
   "metadata": {},
   "outputs": [
    {
     "name": "stderr",
     "output_type": "stream",
     "text": [
      "c:\\Users\\lenova\\CascadeProjects\\culicidaelab\\.venv\\Lib\\site-packages\\pydantic\\_internal\\_fields.py:132: UserWarning: Field \"model_path\" in PredictorConfig has conflict with protected namespace \"model_\".\n",
      "\n",
      "You may be able to resolve this warning by setting `model_config['protected_namespaces'] = ()`.\n",
      "  warnings.warn(\n",
      "c:\\Users\\lenova\\CascadeProjects\\culicidaelab\\.venv\\Lib\\site-packages\\tqdm\\auto.py:21: TqdmWarning: IProgress not found. Please update jupyter and ipywidgets. See https://ipywidgets.readthedocs.io/en/stable/user_install.html\n",
      "  from .autonotebook import tqdm as notebook_tqdm\n"
     ]
    }
   ],
   "source": [
    "from culicidaelab.core.settings import get_settings\n",
    "import os"
   ]
  },
  {
   "cell_type": "markdown",
   "metadata": {},
   "source": [
    "## 1. Using Default Settings\n",
    "\n",
    "Get the default settings instance. This will use configurations from the default_configs directory."
   ]
  },
  {
   "cell_type": "code",
   "execution_count": 2,
   "metadata": {},
   "outputs": [
    {
     "name": "stdout",
     "output_type": "stream",
     "text": [
      "Config directory: C:\\Users\\lenova\\CascadeProjects\\culicidaelab\\culicidaelab\\conf\n",
      "Models directory: C:\\Users\\lenova\\AppData\\Local\\culicidaelab\\culicidaelab\\models\n",
      "Datasets directory: C:\\Users\\lenova\\AppData\\Local\\culicidaelab\\culicidaelab\\datasets\n",
      "Cache directory: C:\\Users\\lenova\\AppData\\Local\\culicidaelab\\culicidaelab\\Cache\n"
     ]
    }
   ],
   "source": [
    "# Get default settings\n",
    "settings = get_settings()\n",
    "\n",
    "# Print some basic information\n",
    "print(f\"Config directory: {settings.config_dir}\")\n",
    "print(f\"Models directory: {settings.model_dir}\")\n",
    "print(f\"Datasets directory: {settings.dataset_dir}\")\n",
    "print(f\"Cache directory: {settings.cache_dir}\")"
   ]
  },
  {
   "cell_type": "markdown",
   "metadata": {},
   "source": [
    "## 2. Working with Model Weights\n",
    "\n",
    "Demonstrate how to get model weights paths and handle downloads."
   ]
  },
  {
   "cell_type": "code",
   "execution_count": 3,
   "metadata": {},
   "outputs": [
    {
     "name": "stdout",
     "output_type": "stream",
     "text": [
      "Model weights paths:\n",
      "Detection: C:\\Users\\lenova\\AppData\\Local\\culicidaelab\\culicidaelab\\models\\weights\\detection\\culico-net-det-v1-nano.pt\n",
      "Segmentation: C:\\Users\\lenova\\AppData\\Local\\culicidaelab\\culicidaelab\\models\\weights\\segmentation\\sam2.1_hiera_tiny.pt\n",
      "Classification: C:\\Users\\lenova\\AppData\\Local\\culicidaelab\\culicidaelab\\models\\weights\\classification\\culico-net-cls-v1-17.pkl\n"
     ]
    }
   ],
   "source": [
    "# Get paths for different model types\n",
    "detection_weights = settings.get_model_weights_path(\"detector\")\n",
    "segmentation_weights = settings.get_model_weights_path(\"segmenter\")\n",
    "classification_weights = settings.get_model_weights_path(\"classifier\")\n",
    "\n",
    "print(\"Model weights paths:\")\n",
    "print(f\"Detection: {detection_weights}\")\n",
    "print(f\"Segmentation: {segmentation_weights}\")\n",
    "print(f\"Classification: {classification_weights}\")"
   ]
  },
  {
   "cell_type": "markdown",
   "metadata": {},
   "source": [
    "## 3. Working with Species Configuration\n",
    "\n",
    "Access species information from the configuration."
   ]
  },
  {
   "cell_type": "code",
   "execution_count": 4,
   "metadata": {},
   "outputs": [
    {
     "name": "stdout",
     "output_type": "stream",
     "text": [
      "Species mapping:\n",
      "Class 0: Aedes aegypti\n",
      "Class 1: Aedes albopictus\n",
      "Class 2: Aedes canadensis\n",
      "Class 3: Aedes dorsalis\n",
      "Class 4: Aedes geniculatus\n",
      "Class 5: Aedes koreicus\n",
      "Class 6: Aedes triseriatus\n",
      "Class 7: Aedes vexans\n",
      "Class 8: Anopheles arabiensis\n",
      "Class 9: Anopheles freeborni\n",
      "Class 10: Anopheles sinensis\n",
      "Class 11: Background\n",
      "Class 12: Culex inatomii\n",
      "Class 13: Culex pipiens\n",
      "Class 14: Culex quinquefasciatus\n",
      "Class 15: Culex tritaeniorhynchus\n",
      "Class 16: Culiseta annulata\n",
      "Class 17: Culiseta longiareolata\n",
      "\n",
      "Metadata for Aedes aegypti:\n",
      "common_name: Yellow fever mosquito\n",
      "taxonomy: {'family': 'Culicidae', 'subfamily': 'Culicinae', 'genus': 'Aedes', 'subgenus': 'Stegomyia', 'species_complex': None}\n",
      "metadata: {'vector_status': True, 'diseases': ['Yellow fever', 'Dengue', 'Zika'], 'habitat': 'Urban', 'breeding_sites': ['Artificial containers', 'Tree holes'], 'sources': ['https://www.cdc.gov/zika/geo/aedes-aegypti.html']}\n"
     ]
    }
   ],
   "source": [
    "# Get species configuration\n",
    "species_config = settings.species_config\n",
    "\n",
    "# Print species mapping\n",
    "print(\"Species mapping:\")\n",
    "for idx, species in species_config.species_map.items():\n",
    "    print(f\"Class {idx}: {species}\")\n",
    "\n",
    "# Print metadata for a specific species\n",
    "species_name = \"Aedes aegypti\"\n",
    "metadata = species_config.get_species_metadata(species_name)\n",
    "print(f\"\\nMetadata for {species_name}:\")\n",
    "for key, value in metadata.items():\n",
    "    print(f\"{key}: {value}\")"
   ]
  },
  {
   "cell_type": "markdown",
   "metadata": {},
   "source": [
    "## 4. Using Custom Configuration\n",
    "\n",
    "Demonstrate how to use custom configuration directory."
   ]
  },
  {
   "cell_type": "code",
   "execution_count": null,
   "metadata": {},
   "outputs": [
    {
     "name": "stdout",
     "output_type": "stream",
     "text": [
      "Custom config directory: custom_configs\n",
      "Using default configs: False\n"
     ]
    }
   ],
   "source": [
    "import yaml\n",
    "\n",
    "# Create a custom config directory\n",
    "custom_config_dir = \"custom_configs\"\n",
    "os.makedirs(custom_config_dir, exist_ok=True)\n",
    "\n",
    "# Validate the custom configuration directory contains the required key\n",
    "config_file_path = os.path.join(custom_config_dir, \"config.yaml\")\n",
    "required_key = \"species\"\n",
    "if not os.path.exists(config_file_path):\n",
    "    raise FileNotFoundError(f\"Configuration file '{config_file_path}' does not exist.\")\n",
    "else:\n",
    "    with open(config_file_path, \"r\") as file:\n",
    "        config_data = yaml.safe_load(file)\n",
    "        if required_key not in config_data:\n",
    "            raise KeyError(f\"Missing required key '{required_key}' in custom configuration file.\")\n",
    "\n",
    "# Get settings with custom config directory\n",
    "custom_settings = get_settings(config_dir=custom_config_dir)\n",
    "\n",
    "print(f\"Custom config directory: {custom_settings.config_dir}\")\n",
    "\n",
    "# Note: This will use default configs if custom configs are not found\n",
    "print(f\"Using default configs: {custom_settings.config_dir == settings.config_dir}\")"
   ]
  }
 ],
 "metadata": {
  "kernelspec": {
   "display_name": ".venv",
   "language": "python",
   "name": "python3"
  },
  "language_info": {
   "codemirror_mode": {
    "name": "ipython",
    "version": 3
   },
   "file_extension": ".py",
   "mimetype": "text/x-python",
   "name": "python",
   "nbconvert_exporter": "python",
   "pygments_lexer": "ipython3",
   "version": "3.11.6"
  }
 },
 "nbformat": 4,
 "nbformat_minor": 4
}
