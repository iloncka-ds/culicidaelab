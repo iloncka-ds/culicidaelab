{
 "cells": [
  {
   "cell_type": "markdown",
   "metadata": {},
   "source": [
    "# Mosquito Species Classification Tutorial\n",
    "\n",
    "This notebook demonstrates how to use the CulicidaeLab library for classifying mosquito species using FastAI and timm models."
   ]
  },
  {
   "cell_type": "code",
   "execution_count": null,
   "metadata": {},
   "outputs": [],
   "source": [
    "import numpy as np\n",
    "from pathlib import Path\n",
    "import matplotlib.pyplot as plt\n",
    "from culicidaelab.classification import MosquitoClassifier\n",
    "\n",
    "%matplotlib inline"
   ]
  },
  {
   "cell_type": "markdown",
   "metadata": {},
   "source": [
    "## Initialize the Classifier\n",
    "\n",
    "First, we'll create a MosquitoClassifier instance. You can either provide a pre-trained model or train a new one."
   ]
  },
  {
   "cell_type": "code",
   "execution_count": null,
   "metadata": {},
   "outputs": [],
   "source": [
    "# Initialize classifier with your model\n",
    "classifier = MosquitoClassifier(\n",
    "    model_path=\"path/to/your/model.pth\",  # Optional\n",
    "    arch=\"convnext_base\",  # or other architectures from timm\n",
    "    config_path=\"path/to/species_config.yaml\",  # Optional\n",
    ")"
   ]
  },
  {
   "cell_type": "markdown",
   "metadata": {},
   "source": [
    "## Training a New Model\n",
    "\n",
    "If you don't have a pre-trained model, you can train one using your dataset:"
   ]
  },
  {
   "cell_type": "code",
   "execution_count": null,
   "metadata": {},
   "outputs": [],
   "source": [
    "# Train the model\n",
    "data_path = \"path/to/your/training/data\"\n",
    "# Data directory structure should be:\n",
    "# data_path/\n",
    "#   ├── species1/\n",
    "#   │   ├── image1.jpg\n",
    "#   │   └── image2.jpg\n",
    "#   └── species2/\n",
    "#       ├── image3.jpg\n",
    "#       └── image4.jpg\n",
    "\n",
    "metrics = classifier.train(data_path=data_path, epochs=10, batch_size=16, learning_rate=1e-4)\n",
    "\n",
    "# Plot training metrics\n",
    "plt.figure(figsize=(10, 5))\n",
    "plt.plot(metrics[\"train_loss\"], label=\"Train Loss\")\n",
    "plt.plot(metrics[\"val_loss\"], label=\"Validation Loss\")\n",
    "plt.xlabel(\"Epoch\")\n",
    "plt.ylabel(\"Loss\")\n",
    "plt.legend()\n",
    "plt.show()"
   ]
  },
  {
   "cell_type": "markdown",
   "metadata": {},
   "source": [
    "## Classify Images\n",
    "\n",
    "Now let's use the trained model to classify some mosquito images:"
   ]
  },
  {
   "cell_type": "code",
   "execution_count": null,
   "metadata": {},
   "outputs": [],
   "source": [
    "def classify_and_plot(image_path):\n",
    "    # Classify the image\n",
    "    predictions = classifier.classify(image_path)\n",
    "\n",
    "    # Load and display the image\n",
    "    image = plt.imread(image_path)\n",
    "    plt.figure(figsize=(10, 5))\n",
    "\n",
    "    # Plot image\n",
    "    plt.subplot(1, 2, 1)\n",
    "    plt.imshow(image)\n",
    "    plt.axis(\"off\")\n",
    "    plt.title(\"Input Image\")\n",
    "\n",
    "    # Plot predictions\n",
    "    plt.subplot(1, 2, 2)\n",
    "    species = [p[0] for p in predictions]\n",
    "    scores = [p[1] for p in predictions]\n",
    "\n",
    "    plt.barh(range(len(species)), scores)\n",
    "    plt.yticks(range(len(species)), species)\n",
    "    plt.xlabel(\"Confidence\")\n",
    "    plt.title(\"Species Predictions\")\n",
    "\n",
    "    plt.tight_layout()\n",
    "    plt.show()\n",
    "\n",
    "\n",
    "# Example usage:\n",
    "# classify_and_plot('path/to/your/mosquito_image.jpg')"
   ]
  },
  {
   "cell_type": "markdown",
   "metadata": {},
   "source": [
    "## Batch Processing\n",
    "\n",
    "Process multiple images at once:"
   ]
  },
  {
   "cell_type": "code",
   "execution_count": null,
   "metadata": {},
   "outputs": [],
   "source": [
    "def process_directory(image_dir):\n",
    "    image_dir = Path(image_dir)\n",
    "    results = {}\n",
    "\n",
    "    for img_path in image_dir.glob(\"*.jpg\"):\n",
    "        predictions = classifier.classify(str(img_path))\n",
    "        top_prediction = predictions[0]  # Get the most likely species\n",
    "        results[img_path.name] = top_prediction\n",
    "\n",
    "        print(f\"{img_path.name}: {top_prediction[0]} ({top_prediction[1]:.2%} confidence)\")\n",
    "\n",
    "    return results\n",
    "\n",
    "\n",
    "# Example usage:\n",
    "# results = process_directory('path/to/image/directory')"
   ]
  },
  {
   "cell_type": "markdown",
   "metadata": {},
   "source": [
    "## Model Evaluation\n",
    "\n",
    "Evaluate the model's performance on a test dataset:"
   ]
  },
  {
   "cell_type": "code",
   "execution_count": null,
   "metadata": {},
   "outputs": [],
   "source": [
    "def evaluate_model(test_data_path):\n",
    "    test_dir = Path(test_data_path)\n",
    "    y_true = []\n",
    "    y_pred = []\n",
    "\n",
    "    for species_dir in test_dir.iterdir():\n",
    "        if species_dir.is_dir():\n",
    "            species = species_dir.name\n",
    "            for img_path in species_dir.glob(\"*.jpg\"):\n",
    "                predictions = classifier.classify(str(img_path))\n",
    "                predicted_species = predictions[0][0]\n",
    "\n",
    "                y_true.append(species)\n",
    "                y_pred.append(predicted_species)\n",
    "\n",
    "    # Calculate metrics\n",
    "    metrics = classifier.evaluate(y_true, y_pred)\n",
    "\n",
    "    print(\"\\nModel Evaluation Metrics:\")\n",
    "    for metric, value in metrics.items():\n",
    "        print(f\"{metric}: {value:.4f}\")\n",
    "\n",
    "    return metrics\n",
    "\n",
    "\n",
    "# Example usage:\n",
    "# metrics = evaluate_model('path/to/test/data')"
   ]
  }
 ],
 "metadata": {
  "kernelspec": {
   "display_name": "Python 3",
   "language": "python",
   "name": "python3"
  },
  "language_info": {
   "codemirror_mode": {
    "name": "ipython",
    "version": 3
   },
   "file_extension": ".py",
   "mimetype": "text/x-python",
   "name": "python",
   "nbconvert_exporter": "python",
   "pygments_lexer": "ipython3",
   "version": "3.11.0"
  }
 },
 "nbformat": 4,
 "nbformat_minor": 4
}
