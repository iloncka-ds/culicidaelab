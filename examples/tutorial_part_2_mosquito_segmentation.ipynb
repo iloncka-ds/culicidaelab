{
 "cells": [
  {
   "cell_type": "markdown",
   "metadata": {},
   "source": [
    "# Mosquito Segmentation Tutorial\n",
    "\n",
    "This notebook demonstrates how to use the CulicidaeLab library for segmenting mosquitoes in images using the Segment Anything Model (SAM)."
   ]
  },
  {
   "cell_type": "code",
   "execution_count": null,
   "metadata": {},
   "outputs": [],
   "source": [
    "import cv2\n",
    "import numpy as np\n",
    "from pathlib import Path\n",
    "from culicidaelab.segmentation import MosquitoSegmenter\n",
    "\n",
    "# For visualization\n",
    "import matplotlib.pyplot as plt\n",
    "\n",
    "%matplotlib inline"
   ]
  },
  {
   "cell_type": "markdown",
   "metadata": {},
   "source": [
    "## Initialize the Segmenter\n",
    "\n",
    "First, we'll create a MosquitoSegmenter instance. You'll need to provide the path to your SAM model checkpoint."
   ]
  },
  {
   "cell_type": "code",
   "execution_count": null,
   "metadata": {},
   "outputs": [],
   "source": [
    "# Initialize segmenter with your model checkpoint\n",
    "segmenter = MosquitoSegmenter(\n",
    "    model_type=\"vit_h\",  # or 'vit_l', 'vit_b'\n",
    "    checkpoint_path=\"path/to/your/sam_checkpoint.pth\",\n",
    ")"
   ]
  },
  {
   "cell_type": "markdown",
   "metadata": {},
   "source": [
    "## Load and Process an Image\n",
    "\n",
    "Let's load an example image and segment mosquitoes in it."
   ]
  },
  {
   "cell_type": "code",
   "execution_count": null,
   "metadata": {},
   "outputs": [],
   "source": [
    "# Load an example image\n",
    "image_path = \"path/to/your/image.jpg\"\n",
    "image = cv2.imread(image_path)\n",
    "image = cv2.cvtColor(image, cv2.COLOR_BGR2RGB)\n",
    "\n",
    "# Define points or bounding boxes for segmentation\n",
    "# You can get these from the detector or specify manually\n",
    "points = np.array([[100, 100]])  # Example point\n",
    "labels = np.array([1])  # 1 for foreground\n",
    "\n",
    "# Perform segmentation\n",
    "masks = segmenter.segment(image, points=points, point_labels=labels)\n",
    "\n",
    "\n",
    "# Visualize results\n",
    "def plot_segmentation(image, masks):\n",
    "    plt.figure(figsize=(12, 8))\n",
    "    plt.imshow(image)\n",
    "\n",
    "    for mask in masks:\n",
    "        # Create a colored overlay for the mask\n",
    "        overlay = np.zeros_like(image)\n",
    "        overlay[mask] = [255, 0, 0]  # Red color for the mask\n",
    "        plt.imshow(overlay, alpha=0.5)\n",
    "\n",
    "    plt.axis(\"off\")\n",
    "    plt.show()\n",
    "\n",
    "\n",
    "plot_segmentation(image, masks)"
   ]
  },
  {
   "cell_type": "markdown",
   "metadata": {},
   "source": [
    "## Combine Detection and Segmentation\n",
    "\n",
    "You can combine the detector and segmenter for automatic segmentation:"
   ]
  },
  {
   "cell_type": "code",
   "execution_count": null,
   "metadata": {},
   "outputs": [],
   "source": [
    "from culicidaelab.detection import MosquitoDetector\n",
    "\n",
    "\n",
    "def detect_and_segment(image_path):\n",
    "    # Load image\n",
    "    image = cv2.imread(image_path)\n",
    "    image = cv2.cvtColor(image, cv2.COLOR_BGR2RGB)\n",
    "\n",
    "    # Detect mosquitoes\n",
    "    detector = MosquitoDetector(\"path/to/your/yolov8_model.pt\")\n",
    "    detections = detector.detect(image)\n",
    "\n",
    "    # Convert detections to points for segmentation\n",
    "    points = []\n",
    "    labels = []\n",
    "    for x1, y1, x2, y2, conf in detections:\n",
    "        # Use center point of each detection\n",
    "        center_x = (x1 + x2) / 2\n",
    "        center_y = (y1 + y2) / 2\n",
    "        points.append([center_x, center_y])\n",
    "        labels.append(1)  # Foreground\n",
    "\n",
    "    # Perform segmentation\n",
    "    masks = segmenter.segment(image, points=np.array(points), point_labels=np.array(labels))\n",
    "\n",
    "    return image, masks\n",
    "\n",
    "\n",
    "# Example usage:\n",
    "# image, masks = detect_and_segment('path/to/your/image.jpg')\n",
    "# plot_segmentation(image, masks)"
   ]
  }
 ],
 "metadata": {
  "kernelspec": {
   "display_name": "Python 3",
   "language": "python",
   "name": "python3"
  },
  "language_info": {
   "codemirror_mode": {
    "name": "ipython",
    "version": 3
   },
   "file_extension": ".py",
   "mimetype": "text/x-python",
   "name": "python",
   "nbconvert_exporter": "python",
   "pygments_lexer": "ipython3",
   "version": "3.11.0"
  }
 },
 "nbformat": 4,
 "nbformat_minor": 4
}
