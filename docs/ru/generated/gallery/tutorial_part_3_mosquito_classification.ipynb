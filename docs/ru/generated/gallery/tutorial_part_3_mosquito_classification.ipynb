{
  "cells": [
    {
      "cell_type": "code",
      "execution_count": null,
      "metadata": {
        "collapsed": false
      },
      "outputs": [],
      "source": [
        "%matplotlib inline"
      ]
    },
    {
      "cell_type": "markdown",
      "metadata": {},
      "source": [
        "\n\u0421\u0435\u0433\u043c\u0435\u043d\u0442\u0430\u0446\u0438\u044f \u043a\u043e\u043c\u0430\u0440\u043e\u0432 \u0441 \u043f\u043e\u043c\u043e\u0449\u044c\u044e MosquitoSegmenter\n===============================================\n\n\u042d\u0442\u043e\u0442 \u0442\u0443\u0442\u043e\u0440\u0438\u0430\u043b \u043f\u043e\u043a\u0430\u0437\u044b\u0432\u0430\u0435\u0442, \u043a\u0430\u043a \u0438\u0441\u043f\u043e\u043b\u044c\u0437\u043e\u0432\u0430\u0442\u044c `MosquitoSegmenter` \u0438\u0437 \u0431\u0438\u0431\u043b\u0438\u043e\u0442\u0435\u043a\u0438 CulicidaeLab\n\u0434\u043b\u044f \u0432\u044b\u043f\u043e\u043b\u043d\u0435\u043d\u0438\u044f \u0441\u0435\u0433\u043c\u0435\u043d\u0442\u0430\u0446\u0438\u0438 \u043a\u043e\u043c\u0430\u0440\u043e\u0432 \u043d\u0430 \u0438\u0437\u043e\u0431\u0440\u0430\u0436\u0435\u043d\u0438\u044f\u0445. \u041c\u044b \u0440\u0430\u0441\u0441\u043c\u043e\u0442\u0440\u0438\u043c:\n\n- \u0417\u0430\u0433\u0440\u0443\u0437\u043a\u0443 \u043c\u043e\u0434\u0435\u043b\u0438 \u0441\u0435\u0433\u043c\u0435\u043d\u0442\u0430\u0442\u043e\u0440\u0430 (SAM)\n- \u041f\u043e\u0434\u0433\u043e\u0442\u043e\u0432\u043a\u0443 \u0438\u0437\u043e\u0431\u0440\u0430\u0436\u0435\u043d\u0438\u044f\n- \u0417\u0430\u043f\u0443\u0441\u043a \u043f\u0440\u0435\u0434\u0441\u043a\u0430\u0437\u0430\u043d\u0438\u044f \u0434\u043b\u044f \u043f\u043e\u043b\u0443\u0447\u0435\u043d\u0438\u044f \u043c\u0430\u0441\u043a\u0438\n- \u0412\u0438\u0437\u0443\u0430\u043b\u0438\u0437\u0430\u0446\u0438\u044e \u0440\u0435\u0437\u0443\u043b\u044c\u0442\u0430\u0442\u0430\n"
      ]
    },
    {
      "cell_type": "markdown",
      "metadata": {},
      "source": [
        "# Mosquito Classification Tutorial\nThis tutorial demonstrates how to use CulicidaeLab for mosquito species classification.\nFirst, let's import the necessary libraries:\n1. Setting up the classification model\n2. Loading and preprocessing images\n3. Running classification\n4. Interpreting results\n\n"
      ]
    },
    {
      "cell_type": "code",
      "execution_count": null,
      "metadata": {
        "collapsed": false
      },
      "outputs": [],
      "source": [
        "import cv2\nimport re\nimport numpy as np\nimport matplotlib.pyplot as plt\nfrom culicidaelab import MosquitoClassifier\nfrom culicidaelab.core.settings import get_settings\nfrom pathlib import Path"
      ]
    },
    {
      "cell_type": "markdown",
      "metadata": {},
      "source": [
        "## 1. Initialize Settings and Classifier\n\n\n"
      ]
    },
    {
      "cell_type": "markdown",
      "metadata": {},
      "source": [
        "First, we'll initialize our settings and create a MosquitoClassifier instance.\nThe settings module will handle downloading model weights if they're not already present:\n\n"
      ]
    },
    {
      "cell_type": "markdown",
      "metadata": {},
      "source": [
        "Get settings instance\n\n"
      ]
    },
    {
      "cell_type": "code",
      "execution_count": null,
      "metadata": {
        "collapsed": false
      },
      "outputs": [],
      "source": [
        "settings = get_settings()\nsettings.list_model_types()"
      ]
    },
    {
      "cell_type": "code",
      "execution_count": null,
      "metadata": {
        "collapsed": false
      },
      "outputs": [],
      "source": [
        "classifier_conf = settings.get_config(\"predictors.classifier\")\nprint(classifier_conf.model_arch)"
      ]
    },
    {
      "cell_type": "code",
      "execution_count": null,
      "metadata": {
        "collapsed": false
      },
      "outputs": [],
      "source": [
        "classifier_conf.model_dump()"
      ]
    },
    {
      "cell_type": "code",
      "execution_count": null,
      "metadata": {
        "collapsed": false
      },
      "outputs": [],
      "source": [
        "print(classifier_conf.repository_id)\nprint(classifier_conf.filename)"
      ]
    },
    {
      "cell_type": "markdown",
      "metadata": {},
      "source": [
        "Get model path and config\n\n"
      ]
    },
    {
      "cell_type": "code",
      "execution_count": null,
      "metadata": {
        "collapsed": false
      },
      "outputs": [],
      "source": [
        "model_path = settings.get_model_weights_path(\"classifier\")\nmodel_config = settings.get_config(\"predictors.classifier\").model_dump()\nprint(f\"Using model path: {model_path}\")\nprint(f\"Using model config: {model_config}\")"
      ]
    },
    {
      "cell_type": "code",
      "execution_count": null,
      "metadata": {
        "collapsed": false
      },
      "outputs": [],
      "source": [
        "classifier = MosquitoClassifier(settings, load_model=True)"
      ]
    },
    {
      "cell_type": "code",
      "execution_count": null,
      "metadata": {
        "collapsed": false
      },
      "outputs": [],
      "source": [
        "classes_sp = classifier.learner.dls.vocab"
      ]
    },
    {
      "cell_type": "code",
      "execution_count": null,
      "metadata": {
        "collapsed": false
      },
      "outputs": [],
      "source": [
        "species_map = {i: s for i, s in enumerate(classes_sp)}\nprint(species_map)"
      ]
    },
    {
      "cell_type": "markdown",
      "metadata": {},
      "source": [
        "## 2. Load and Preprocess Image\n\nNow let's load a test image. We'll use one of the sample images provided in the test_data directory:\n\n"
      ]
    },
    {
      "cell_type": "markdown",
      "metadata": {},
      "source": [
        "Find test image path\n\n"
      ]
    },
    {
      "cell_type": "code",
      "execution_count": null,
      "metadata": {
        "collapsed": false
      },
      "outputs": [],
      "source": [
        "image_path = Path(\"test_imgs\") / \"640px-Aedes_aegypti.jpg\"\n\n# Load and preprocess image\nimage = cv2.imread(str(image_path))\nif image is None:\n    raise ValueError(f\"Could not load image from {image_path}\")\n\nimage = cv2.cvtColor(image, cv2.COLOR_BGR2RGB)\n\n# Display the image\nplt.figure(figsize=(10, 10))\nplt.imshow(image)\nplt.axis(\"off\")\nplt.title(\"Input Image\")\nplt.show()"
      ]
    },
    {
      "cell_type": "markdown",
      "metadata": {},
      "source": [
        "## 3. Run Classification\n\nLet's classify the mosquito species. The classifier will return probabilities for each species class:\n\n"
      ]
    },
    {
      "cell_type": "markdown",
      "metadata": {},
      "source": [
        "Run classification\n\n"
      ]
    },
    {
      "cell_type": "code",
      "execution_count": null,
      "metadata": {
        "collapsed": false
      },
      "outputs": [],
      "source": [
        "predictions = classifier.predict(image)\n\n# Get species names and probabilities from predictions\nspecies_names = [p[0] for p in predictions]  # First element of each tuple is species name\nprobabilities = [p[1] for p in predictions]  # Second element is the confidence score\n\n# Sort predictions by probability\nsorted_indices = np.argsort(probabilities)[::-1]\nsorted_species = [species_names[i] for i in sorted_indices]\nsorted_probs = [probabilities[i] for i in sorted_indices]\n\n# Print top predictions based on config\ntop_k = model_config[\"params\"].get(\"top_k\", 3)\nconf_threshold = model_config[\"params\"].get(\"conf_threshold\", 0.5)\n\nprint(f\"\\nTop {top_k} predictions (confidence threshold: {conf_threshold:.0%}):\")\nfor species, prob in zip(sorted_species[:top_k], sorted_probs[:top_k]):\n    if prob >= conf_threshold:\n        print(f\"{species}: {prob:.1%}\")\n    else:\n        print(f\"{species}: {prob:.1%} (below threshold)\")"
      ]
    },
    {
      "cell_type": "markdown",
      "metadata": {},
      "source": [
        "## 4. Visualize Results\n\nLet's create a bar plot of the classification probabilities:\n\n"
      ]
    },
    {
      "cell_type": "markdown",
      "metadata": {},
      "source": [
        "Plot probabilities\n\n"
      ]
    },
    {
      "cell_type": "code",
      "execution_count": null,
      "metadata": {
        "collapsed": false
      },
      "outputs": [],
      "source": [
        "plt.figure(figsize=(12, 6))\nbars = plt.bar(sorted_species, sorted_probs)\n\n# Color bars based on confidence threshold\nfor i, prob in enumerate(sorted_probs):\n    bars[i].set_color(\"green\" if prob >= conf_threshold else \"gray\")\n\nplt.axhline(y=conf_threshold, color=\"r\", linestyle=\"--\", label=\"Confidence Threshold\")\nplt.xticks(rotation=45, ha=\"right\")\nplt.ylabel(\"Probability\")\nplt.title(\"Species Classification Probabilities\")\nplt.legend()\nplt.tight_layout()\nplt.show()"
      ]
    },
    {
      "cell_type": "code",
      "execution_count": null,
      "metadata": {
        "collapsed": false
      },
      "outputs": [],
      "source": [
        "annotated_image = classifier.visualize(\n    image,\n    predictions,\n    save_path=\"annotated_image.jpg\",\n)\n\nplt.figure(figsize=(15, 5))\nplt.imshow(annotated_image)\nplt.axis(\"off\")\nplt.title(\"Top 5 predictions\")"
      ]
    },
    {
      "cell_type": "code",
      "execution_count": null,
      "metadata": {
        "collapsed": false
      },
      "outputs": [],
      "source": [
        "metrics = classifier.evaluate(\"Aedes albopictus\", input_data=image)\nprint(metrics)"
      ]
    },
    {
      "cell_type": "code",
      "execution_count": null,
      "metadata": {
        "collapsed": false
      },
      "outputs": [],
      "source": [
        "metrics = classifier.evaluate(\"Aedes albopictus\", predictions)\nprint(metrics)"
      ]
    },
    {
      "cell_type": "code",
      "execution_count": null,
      "metadata": {
        "collapsed": false
      },
      "outputs": [],
      "source": [
        "image_dir = Path(\"test_imgs\")\n\n# This pattern matches any string that ends with .jpg, .jpeg, or .png, case-insensitively.\n# \\.   -> matches a literal dot\n# (jpg|jpeg|png) -> matches 'jpg' OR 'jpeg' OR 'png'\n# $    -> matches the end of the string\npattern = re.compile(r\"\\.(jpg|jpeg|png)$\", re.IGNORECASE)\n\n# Get list with all files and filter using the regex\nimage_paths = [path for path in image_dir.iterdir() if path.is_file() and pattern.search(str(path))]\ntry:\n    batch = [cv2.cvtColor(cv2.imread(str(path)), cv2.COLOR_BGR2RGB) for path in image_paths]\n    print(f\"\\nSuccessfully created a batch with {len(batch)} images.\")\nexcept Exception as e:\n    print(f\"An error occurred while reading images: {e}\")\n    batch = []\n\nclassifier_batch_result = classifier.predict_batch(batch)\nprint(classifier_batch_result)"
      ]
    }
  ],
  "metadata": {
    "kernelspec": {
      "display_name": "Python 3",
      "language": "python",
      "name": "python3"
    },
    "language_info": {
      "codemirror_mode": {
        "name": "ipython",
        "version": 3
      },
      "file_extension": ".py",
      "mimetype": "text/x-python",
      "name": "python",
      "nbconvert_exporter": "python",
      "pygments_lexer": "ipython3",
      "version": "3.11.6"
    }
  },
  "nbformat": 4,
  "nbformat_minor": 0
}
