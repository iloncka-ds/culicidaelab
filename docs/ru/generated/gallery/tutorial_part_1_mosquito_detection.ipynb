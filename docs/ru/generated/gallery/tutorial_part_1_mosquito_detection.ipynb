{
  "cells": [
    {
      "cell_type": "code",
      "execution_count": null,
      "metadata": {
        "collapsed": false
      },
      "outputs": [],
      "source": [
        "%matplotlib inline"
      ]
    },
    {
      "cell_type": "markdown",
      "metadata": {},
      "source": [
        "\n\u0421\u0435\u0433\u043c\u0435\u043d\u0442\u0430\u0446\u0438\u044f \u043a\u043e\u043c\u0430\u0440\u043e\u0432 \u0441 \u043f\u043e\u043c\u043e\u0449\u044c\u044e MosquitoSegmenter\n===============================================\n\n\u042d\u0442\u043e\u0442 \u0442\u0443\u0442\u043e\u0440\u0438\u0430\u043b \u043f\u043e\u043a\u0430\u0437\u044b\u0432\u0430\u0435\u0442, \u043a\u0430\u043a \u0438\u0441\u043f\u043e\u043b\u044c\u0437\u043e\u0432\u0430\u0442\u044c `MosquitoSegmenter` \u0438\u0437 \u0431\u0438\u0431\u043b\u0438\u043e\u0442\u0435\u043a\u0438 CulicidaeLab\n\u0434\u043b\u044f \u0432\u044b\u043f\u043e\u043b\u043d\u0435\u043d\u0438\u044f \u0441\u0435\u0433\u043c\u0435\u043d\u0442\u0430\u0446\u0438\u0438 \u043a\u043e\u043c\u0430\u0440\u043e\u0432 \u043d\u0430 \u0438\u0437\u043e\u0431\u0440\u0430\u0436\u0435\u043d\u0438\u044f\u0445. \u041c\u044b \u0440\u0430\u0441\u0441\u043c\u043e\u0442\u0440\u0438\u043c:\n\n- \u0417\u0430\u0433\u0440\u0443\u0437\u043a\u0443 \u043c\u043e\u0434\u0435\u043b\u0438 \u0441\u0435\u0433\u043c\u0435\u043d\u0442\u0430\u0442\u043e\u0440\u0430 (SAM)\n- \u041f\u043e\u0434\u0433\u043e\u0442\u043e\u0432\u043a\u0443 \u0438\u0437\u043e\u0431\u0440\u0430\u0436\u0435\u043d\u0438\u044f\n- \u0417\u0430\u043f\u0443\u0441\u043a \u043f\u0440\u0435\u0434\u0441\u043a\u0430\u0437\u0430\u043d\u0438\u044f \u0434\u043b\u044f \u043f\u043e\u043b\u0443\u0447\u0435\u043d\u0438\u044f \u043c\u0430\u0441\u043a\u0438\n- \u0412\u0438\u0437\u0443\u0430\u043b\u0438\u0437\u0430\u0446\u0438\u044e \u0440\u0435\u0437\u0443\u043b\u044c\u0442\u0430\u0442\u0430\n"
      ]
    },
    {
      "cell_type": "markdown",
      "metadata": {},
      "source": [
        "# Mosquito Detection Tutorial\n\nThis notebook demonstrates how to use the CulicidaeLab library for detecting mosquitoes in images.\n\n\n"
      ]
    },
    {
      "cell_type": "code",
      "execution_count": null,
      "metadata": {
        "collapsed": false
      },
      "outputs": [],
      "source": [
        "import re\nimport cv2\nimport matplotlib.pyplot as plt\nfrom pathlib import Path\n\nfrom culicidaelab.core.settings import get_settings\nfrom culicidaelab.predictors.detector import MosquitoDetector"
      ]
    },
    {
      "cell_type": "markdown",
      "metadata": {},
      "source": [
        "## 1. Initialize Settings and Load Model\n\nFirst, we'll get the settings instance which will handle model weights and configurations.\n\n"
      ]
    },
    {
      "cell_type": "markdown",
      "metadata": {},
      "source": [
        "Get settings instance\n\n"
      ]
    },
    {
      "cell_type": "code",
      "execution_count": null,
      "metadata": {
        "collapsed": false
      },
      "outputs": [],
      "source": [
        "settings = get_settings()\nsettings.list_model_types()"
      ]
    },
    {
      "cell_type": "code",
      "execution_count": null,
      "metadata": {
        "collapsed": false
      },
      "outputs": [],
      "source": [
        "model_config = settings.get_config(\"predictors.detector\")\nmodel_path = settings.get_model_weights_path(\"detector\")"
      ]
    },
    {
      "cell_type": "code",
      "execution_count": null,
      "metadata": {
        "collapsed": false
      },
      "outputs": [],
      "source": [
        "detector = MosquitoDetector(settings=settings, load_model=True)"
      ]
    },
    {
      "cell_type": "markdown",
      "metadata": {},
      "source": [
        "## 2. Load and Process an Image\n\nNow let's load a test image and run detection on it.\n\n"
      ]
    },
    {
      "cell_type": "markdown",
      "metadata": {},
      "source": [
        "Load test image\n\n"
      ]
    },
    {
      "cell_type": "code",
      "execution_count": null,
      "metadata": {
        "collapsed": false
      },
      "outputs": [],
      "source": [
        "image_path = str(Path(\"test_imgs\") / \"640px-Aedes_aegypti.jpg\")\nimage = cv2.imread(image_path)\nimage = cv2.cvtColor(image, cv2.COLOR_BGR2RGB)\n\n# Run detection\ndetections = detector.predict(image)\n\n# Draw detections\nannotated_image = detector.visualize(image, detections)\n\n# Display results\nplt.figure(figsize=(12, 8))\nplt.imshow(annotated_image)\nplt.axis(\"off\")\nplt.title(\"Detected Mosquitoes\")\nplt.show()\n\n# Print detection results\nprint(\"\\nDetection Results:\")\nfor i, (x, y, w, h, conf) in enumerate(detections):\n    print(f\"Mosquito {i+1}: Confidence = {conf:.2f}, Box = (x={x:.1f}, y={y:.1f}, w={w:.1f}, h={h:.1f})\")"
      ]
    },
    {
      "cell_type": "code",
      "execution_count": null,
      "metadata": {
        "collapsed": false
      },
      "outputs": [],
      "source": [
        "test_ground_truth = detections[0][:4]\nevaluation = detector.evaluate([test_ground_truth], prediction=detections)\nprint(evaluation)\nevaluation_from_raw = detector.evaluate([test_ground_truth], input_data=image)\nprint(evaluation_from_raw)"
      ]
    },
    {
      "cell_type": "code",
      "execution_count": null,
      "metadata": {
        "collapsed": false
      },
      "outputs": [],
      "source": [
        "image_dir = Path(\"test_imgs\")\n\n# This pattern matches any string that ends with .jpg, .jpeg, or .png, case-insensitively.\n# \\.   -> matches a literal dot\n# (jpg|jpeg|png) -> matches 'jpg' OR 'jpeg' OR 'png'\n# $    -> matches the end of the string\npattern = re.compile(r\"\\.(jpg|jpeg|png)$\", re.IGNORECASE)\n\n# Get list with all files and filter using the regex\nimage_paths = [path for path in image_dir.iterdir() if path.is_file() and pattern.search(str(path))]\ntry:\n    batch = [cv2.cvtColor(cv2.imread(str(path)), cv2.COLOR_BGR2RGB) for path in image_paths]\n    print(f\"\\nSuccessfully created a batch with {len(batch)} images.\")\nexcept Exception as e:\n    print(f\"An error occurred while reading images: {e}\")\n    batch = []\n\ndetections_batch = detector.predict_batch(batch)\nprint(detections_batch)"
      ]
    },
    {
      "cell_type": "markdown",
      "metadata": {},
      "source": [
        "Assuming detections_batch is in the format: [[(x,y,w,h,conf), ...], [(x,y,w,h,conf), ...], ...]\nCreate ground truth batch in the correct format\n\n"
      ]
    },
    {
      "cell_type": "code",
      "execution_count": null,
      "metadata": {
        "collapsed": false
      },
      "outputs": [],
      "source": [
        "batch_test_gt = [[(x, y, w, h) for (x, y, w, h, conf) in detections] for detections in detections_batch]\n\n# Now call evaluate_batch with the correct format\nbatch_evaluation = detector.evaluate_batch(\n    ground_truth_batch=batch_test_gt,  # List of lists of ground truth boxes\n    input_data_batch=None,  # We're providing predictions directly\n    predictions_batch=detections_batch,  # List of lists of predictions with confidence\n    num_workers=1,  # Use single worker for deterministic results\n)\n\nprint(batch_evaluation)"
      ]
    }
  ],
  "metadata": {
    "kernelspec": {
      "display_name": "Python 3",
      "language": "python",
      "name": "python3"
    },
    "language_info": {
      "codemirror_mode": {
        "name": "ipython",
        "version": 3
      },
      "file_extension": ".py",
      "mimetype": "text/x-python",
      "name": "python",
      "nbconvert_exporter": "python",
      "pygments_lexer": "ipython3",
      "version": "3.11.6"
    }
  },
  "nbformat": 4,
  "nbformat_minor": 0
}
