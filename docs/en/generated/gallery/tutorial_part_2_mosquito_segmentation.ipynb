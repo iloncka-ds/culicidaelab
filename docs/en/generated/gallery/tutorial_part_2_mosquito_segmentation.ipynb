{
  "cells": [
    {
      "cell_type": "code",
      "execution_count": null,
      "metadata": {
        "collapsed": false
      },
      "outputs": [],
      "source": [
        "%matplotlib inline"
      ]
    },
    {
      "cell_type": "markdown",
      "metadata": {},
      "source": [
        "\n\u0421\u0435\u0433\u043c\u0435\u043d\u0442\u0430\u0446\u0438\u044f \u043a\u043e\u043c\u0430\u0440\u043e\u0432 \u0441 \u043f\u043e\u043c\u043e\u0449\u044c\u044e MosquitoSegmenter\n===============================================\n\n\u042d\u0442\u043e\u0442 \u0442\u0443\u0442\u043e\u0440\u0438\u0430\u043b \u043f\u043e\u043a\u0430\u0437\u044b\u0432\u0430\u0435\u0442, \u043a\u0430\u043a \u0438\u0441\u043f\u043e\u043b\u044c\u0437\u043e\u0432\u0430\u0442\u044c `MosquitoSegmenter` \u0438\u0437 \u0431\u0438\u0431\u043b\u0438\u043e\u0442\u0435\u043a\u0438 CulicidaeLab\n\u0434\u043b\u044f \u0432\u044b\u043f\u043e\u043b\u043d\u0435\u043d\u0438\u044f \u0441\u0435\u0433\u043c\u0435\u043d\u0442\u0430\u0446\u0438\u0438 \u043a\u043e\u043c\u0430\u0440\u043e\u0432 \u043d\u0430 \u0438\u0437\u043e\u0431\u0440\u0430\u0436\u0435\u043d\u0438\u044f\u0445. \u041c\u044b \u0440\u0430\u0441\u0441\u043c\u043e\u0442\u0440\u0438\u043c:\n\n- \u0417\u0430\u0433\u0440\u0443\u0437\u043a\u0443 \u043c\u043e\u0434\u0435\u043b\u0438 \u0441\u0435\u0433\u043c\u0435\u043d\u0442\u0430\u0442\u043e\u0440\u0430 (SAM)\n- \u041f\u043e\u0434\u0433\u043e\u0442\u043e\u0432\u043a\u0443 \u0438\u0437\u043e\u0431\u0440\u0430\u0436\u0435\u043d\u0438\u044f\n- \u0417\u0430\u043f\u0443\u0441\u043a \u043f\u0440\u0435\u0434\u0441\u043a\u0430\u0437\u0430\u043d\u0438\u044f \u0434\u043b\u044f \u043f\u043e\u043b\u0443\u0447\u0435\u043d\u0438\u044f \u043c\u0430\u0441\u043a\u0438\n- \u0412\u0438\u0437\u0443\u0430\u043b\u0438\u0437\u0430\u0446\u0438\u044e \u0440\u0435\u0437\u0443\u043b\u044c\u0442\u0430\u0442\u0430\n"
      ]
    },
    {
      "cell_type": "markdown",
      "metadata": {},
      "source": [
        "# Mosquito Segmentation Tutorial\n\nThis tutorial demonstrates how to use the CulicidaeLab library\nto perform mosquito segmentation on images. We'll cover:\n\n1. Setting up the segmentation model\n2. Loading and preprocessing images\n3. Running segmentation\n4. Visualizing results\n\nFirst, let's import the necessary libraries:\n\n"
      ]
    },
    {
      "cell_type": "code",
      "execution_count": null,
      "metadata": {
        "collapsed": false
      },
      "outputs": [],
      "source": [
        "import cv2\nfrom pathlib import Path\nimport matplotlib.pyplot as plt\nfrom culicidaelab import MosquitoSegmenter, MosquitoDetector\nfrom culicidaelab.core.provider_service import ProviderService\nfrom culicidaelab.predictors.model_weights_manager import ModelWeightsManager\nfrom culicidaelab import get_settings"
      ]
    },
    {
      "cell_type": "markdown",
      "metadata": {},
      "source": [
        "## 1. Initialize Settings and Segmenter\n\nFirst, we'll initialize our settings and create a MosquitoSegmenter instance:\n\n"
      ]
    },
    {
      "cell_type": "markdown",
      "metadata": {},
      "source": [
        "Get settings instance\n\n"
      ]
    },
    {
      "cell_type": "code",
      "execution_count": null,
      "metadata": {
        "collapsed": false
      },
      "outputs": [],
      "source": [
        "settings = get_settings()\nsettings.list_model_types()"
      ]
    },
    {
      "cell_type": "code",
      "execution_count": null,
      "metadata": {
        "collapsed": false
      },
      "outputs": [],
      "source": [
        "model_config = settings.get_config(\"predictors.segmenter\")\nmodel_path = settings.get_model_weights_path(\"segmenter\")\nprovider_service = ProviderService(settings=settings)\nweights_manager = ModelWeightsManager(\n    settings=settings,\n    provider_service=provider_service,\n)\n# Initialize segmenter\nsegmenter = MosquitoSegmenter(settings=settings, load_model=True)"
      ]
    },
    {
      "cell_type": "markdown",
      "metadata": {},
      "source": [
        "## 2. Load and Preprocess Image\n\nNow let's load a test image:\n\n"
      ]
    },
    {
      "cell_type": "markdown",
      "metadata": {},
      "source": [
        "Load test image\n\n"
      ]
    },
    {
      "cell_type": "code",
      "execution_count": null,
      "metadata": {
        "collapsed": false
      },
      "outputs": [],
      "source": [
        "image_path = str(Path(\"test_imgs\") / \"640px-Aedes_aegypti.jpg\")\nimage = cv2.imread(image_path)\nimage = cv2.cvtColor(image, cv2.COLOR_BGR2RGB)"
      ]
    },
    {
      "cell_type": "markdown",
      "metadata": {},
      "source": [
        "## 3. Run Segmentation\n\nNow we can run the segmentation model on our image:\n\n"
      ]
    },
    {
      "cell_type": "code",
      "execution_count": null,
      "metadata": {
        "collapsed": false
      },
      "outputs": [],
      "source": [
        "mask = segmenter.predict(image)"
      ]
    },
    {
      "cell_type": "markdown",
      "metadata": {},
      "source": [
        "## 4. Visualize Results\n\nFinally, let's visualize the segmentation results overlaid on the original image:\n\n"
      ]
    },
    {
      "cell_type": "markdown",
      "metadata": {},
      "source": [
        "Visualize segmentation results\n\n"
      ]
    },
    {
      "cell_type": "code",
      "execution_count": null,
      "metadata": {
        "collapsed": false
      },
      "outputs": [],
      "source": [
        "segmented_image = segmenter.visualize(image, mask)\n\n# Display results\nplt.figure(figsize=(15, 5))\n\nplt.subplot(1, 3, 1)\nplt.imshow(image)\nplt.axis(\"off\")\nplt.title(\"Original Image\")\n\nplt.subplot(1, 3, 2)\nplt.imshow(mask, cmap=\"gray\")\nplt.axis(\"off\")\nplt.title(\"Segmentation Mask\")\n\nplt.subplot(1, 3, 3)\nplt.imshow(segmented_image)\nplt.axis(\"off\")\nplt.title(\"Segmented Image\")\n\nplt.tight_layout()\nplt.show()"
      ]
    },
    {
      "cell_type": "markdown",
      "metadata": {},
      "source": [
        "## Segmentation Using Detection Results\n\n\n"
      ]
    },
    {
      "cell_type": "markdown",
      "metadata": {},
      "source": [
        "The segmenter can also use detection results to improve segmentation accuracy.\nHere's how to combine detection and segmentation:\n\n"
      ]
    },
    {
      "cell_type": "markdown",
      "metadata": {},
      "source": [
        "Initialize detector\n\n"
      ]
    },
    {
      "cell_type": "code",
      "execution_count": null,
      "metadata": {
        "collapsed": false
      },
      "outputs": [],
      "source": [
        "detector = MosquitoDetector(settings=settings, load_model=True)\n# Load test image\nimage_path = str(Path(\"test_imgs\") / \"640px-Aedes_aegypti.jpg\")\nimage = cv2.imread(image_path)\nimage = cv2.cvtColor(image, cv2.COLOR_BGR2RGB)\n\n# Run detection\ndetections = detector.predict(image)\n\n# Run segmentation with detection boxes\nmask_with_boxes = segmenter.predict(image, detection_boxes=detections)\n# Draw detections\nannotated_image = detector.visualize(image, detections)\n\n# Print detection results\nprint(\"\\nDetection Results:\")\nfor i, (x, y, w, h, conf) in enumerate(detections):\n    print(\n        f\"Mosquito {i+1}: Confidence = {conf:.2f}, Box = (x={x:.1f}, y={y:.1f}, w={w:.1f}, h={h:.1f})\",\n    )\n# Visualize results\nsegmented_image_with_boxes = segmenter.visualize(annotated_image, mask_with_boxes)\n\n# plt.figure(figsize=(10, 10))\nplt.figure(figsize=(15, 5))\n\nplt.subplot(1, 2, 1)\nplt.imshow(mask_with_boxes, cmap=\"gray\")\nplt.axis(\"off\")\nplt.title(\"Segmentation Mask\")\n\n\nplt.subplot(1, 2, 2)\nplt.imshow(segmented_image_with_boxes)\nplt.axis(\"off\")\nplt.title(\"Segmentation with Detection Boxes\")\n\nplt.tight_layout()\nplt.show()"
      ]
    },
    {
      "cell_type": "code",
      "execution_count": null,
      "metadata": {
        "collapsed": false
      },
      "outputs": [],
      "source": [
        "metrics = segmenter.evaluate(mask_with_boxes, input_data=image)\nprint(metrics)"
      ]
    },
    {
      "cell_type": "code",
      "execution_count": null,
      "metadata": {
        "collapsed": false
      },
      "outputs": [],
      "source": [
        "metrics_default = segmenter.evaluate(\n    mask_with_boxes,\n    mask_with_boxes,\n)\nprint(metrics_default)"
      ]
    }
  ],
  "metadata": {
    "kernelspec": {
      "display_name": "Python 3",
      "language": "python",
      "name": "python3"
    },
    "language_info": {
      "codemirror_mode": {
        "name": "ipython",
        "version": 3
      },
      "file_extension": ".py",
      "mimetype": "text/x-python",
      "name": "python",
      "nbconvert_exporter": "python",
      "pygments_lexer": "ipython3",
      "version": "3.11.6"
    }
  },
  "nbformat": 4,
  "nbformat_minor": 0
}
