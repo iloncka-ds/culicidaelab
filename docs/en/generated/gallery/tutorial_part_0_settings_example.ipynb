{
 "cells": [
  {
   "cell_type": "code",
   "execution_count": null,
   "metadata": {
    "collapsed": false
   },
   "outputs": [],
   "source": [
    "%matplotlib inline"
   ]
  },
  {
   "cell_type": "markdown",
   "metadata": {},
   "source": [
    "\n# CulicidaeLab Settings Module Example\n\nThis notebook demonstrates how to use the settings module in CulicidaeLab.\n"
   ]
  },
  {
   "cell_type": "code",
   "execution_count": null,
   "metadata": {
    "collapsed": false
   },
   "outputs": [],
   "source": [
    "import os\n",
    "import yaml"
   ]
  },
  {
   "cell_type": "code",
   "execution_count": null,
   "metadata": {
    "collapsed": false
   },
   "outputs": [],
   "source": [
    "from culicidaelab.core.settings import get_settings"
   ]
  },
  {
   "cell_type": "markdown",
   "metadata": {},
   "source": [
    "## 1. Using Default Settings\n\nGet the default settings instance. This will use configurations from the default_configs directory.\n\n"
   ]
  },
  {
   "cell_type": "markdown",
   "metadata": {},
   "source": [
    "Get default settings\n\n"
   ]
  },
  {
   "cell_type": "code",
   "execution_count": null,
   "metadata": {
    "collapsed": false
   },
   "outputs": [],
   "source": [
    "settings = get_settings()\n",
    "\n",
    "# Print some basic information\n",
    "print(f\"Config directory: {settings.config_dir}\")\n",
    "print(f\"Models directory: {settings.model_dir}\")\n",
    "print(f\"Datasets directory: {settings.dataset_dir}\")\n",
    "print(f\"Cache directory: {settings.cache_dir}\")"
   ]
  },
  {
   "cell_type": "markdown",
   "metadata": {},
   "source": [
    "## 2. Working with Model Weights\n\nDemonstrate how to get model weights paths and handle downloads.\n\n"
   ]
  },
  {
   "cell_type": "markdown",
   "metadata": {},
   "source": [
    "Get paths for different model types\n\n"
   ]
  },
  {
   "cell_type": "code",
   "execution_count": null,
   "metadata": {
    "collapsed": false
   },
   "outputs": [],
   "source": [
    "detection_weights = settings.get_model_weights_path(\"detector\")\n",
    "segmentation_weights = settings.get_model_weights_path(\"segmenter\")\n",
    "classification_weights = settings.get_model_weights_path(\"classifier\")\n",
    "\n",
    "print(\"Model weights paths:\")\n",
    "print(f\"Detection: {detection_weights}\")\n",
    "print(f\"Segmentation: {segmentation_weights}\")\n",
    "print(f\"Classification: {classification_weights}\")"
   ]
  },
  {
   "cell_type": "markdown",
   "metadata": {},
   "source": [
    "## 3. Working with Species Configuration\n\nAccess species information from the configuration.\n\n"
   ]
  },
  {
   "cell_type": "markdown",
   "metadata": {},
   "source": [
    "Get species configuration\n\n"
   ]
  },
  {
   "cell_type": "code",
   "execution_count": null,
   "metadata": {
    "collapsed": false
   },
   "outputs": [],
   "source": [
    "species_config = settings.species_config\n",
    "\n",
    "# Print species mapping\n",
    "print(\"Species mapping:\")\n",
    "for idx, species in species_config.species_map.items():\n",
    "    print(f\"Class {idx}: {species}\")\n",
    "\n",
    "# Print metadata for a specific species\n",
    "species_name = \"Aedes aegypti\"\n",
    "metadata = species_config.get_species_metadata(species_name)\n",
    "if isinstance(metadata, dict):\n",
    "    print(f\"\\nMetadata for {species_name}:\")\n",
    "    for key, value in metadata.items():\n",
    "        print(f\"{key}: {value}\")"
   ]
  },
  {
   "cell_type": "markdown",
   "metadata": {},
   "source": [
    "## 4. Using Custom Configuration\n\nDemonstrate how to use custom configuration directory.\n\n"
   ]
  },
  {
   "cell_type": "code",
   "execution_count": null,
   "metadata": {
    "collapsed": false
   },
   "outputs": [],
   "source": [
    "# Create a custom config directory\n",
    "custom_config_dir = \"custom_configs\"\n",
    "os.makedirs(custom_config_dir, exist_ok=True)\n",
    "\n",
    "# Example minimal config with required \"species\" key\n",
    "example_config = {\n",
    "    \"species\": {\n",
    "        \"species_map\": {0: \"Aedes aegypti\", 1: \"Anopheles gambiae\"},\n",
    "        \"metadata\": {\n",
    "            \"Aedes aegypti\": {\"color\": \"yellow\", \"region\": \"tropical\"},\n",
    "            \"Anopheles gambiae\": {\"color\": \"brown\", \"region\": \"Africa\"},\n",
    "        },\n",
    "    },\n",
    "}\n",
    "\n",
    "# Write example config.yaml if it doesn't exist\n",
    "config_file_path = os.path.join(custom_config_dir, \"config.yaml\")\n",
    "if not os.path.exists(config_file_path):\n",
    "    with open(config_file_path, \"w\") as f:\n",
    "        yaml.safe_dump(example_config, f)\n",
    "\n",
    "# Validate the custom configuration directory contains the required key\n",
    "required_key = \"species\"\n",
    "with open(config_file_path) as file:\n",
    "    config_data = yaml.safe_load(file)\n",
    "    if required_key not in config_data:\n",
    "        raise KeyError(\n",
    "            f\"Missing required key '{required_key}' in custom configuration file.\",\n",
    "        )\n",
    "# Get settings with custom config directory\n",
    "custom_settings = get_settings(config_dir=custom_config_dir)\n",
    "\n",
    "print(f\"Custom config directory: {custom_settings.config_dir}\")\n",
    "\n",
    "# Note: This will use default configs if custom configs are not found\n",
    "print(f\"Using default configs: {custom_settings.config_dir == settings.config_dir}\")"
   ]
  }
 ],
 "metadata": {
  "kernelspec": {
   "display_name": "Python 3",
   "language": "python",
   "name": "python3"
  },
  "language_info": {
   "codemirror_mode": {
    "name": "ipython",
    "version": 3
   },
   "file_extension": ".py",
   "mimetype": "text/x-python",
   "name": "python",
   "nbconvert_exporter": "python",
   "pygments_lexer": "ipython3",
   "version": "3.11.6"
  }
 },
 "nbformat": 4,
 "nbformat_minor": 0
}
