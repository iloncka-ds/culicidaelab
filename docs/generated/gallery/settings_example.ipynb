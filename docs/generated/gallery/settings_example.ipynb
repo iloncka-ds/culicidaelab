{
  "cells": [
    {
      "cell_type": "code",
      "execution_count": null,
      "metadata": {
        "collapsed": false
      },
      "outputs": [],
      "source": [
        "%matplotlib inline"
      ]
    },
    {
      "cell_type": "markdown",
      "metadata": {},
      "source": [
        "\n# CulicidaeLab Settings Module Example\n\nThis notebook demonstrates how to use the settings module in CulicidaeLab.\n"
      ]
    },
    {
      "cell_type": "code",
      "execution_count": null,
      "metadata": {
        "collapsed": false
      },
      "outputs": [],
      "source": [
        "import os\nimport yaml\n\nfrom culicidaelab.core.settings import get_settings\n\n# ## 1. Using Default Settings\n#\n# Get the default settings instance. This will use configurations from the default_configs directory.\n\n# +\n# Get default settings\nsettings = get_settings()\n\n# Print some basic information\nprint(f\"Config directory: {settings.config_dir}\")\nprint(f\"Models directory: {settings.model_dir}\")\nprint(f\"Datasets directory: {settings.dataset_dir}\")\nprint(f\"Cache directory: {settings.cache_dir}\")\n# -\n\n# ## 2. Working with Model Weights\n#\n# Demonstrate how to get model weights paths and handle downloads.\n\n# +\n# Get paths for different model types\ndetection_weights = settings.get_model_weights_path(\"detector\")\nsegmentation_weights = settings.get_model_weights_path(\"segmenter\")\nclassification_weights = settings.get_model_weights_path(\"classifier\")\n\nprint(\"Model weights paths:\")\nprint(f\"Detection: {detection_weights}\")\nprint(f\"Segmentation: {segmentation_weights}\")\nprint(f\"Classification: {classification_weights}\")\n# -\n\n# ## 3. Working with Species Configuration\n#\n# Access species information from the configuration.\n\n# +\n# Get species configuration\nspecies_config = settings.species_config\n\n# Print species mapping\nprint(\"Species mapping:\")\nfor idx, species in species_config.species_map.items():\n    print(f\"Class {idx}: {species}\")\n\n# Print metadata for a specific species\nspecies_name = \"Aedes aegypti\"\nmetadata = species_config.get_species_metadata(species_name)\nprint(f\"\\nMetadata for {species_name}:\")\nfor key, value in metadata.items():\n    print(f\"{key}: {value}\")\n# -\n\n# ## 4. Using Custom Configuration\n#\n# Demonstrate how to use custom configuration directory.\n\n# +\n\n# Create a custom config directory\ncustom_config_dir = \"custom_configs\"\nos.makedirs(custom_config_dir, exist_ok=True)\n\n# Example minimal config with required \"species\" key\nexample_config = {\n    \"species\": {\n        \"species_map\": {0: \"Aedes aegypti\", 1: \"Anopheles gambiae\"},\n        \"metadata\": {\n            \"Aedes aegypti\": {\"color\": \"yellow\", \"region\": \"tropical\"},\n            \"Anopheles gambiae\": {\"color\": \"brown\", \"region\": \"Africa\"},\n        },\n    },\n}\n\n# Write example config.yaml if it doesn't exist\nconfig_file_path = os.path.join(custom_config_dir, \"config.yaml\")\nif not os.path.exists(config_file_path):\n    with open(config_file_path, \"w\") as f:\n        yaml.safe_dump(example_config, f)\n\n# Validate the custom configuration directory contains the required key\nrequired_key = \"species\"\nwith open(config_file_path) as file:\n    config_data = yaml.safe_load(file)\n    if required_key not in config_data:\n        raise KeyError(\n            f\"Missing required key '{required_key}' in custom configuration file.\",\n        )\n\n# Get settings with custom config directory\ncustom_settings = get_settings(config_dir=custom_config_dir)\n\nprint(f\"Custom config directory: {custom_settings.config_dir}\")\n\n# Note: This will use default configs if custom configs are not found\nprint(f\"Using default configs: {custom_settings.config_dir == settings.config_dir}\")"
      ]
    }
  ],
  "metadata": {
    "kernelspec": {
      "display_name": "Python 3",
      "language": "python",
      "name": "python3"
    },
    "language_info": {
      "codemirror_mode": {
        "name": "ipython",
        "version": 3
      },
      "file_extension": ".py",
      "mimetype": "text/x-python",
      "name": "python",
      "nbconvert_exporter": "python",
      "pygments_lexer": "ipython3",
      "version": "3.11.6"
    }
  },
  "nbformat": 4,
  "nbformat_minor": 0
}
