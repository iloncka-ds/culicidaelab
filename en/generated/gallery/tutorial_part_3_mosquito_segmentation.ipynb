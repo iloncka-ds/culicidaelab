{
  "cells": [
    {
      "cell_type": "code",
      "execution_count": null,
      "metadata": {
        "collapsed": false
      },
      "outputs": [],
      "source": [
        "%matplotlib inline"
      ]
    },
    {
      "cell_type": "markdown",
      "metadata": {},
      "source": [
        "\n# Mosquito Segmentation Tutorial\n\nThis tutorial demonstrates how to use the `culicidaelab` library\nto perform mosquito segmentation on images. We'll cover:\n\n1. Setting up the segmentation model\n2. Loading segmentation data from the dataset\n3. Running segmentation\n4. Visualizing results\n5. Evaluating performance with ground truth masks\n"
      ]
    },
    {
      "cell_type": "markdown",
      "metadata": {},
      "source": [
        "Install the `culicidaelab` library if not already installed\n# !pip install -q culicidaelab\n\n"
      ]
    },
    {
      "cell_type": "code",
      "execution_count": null,
      "metadata": {
        "collapsed": false
      },
      "outputs": [],
      "source": [
        "import matplotlib.pyplot as plt\nimport numpy as np\n\nfrom culicidaelab import MosquitoSegmenter, MosquitoDetector\nfrom culicidaelab import DatasetsManager, get_settings"
      ]
    },
    {
      "cell_type": "markdown",
      "metadata": {},
      "source": [
        "## 1. Initialize Settings and Load Dataset\n\nFirst, we'll initialize our settings, create MosquitoSegmenter and load the segmentation dataset:\n\n"
      ]
    },
    {
      "cell_type": "markdown",
      "metadata": {},
      "source": [
        "Get settings instance and initialize dataset manager\n\n"
      ]
    },
    {
      "cell_type": "code",
      "execution_count": null,
      "metadata": {
        "collapsed": false
      },
      "outputs": [],
      "source": [
        "settings = get_settings()\nmanager = DatasetsManager(settings)\n\n# Load segmentation dataset\nseg_data = manager.load_dataset(\"segmentation\", split=\"train[:20]\")\n\n# Initialize segmenter and detector\nsegmenter = MosquitoSegmenter(settings=settings, load_model=True)\ndetector = MosquitoDetector(settings=settings, load_model=True)"
      ]
    },
    {
      "cell_type": "markdown",
      "metadata": {},
      "source": [
        "## 2. Inspect a Segmentation Sample\n\nLet's examine a sample from the segmentation dataset to understand its structure:\n\n"
      ]
    },
    {
      "cell_type": "markdown",
      "metadata": {},
      "source": [
        "Inspect a segmentation sample\n\n"
      ]
    },
    {
      "cell_type": "code",
      "execution_count": null,
      "metadata": {
        "collapsed": false
      },
      "outputs": [],
      "source": [
        "seg_sample = seg_data[0]\nseg_image = seg_sample[\"image\"]\nseg_mask = np.array(seg_sample[\"label\"])  # Convert mask to numpy array\n\nprint(f\"Image size: {seg_image.size}\")\nprint(f\"Segmentation mask shape: {seg_mask.shape}\")\nprint(f\"Unique values in mask: {np.unique(seg_mask)}\")  # 0 is background, 1 and above is mosquito\n\n# Create a colored overlay for the mask\n# Where the mask is 1 and above (mosquito), we make it red\noverlay = np.zeros((*seg_mask.shape, 4), dtype=np.uint8)\noverlay[seg_mask >= 1] = [255, 0, 0, 128]  # Red color with 50% opacity"
      ]
    },
    {
      "cell_type": "markdown",
      "metadata": {},
      "source": [
        "## 3. Run Segmentation on Dataset Image\n\nNow we can run the segmentation model on our dataset image:\n\n"
      ]
    },
    {
      "cell_type": "markdown",
      "metadata": {},
      "source": [
        "Run detection to get bounding boxes\n\n"
      ]
    },
    {
      "cell_type": "code",
      "execution_count": null,
      "metadata": {
        "collapsed": false
      },
      "outputs": [],
      "source": [
        "detections = detector.predict(seg_image)\n\n# Run segmentation with detection boxes\npredicted_mask = segmenter.predict(seg_image, detection_boxes=np.array(detections))\n\n# Create visualizations\nannotated_image = detector.visualize(seg_image, detections)\nsegmented_image = segmenter.visualize(annotated_image, predicted_mask)"
      ]
    },
    {
      "cell_type": "markdown",
      "metadata": {},
      "source": [
        "## 4. Visualize Results with Ground Truth Comparison\n\nLet's visualize the segmentation results alongside the ground truth mask:\n\n"
      ]
    },
    {
      "cell_type": "code",
      "execution_count": null,
      "metadata": {
        "collapsed": false
      },
      "outputs": [],
      "source": [
        "plt.figure(figsize=(20, 10))\n\n# Original image\nplt.subplot(2, 4, 1)\nplt.imshow(seg_image)\nplt.axis(\"off\")\nplt.title(\"Original Image\")\n\n# Ground truth mask\nplt.subplot(2, 4, 2)\nplt.imshow(seg_mask, cmap=\"gray\")\nplt.axis(\"off\")\nplt.title(\"Ground Truth Mask\")\n\n# Ground truth overlay\nplt.subplot(2, 4, 3)\nplt.imshow(seg_image)\nplt.imshow(overlay, alpha=0.5)\nplt.axis(\"off\")\nplt.title(\"Ground Truth Overlay\")\n\n# Detections\nplt.subplot(2, 4, 4)\nplt.imshow(annotated_image)\nplt.axis(\"off\")\nplt.title(\"Detected Mosquitoes\")\n\n# Predicted mask\nplt.subplot(2, 4, 5)\nplt.imshow(predicted_mask, cmap=\"gray\")\nplt.axis(\"off\")\nplt.title(\"Predicted Mask\")\n\n# Predicted overlay\npredicted_overlay = np.zeros((*predicted_mask.shape, 4), dtype=np.uint8)\npredicted_overlay[predicted_mask >= 0.5] = [0, 255, 0, 128]  # Green for predictions\nplt.subplot(2, 4, 6)\nplt.imshow(seg_image)\nplt.imshow(predicted_overlay, alpha=0.5)\nplt.axis(\"off\")\nplt.title(\"Predicted Overlay\")\n\n# Combined overlay (ground truth + predictions)\ncombined_overlay = np.zeros((*predicted_mask.shape, 4), dtype=np.uint8)\ncombined_overlay[seg_mask >= 1] = [255, 0, 0, 128]  # Red for ground truth\ncombined_overlay[predicted_mask >= 0.5] = [0, 255, 0, 128]  # Green for predictions\nplt.subplot(2, 4, 7)\nplt.imshow(seg_image)\nplt.imshow(combined_overlay, alpha=0.5)\nplt.axis(\"off\")\nplt.title(\"Combined Overlay\\n(Red: GT, Green: Pred)\")\n\n# Final segmented image\nplt.subplot(2, 4, 8)\nplt.imshow(segmented_image)\nplt.axis(\"off\")\nplt.title(\"Final Segmented Image\")\n\nplt.tight_layout()\nplt.show()"
      ]
    },
    {
      "cell_type": "markdown",
      "metadata": {},
      "source": [
        "## 5. Evaluate Segmentation Performance\n\nLet's evaluate the segmentation results using the ground truth mask:\n\n"
      ]
    },
    {
      "cell_type": "code",
      "execution_count": null,
      "metadata": {
        "collapsed": false
      },
      "outputs": [],
      "source": [
        "metrics = segmenter.evaluate(\n    prediction=predicted_mask,\n    ground_truth=seg_mask,\n)\nprint(\"Segmentation Evaluation Metrics:\")\nfor key, value in metrics.items():\n    if isinstance(value, float):\n        print(f\"  {key}: {value:.4f}\")\n    else:\n        print(f\"  {key}: {value}\")"
      ]
    }
  ],
  "metadata": {
    "kernelspec": {
      "display_name": "Python 3",
      "language": "python",
      "name": "python3"
    },
    "language_info": {
      "codemirror_mode": {
        "name": "ipython",
        "version": 3
      },
      "file_extension": ".py",
      "mimetype": "text/x-python",
      "name": "python",
      "nbconvert_exporter": "python",
      "pygments_lexer": "ipython3",
      "version": "3.11.6"
    }
  },
  "nbformat": 4,
  "nbformat_minor": 0
}