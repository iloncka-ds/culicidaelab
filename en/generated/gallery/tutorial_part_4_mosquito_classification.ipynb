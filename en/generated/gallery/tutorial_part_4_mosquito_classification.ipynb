{
  "cells": [
    {
      "cell_type": "code",
      "execution_count": null,
      "metadata": {
        "collapsed": false
      },
      "outputs": [],
      "source": [
        "%matplotlib inline"
      ]
    },
    {
      "cell_type": "markdown",
      "metadata": {},
      "source": [
        "\n# Classifying Mosquito Species\n\nThis tutorial shows how to use the `MosquitoClassifier` from the CulicidaeLab\nlibrary to perform species classification. We will cover:\n\n- Loading the classification model\n- Preparing an image\n- Running the model to get classification results\n- Visualizing and interpreting the results\n- Evaluating a classification prediction\n"
      ]
    },
    {
      "cell_type": "markdown",
      "metadata": {},
      "source": [
        "Install the `culicidaelab` library if not already installed\n!pip install -q culicidaelab\n\n"
      ]
    },
    {
      "cell_type": "markdown",
      "metadata": {},
      "source": [
        "## 1. Initialization\n\nWe start by initializing the `MosquitoClassifier`. The `settings` object will handle\nthe configuration, and `load_model=True` will ensure the model is downloaded and\nloaded into memory right away.\n\n"
      ]
    },
    {
      "cell_type": "code",
      "execution_count": null,
      "metadata": {
        "collapsed": false
      },
      "outputs": [],
      "source": [
        "import cv2\nimport re\nimport matplotlib.pyplot as plt\nfrom pathlib import Path\n\nfrom culicidaelab import MosquitoClassifier, get_settings\n\n# Get settings instance\nsettings = get_settings()\n\n# Instantiate the classifier and load the model\nprint(\"Initializing MosquitoClassifier and loading model...\")\nclassifier = MosquitoClassifier(settings, load_model=True)\nprint(\"Model loaded successfully.\")\n\n# You can inspect the model's configuration directly from the settings object.\nclassifier_conf = settings.get_config(\"predictors.classifier\")\nprint(f\"\\nLoaded model architecture: {classifier_conf.model_arch}\")"
      ]
    },
    {
      "cell_type": "markdown",
      "metadata": {},
      "source": [
        "### Inspecting Model Classes\nIt's often useful to see which species the model was trained to recognize.\nThe recommended way is to use the `species_config`.\n\n"
      ]
    },
    {
      "cell_type": "code",
      "execution_count": null,
      "metadata": {
        "collapsed": false
      },
      "outputs": [],
      "source": [
        "species_map = settings.species_config.species_map\nprint(\"--- Model Classes (from settings) ---\")\nprint(species_map)"
      ]
    },
    {
      "cell_type": "markdown",
      "metadata": {},
      "source": [
        "## 2. Preparing an Image for Classification\n\nNow, let's load a test image. The classifier expects an image in RGB format.\n\n"
      ]
    },
    {
      "cell_type": "markdown",
      "metadata": {},
      "source": [
        "Load a test image\n\n"
      ]
    },
    {
      "cell_type": "code",
      "execution_count": null,
      "metadata": {
        "collapsed": false
      },
      "outputs": [],
      "source": [
        "image_path = Path(\"test_imgs\") / \"640px-Aedes_aegypti.jpg\"\nimage = cv2.imread(str(image_path))\nif image is None:\n    raise ValueError(f\"Could not load image from {image_path}\")\n\n# Convert from BGR (OpenCV's default) to RGB\nimage_rgb = cv2.cvtColor(image, cv2.COLOR_BGR2RGB)\n\n# Display the input image\nplt.figure(figsize=(8, 8))\nplt.imshow(image_rgb)\nplt.axis(\"off\")\nplt.title(\"Input Image\")\nplt.show()"
      ]
    },
    {
      "cell_type": "markdown",
      "metadata": {},
      "source": [
        "## 3. Running Classification and Interpreting Results\n\nThe `predict` method returns a list of tuples, where each tuple contains\na `(species_name, confidence_score)`, sorted by confidence.\n\n"
      ]
    },
    {
      "cell_type": "markdown",
      "metadata": {},
      "source": [
        "Run classification\n\n"
      ]
    },
    {
      "cell_type": "code",
      "execution_count": null,
      "metadata": {
        "collapsed": false
      },
      "outputs": [],
      "source": [
        "predictions = classifier.predict(image_rgb)\n\n# Let's print the top 5 predictions\nprint(\"--- Top 5 Predictions ---\")\nfor species, prob in predictions[:5]:\n    print(f\"{species}: {prob:.2%}\")"
      ]
    },
    {
      "cell_type": "markdown",
      "metadata": {},
      "source": [
        "## 4. Visualizing Classification Results\n\n`CulicidaeLab` provides two easy ways to visualize the results:\n1. A bar plot showing the confidence for all classes.\n2. An annotated image with the top predictions overlaid.\n\n"
      ]
    },
    {
      "cell_type": "markdown",
      "metadata": {},
      "source": [
        "Get all species names and their predicted probabilities\n\n"
      ]
    },
    {
      "cell_type": "code",
      "execution_count": null,
      "metadata": {
        "collapsed": false
      },
      "outputs": [],
      "source": [
        "species_names = [p[0] for p in predictions]\nprobabilities = [p[1] for p in predictions]\nconf_threshold = settings.get_config(\"predictors.classifier.confidence\")\n\n# Create a bar plot of the probabilities\nplt.figure(figsize=(12, 7))\nbars = plt.barh(species_names[::-1], probabilities[::-1])  # Reverse to show highest on top\n\n# Color bars based on confidence\nfor i, prob in enumerate(probabilities[::-1]):\n    bars[i].set_color(\"teal\" if prob >= conf_threshold else \"lightgray\")\n\nplt.axvline(x=conf_threshold, color=\"r\", linestyle=\"--\", label=f\"Confidence Threshold ({conf_threshold:.0%})\")\nplt.xlabel(\"Probability\")\nplt.title(\"Species Classification Probabilities\")\nplt.legend()\nplt.tight_layout()\nplt.show()"
      ]
    },
    {
      "cell_type": "markdown",
      "metadata": {},
      "source": [
        "The `visualize` method overlays the top predictions directly onto the image.\n\n"
      ]
    },
    {
      "cell_type": "code",
      "execution_count": null,
      "metadata": {
        "collapsed": false
      },
      "outputs": [],
      "source": [
        "annotated_image = classifier.visualize(image_rgb, predictions)\n\n# Display the annotated image\nplt.figure(figsize=(10, 10))\nplt.imshow(annotated_image)\nplt.axis(\"off\")\nplt.title(\"Classification Result with Overlay\")\nplt.show()"
      ]
    },
    {
      "cell_type": "markdown",
      "metadata": {},
      "source": [
        "## 5. Evaluating a Prediction\n\nTo measure performance, you can evaluate a prediction against a known ground truth label.\nThis returns key metrics like accuracy and top-5 correctness.\n\n"
      ]
    },
    {
      "cell_type": "markdown",
      "metadata": {},
      "source": [
        "The true label for our test image is 'aedes_aegypti'\n\n"
      ]
    },
    {
      "cell_type": "code",
      "execution_count": null,
      "metadata": {
        "collapsed": false
      },
      "outputs": [],
      "source": [
        "ground_truth_label = \"aedes_aegypti\"\n\n# You can evaluate from a pre-computed prediction...\nprint(f\"--- Evaluating prediction against ground truth '{ground_truth_label}' ---\")\nmetrics_from_prediction = classifier.evaluate(ground_truth_label, prediction=predictions)\nprint(f\"Metrics from prediction: {metrics_from_prediction}\")\n\n# ... or directly from the input image.\nmetrics_from_image = classifier.evaluate(ground_truth_label, input_data=image_rgb)\nprint(f\"Metrics from image: {metrics_from_image}\")"
      ]
    },
    {
      "cell_type": "markdown",
      "metadata": {},
      "source": [
        "## 6. Batch Classification\n\nJust like the detector, the classifier can process a batch of images for improved performance.\n\n"
      ]
    },
    {
      "cell_type": "code",
      "execution_count": null,
      "metadata": {
        "collapsed": false
      },
      "outputs": [],
      "source": [
        "image_dir = Path(\"test_imgs\")\npattern = re.compile(r\"\\.(jpg|jpeg|png)$\", re.IGNORECASE)\nimage_paths = [path for path in image_dir.iterdir() if path.is_file() and pattern.search(str(path))]\n\ntry:\n    batch = [cv2.cvtColor(cv2.imread(str(path)), cv2.COLOR_BGR2RGB) for path in image_paths]\n    print(f\"\\n--- Classifying a batch of {len(batch)} images ---\")\nexcept Exception as e:\n    print(f\"An error occurred while reading images: {e}\")\n    batch = []\n\nclassifier_batch_result = classifier.predict_batch(batch, show_progress=True)\nprint(\"\\n--- Batch Classification Results ---\")\nfor i, single_image_preds in enumerate(classifier_batch_result):\n    top_pred_species = single_image_preds[0][0]\n    top_pred_conf = single_image_preds[0][1]\n    print(\n        f\"  - Image '{image_paths[i].name}': \",\n        f\"Top prediction is '{top_pred_species}' with {top_pred_conf:.2%} confidence.\",\n    )"
      ]
    }
  ],
  "metadata": {
    "kernelspec": {
      "display_name": "Python 3",
      "language": "python",
      "name": "python3"
    },
    "language_info": {
      "codemirror_mode": {
        "name": "ipython",
        "version": 3
      },
      "file_extension": ".py",
      "mimetype": "text/x-python",
      "name": "python",
      "nbconvert_exporter": "python",
      "pygments_lexer": "ipython3",
      "version": "3.11.13"
    }
  },
  "nbformat": 4,
  "nbformat_minor": 0
}