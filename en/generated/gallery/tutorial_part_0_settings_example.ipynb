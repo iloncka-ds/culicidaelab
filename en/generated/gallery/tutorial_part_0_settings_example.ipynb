{
  "cells": [
    {
      "cell_type": "code",
      "execution_count": null,
      "metadata": {
        "collapsed": false
      },
      "outputs": [],
      "source": [
        "%matplotlib inline"
      ]
    },
    {
      "cell_type": "markdown",
      "metadata": {},
      "source": [
        "\n# Understanding and Using the Settings\n\nThis tutorial demonstrates how to use the core `settings` object in CulicidaeLab.\nThe `settings` object is the main entry point for accessing configurations, file paths,\nand model parameters throughout the library.\n"
      ]
    },
    {
      "cell_type": "markdown",
      "metadata": {},
      "source": [
        "Install the `culicidaelab` library if not already installed\n!pip install -q culicidaelab\n\n"
      ]
    },
    {
      "cell_type": "code",
      "execution_count": null,
      "metadata": {
        "collapsed": false
      },
      "outputs": [],
      "source": [
        "import yaml\nfrom pathlib import Path"
      ]
    },
    {
      "cell_type": "code",
      "execution_count": null,
      "metadata": {
        "collapsed": false
      },
      "outputs": [],
      "source": [
        "from culicidaelab import get_settings"
      ]
    },
    {
      "cell_type": "markdown",
      "metadata": {},
      "source": [
        "## 1. Using Default Settings\n\nThe easiest way to start with `CulicidaeLab` is by loading the default settings.\nThe `get_settings()` function acts as a singleton; it loads the configuration once\nand returns the same instance on subsequent calls. This ensures a consistent\nstate across your application.\n\nThe default settings are loaded from the configuration files bundled with the library.\n\n"
      ]
    },
    {
      "cell_type": "markdown",
      "metadata": {},
      "source": [
        "Get the default settings instance\n\n"
      ]
    },
    {
      "cell_type": "code",
      "execution_count": null,
      "metadata": {
        "collapsed": false
      },
      "outputs": [],
      "source": [
        "settings = get_settings()\n\n# The settings object provides easy access to key resource directories.\n# The library will automatically create these directories if they don't exist.\nprint(\"--- Default Resource Directories ---\")\nprint(f\"Active Config Directory: {settings.config_dir}\")\nprint(f\"Models Directory: {settings.model_dir}\")\nprint(f\"Datasets Directory: {settings.dataset_dir}\")\nprint(f\"Cache Directory: {settings.cache_dir}\")"
      ]
    },
    {
      "cell_type": "markdown",
      "metadata": {},
      "source": [
        "## 2. Accessing Model Weight Paths\n\nThe `settings` object knows the default local paths for all predictor model weights.\nWhen you instantiate a predictor, it uses these paths to find or download the models.\n\n"
      ]
    },
    {
      "cell_type": "markdown",
      "metadata": {},
      "source": [
        "Get the configured local file paths for different model types\n\n"
      ]
    },
    {
      "cell_type": "code",
      "execution_count": null,
      "metadata": {
        "collapsed": false
      },
      "outputs": [],
      "source": [
        "detection_weights = settings.get_model_weights_path(\"detector\")\nsegmentation_weights = settings.get_model_weights_path(\"segmenter\")\nclassification_weights = settings.get_model_weights_path(\"classifier\")\n\nprint(\"--- Default Model Weight Paths ---\")\nprint(f\"Detection Model: {detection_weights}\")\nprint(f\"Segmentation Model: {segmentation_weights}\")\nprint(f\"Classification Model: {classification_weights}\")"
      ]
    },
    {
      "cell_type": "markdown",
      "metadata": {},
      "source": [
        "## 3. Working with Species Configuration\n\nAll species-related information, including class names and detailed metadata,\nis managed through the `species_config` property. This is crucial for interpreting\nthe output of the classification model.\n\n"
      ]
    },
    {
      "cell_type": "markdown",
      "metadata": {},
      "source": [
        "Get the dedicated species configuration object\n\n"
      ]
    },
    {
      "cell_type": "code",
      "execution_count": null,
      "metadata": {
        "collapsed": false
      },
      "outputs": [],
      "source": [
        "species_config = settings.species_config\n\n# You can easily retrieve the mapping of class indices to species names.\nprint(\"\\n--- Species Index-to-Name Mapping ---\")\nfor idx, species in species_config.species_map.items():\n    print(f\"Class {idx}: {species}\")\n\n# You can also fetch detailed metadata for any specific species.\nspecies_name = \"Aedes aegypti\"\nmetadata = species_config.get_species_metadata(species_name)\nif isinstance(metadata, dict):\n    print(f\"\\n--- Metadata for '{species_name}' ---\")\n    for key, value in metadata.items():\n        print(f\"{key}: {value}\")"
      ]
    },
    {
      "cell_type": "markdown",
      "metadata": {},
      "source": [
        "## 4. Using a Custom Configuration Directory\n\nFor advanced use cases, such as providing your own species metadata or changing\ndefault model parameters, you can point the library to a custom configuration directory.\n\n`CulicidaeLab` will load your custom `.yaml` files and merge them on top of the defaults.\nThis allows you to override only the settings you need to change.\n\n"
      ]
    },
    {
      "cell_type": "markdown",
      "metadata": {},
      "source": [
        "Create a custom config directory and a new config file\n\n"
      ]
    },
    {
      "cell_type": "code",
      "execution_count": null,
      "metadata": {
        "collapsed": false
      },
      "outputs": [],
      "source": [
        "custom_config_dir = Path(\"custom_configs\")\ncustom_config_dir.mkdir(exist_ok=True)\n\n# Define a minimal custom configuration. We'll just override the species info.\n# Any settings not defined here will fall back to the library's defaults.\nexample_config = {\n    \"species\": {\n        \"species_classes\": {0: \"Aedes aegypti\", 1: \"Anopheles gambiae\"},\n        \"species_metadata\": {\n            \"species_info_mapping\": {\n                \"aedes_aegypti\": \"Aedes aegypti\",\n                \"anopheles_gambiae\": \"Anopheles gambiae\",\n            },\n            \"species_metadata\": {\n                \"Aedes aegypti\": {\n                    \"common_name\": \"Custom Yellow Fever Mosquito\",\n                    \"taxonomy\": {\n                        \"family\": \"Culicidae\",\n                        \"subfamily\": \"Culicinae\",\n                        \"genus\": \"Aedes\",\n                    },\n                    \"metadata\": {\n                        \"vector_status\": True,\n                        \"diseases\": [\"Dengue\", \"Zika\"],\n                        \"habitat\": \"Urban\",\n                        \"breeding_sites\": [\"Artificial containers\"],\n                        \"sources\": [\"custom_source\"],\n                    },\n                },\n                \"Anopheles gambiae\": {\n                    \"common_name\": \"Custom African Malaria Mosquito\",\n                    \"taxonomy\": {\n                        \"family\": \"Culicidae\",\n                        \"subfamily\": \"Anophelinae\",\n                        \"genus\": \"Anopheles\",\n                    },\n                    \"metadata\": {\n                        \"vector_status\": True,\n                        \"diseases\": [\"Malaria\"],\n                        \"habitat\": \"Rural\",\n                        \"breeding_sites\": [\"Puddles\"],\n                        \"sources\": [\"custom_source\"],\n                    },\n                },\n            },\n        },\n    },\n}\n\n\n# Write the custom config file\nconfig_file_path = custom_config_dir / \"species.yaml\"\nwith open(config_file_path, \"w\") as f:\n    yaml.safe_dump(example_config, f)\n\n# Now, initialize settings with the path to our custom directory.\n# `get_settings` is smart enough to create a *new* instance if a different config_dir is provided.\nprint(\"\\n--- Initializing with Custom Settings ---\")\ncustom_settings = get_settings(config_dir=str(custom_config_dir))\n\nprint(f\"Active Config Directory: {custom_settings.config_dir}\")\n\n# Let's check if our custom species map was loaded\nprint(\"\\n--- Custom Species Mapping ---\")\nfor idx, species in custom_settings.species_config.species_map.items():\n    print(f\"Class {idx}: {species}\")"
      ]
    },
    {
      "cell_type": "markdown",
      "metadata": {},
      "source": [
        "## 5. Overriding a Single Configuration Value\n\nSometimes, you may only want to change a single value at runtime without creating new YAML files.\nThe `set_config` method is perfect for this.\n\nLet's load the default settings and change the confidence threshold for the detector.\n\n"
      ]
    },
    {
      "cell_type": "markdown",
      "metadata": {},
      "source": [
        "Load default settings again (or use the previous 'settings' instance)\n\n"
      ]
    },
    {
      "cell_type": "code",
      "execution_count": null,
      "metadata": {
        "collapsed": false
      },
      "outputs": [],
      "source": [
        "runtime_settings = get_settings()\noriginal_confidence = runtime_settings.get_config(\"predictors.detector.confidence\")\nprint(f\"Original detector confidence: {original_confidence}\")\n\n# Set a new confidence value at runtime\nruntime_settings.set_config(\"predictors.detector.confidence\", 0.85)\nnew_confidence = runtime_settings.get_config(\"predictors.detector.confidence\")\nprint(f\"New detector confidence: {new_confidence}\")"
      ]
    }
  ],
  "metadata": {
    "kernelspec": {
      "display_name": "Python 3",
      "language": "python",
      "name": "python3"
    },
    "language_info": {
      "codemirror_mode": {
        "name": "ipython",
        "version": 3
      },
      "file_extension": ".py",
      "mimetype": "text/x-python",
      "name": "python",
      "nbconvert_exporter": "python",
      "pygments_lexer": "ipython3",
      "version": "3.11.6"
    }
  },
  "nbformat": 4,
  "nbformat_minor": 0
}