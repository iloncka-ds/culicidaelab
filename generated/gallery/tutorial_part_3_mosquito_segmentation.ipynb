{
  "cells": [
    {
      "cell_type": "code",
      "execution_count": null,
      "metadata": {
        "collapsed": false
      },
      "outputs": [],
      "source": [
        "%matplotlib inline"
      ]
    },
    {
      "cell_type": "markdown",
      "metadata": {},
      "source": [
        "\n# Mosquito Segmentation Tutorial\n\nThis tutorial demonstrates how to use the CulicidaeLab library\nto perform mosquito segmentation on images. We'll cover:\n\n1. Setting up the segmentation model\n2. Loading and preprocessing images\n3. Running segmentation\n4. Visualizing results\n"
      ]
    },
    {
      "cell_type": "markdown",
      "metadata": {},
      "source": [
        "Install the `culicidaelab` library if not already installed\n!pip install -q culicidaelab\n\n"
      ]
    },
    {
      "cell_type": "markdown",
      "metadata": {},
      "source": [
        "First, let's import the necessary libraries:\n\n"
      ]
    },
    {
      "cell_type": "code",
      "execution_count": null,
      "metadata": {
        "collapsed": false
      },
      "outputs": [],
      "source": [
        "import cv2\nfrom pathlib import Path\nimport matplotlib.pyplot as plt\nfrom culicidaelab import MosquitoSegmenter, MosquitoDetector\nfrom culicidaelab import ProviderService\nfrom culicidaelab import ModelWeightsManager\nfrom culicidaelab import get_settings"
      ]
    },
    {
      "cell_type": "markdown",
      "metadata": {},
      "source": [
        "## 1. Initialize Settings and Segmenter\n\nFirst, we'll initialize our settings and create a MosquitoSegmenter instance:\n\n"
      ]
    },
    {
      "cell_type": "markdown",
      "metadata": {},
      "source": [
        "Get settings instance\n\n"
      ]
    },
    {
      "cell_type": "code",
      "execution_count": null,
      "metadata": {
        "collapsed": false
      },
      "outputs": [],
      "source": [
        "settings = get_settings()\nsettings.list_model_types()"
      ]
    },
    {
      "cell_type": "code",
      "execution_count": null,
      "metadata": {
        "collapsed": false
      },
      "outputs": [],
      "source": [
        "model_config = settings.get_config(\"predictors.segmenter\")\nmodel_path = settings.get_model_weights_path(\"segmenter\")\nprovider_service = ProviderService(settings=settings)\nweights_manager = ModelWeightsManager(\n    settings=settings,\n    provider_service=provider_service,\n)\n# Initialize segmenter\nsegmenter = MosquitoSegmenter(settings=settings, load_model=True)"
      ]
    },
    {
      "cell_type": "markdown",
      "metadata": {},
      "source": [
        "## 2. Load and Preprocess Image\n\nNow let's load a test image:\n\n"
      ]
    },
    {
      "cell_type": "markdown",
      "metadata": {},
      "source": [
        "Load test image\n\n"
      ]
    },
    {
      "cell_type": "code",
      "execution_count": null,
      "metadata": {
        "collapsed": false
      },
      "outputs": [],
      "source": [
        "image_path = str(Path(\"test_imgs\") / \"640px-Aedes_aegypti.jpg\")\nimage = cv2.imread(image_path)\nimage = cv2.cvtColor(image, cv2.COLOR_BGR2RGB)"
      ]
    },
    {
      "cell_type": "markdown",
      "metadata": {},
      "source": [
        "## 3. Run Segmentation\n\nNow we can run the segmentation model on our image:\n\n"
      ]
    },
    {
      "cell_type": "code",
      "execution_count": null,
      "metadata": {
        "collapsed": false
      },
      "outputs": [],
      "source": [
        "mask = segmenter.predict(image)"
      ]
    },
    {
      "cell_type": "markdown",
      "metadata": {},
      "source": [
        "## 4. Visualize Results\n\nFinally, let's visualize the segmentation results overlaid on the original image:\n\n"
      ]
    },
    {
      "cell_type": "markdown",
      "metadata": {},
      "source": [
        "Visualize segmentation results\n\n"
      ]
    },
    {
      "cell_type": "code",
      "execution_count": null,
      "metadata": {
        "collapsed": false
      },
      "outputs": [],
      "source": [
        "segmented_image = segmenter.visualize(image, mask)\n\n# Display results\nplt.figure(figsize=(15, 5))\n\nplt.subplot(1, 3, 1)\nplt.imshow(image)\nplt.axis(\"off\")\nplt.title(\"Original Image\")\n\nplt.subplot(1, 3, 2)\nplt.imshow(mask, cmap=\"gray\")\nplt.axis(\"off\")\nplt.title(\"Segmentation Mask\")\n\nplt.subplot(1, 3, 3)\nplt.imshow(segmented_image)\nplt.axis(\"off\")\nplt.title(\"Segmented Image\")\n\nplt.tight_layout()\nplt.show()"
      ]
    },
    {
      "cell_type": "markdown",
      "metadata": {},
      "source": [
        "## Segmentation Using Detection Results\n\n\n"
      ]
    },
    {
      "cell_type": "markdown",
      "metadata": {},
      "source": [
        "The segmenter can also use detection results to improve segmentation accuracy.\nHere's how to combine detection and segmentation:\n\n"
      ]
    },
    {
      "cell_type": "markdown",
      "metadata": {},
      "source": [
        "Initialize detector\n\n"
      ]
    },
    {
      "cell_type": "code",
      "execution_count": null,
      "metadata": {
        "collapsed": false
      },
      "outputs": [],
      "source": [
        "detector = MosquitoDetector(settings=settings, load_model=True)\n# Load test image\nimage_path = str(Path(\"test_imgs\") / \"640px-Aedes_aegypti.jpg\")\nimage = cv2.imread(image_path)\nimage = cv2.cvtColor(image, cv2.COLOR_BGR2RGB)\n\n# Run detection\ndetections = detector.predict(image)\n\n# Run segmentation with detection boxes\nmask_with_boxes = segmenter.predict(image, detection_boxes=detections)\n# Draw detections\nannotated_image = detector.visualize(image, detections)\n\n# Print detection results\nprint(\"\\nDetection Results:\")\nfor i, (x, y, w, h, conf) in enumerate(detections):\n    print(\n        f\"Mosquito {i+1}: Confidence = {conf:.2f}, Box = (x={x:.1f}, y={y:.1f}, w={w:.1f}, h={h:.1f})\",\n    )\n# Visualize results\nsegmented_image_with_boxes = segmenter.visualize(annotated_image, mask_with_boxes)\n\n# plt.figure(figsize=(10, 10))\nplt.figure(figsize=(15, 5))\n\nplt.subplot(1, 2, 1)\nplt.imshow(mask_with_boxes, cmap=\"gray\")\nplt.axis(\"off\")\nplt.title(\"Segmentation Mask\")\n\n\nplt.subplot(1, 2, 2)\nplt.imshow(segmented_image_with_boxes)\nplt.axis(\"off\")\nplt.title(\"Segmentation with Detection Boxes\")\n\nplt.tight_layout()\nplt.show()"
      ]
    },
    {
      "cell_type": "code",
      "execution_count": null,
      "metadata": {
        "collapsed": false
      },
      "outputs": [],
      "source": [
        "metrics = segmenter.evaluate(mask_with_boxes, input_data=image)\nprint(metrics)"
      ]
    },
    {
      "cell_type": "code",
      "execution_count": null,
      "metadata": {
        "collapsed": false
      },
      "outputs": [],
      "source": [
        "metrics_default = segmenter.evaluate(\n    mask_with_boxes,\n    mask_with_boxes,\n)\nprint(metrics_default)"
      ]
    }
  ],
  "metadata": {
    "kernelspec": {
      "display_name": "Python 3",
      "language": "python",
      "name": "python3"
    },
    "language_info": {
      "codemirror_mode": {
        "name": "ipython",
        "version": 3
      },
      "file_extension": ".py",
      "mimetype": "text/x-python",
      "name": "python",
      "nbconvert_exporter": "python",
      "pygments_lexer": "ipython3",
      "version": "3.11.13"
    }
  },
  "nbformat": 4,
  "nbformat_minor": 0
}