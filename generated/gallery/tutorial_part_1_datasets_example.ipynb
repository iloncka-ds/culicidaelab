{
  "cells": [
    {
      "cell_type": "code",
      "execution_count": null,
      "metadata": {
        "collapsed": false
      },
      "outputs": [],
      "source": [
        "%matplotlib inline"
      ]
    },
    {
      "cell_type": "markdown",
      "metadata": {},
      "source": [
        "\n# Managing and Loading Datasets\n\nThis tutorial demonstrates how to use the `DatasetsManager` in CulicidaeLab\nto interact with the datasets defined in the library's configuration.\n"
      ]
    },
    {
      "cell_type": "markdown",
      "metadata": {},
      "source": [
        "### Who is this guide for?\n\nThis tutorial is for researchers, developers, and students working on entomology,\nepidemiology, and computer vision. Whether you're training a new AI model,\nbenchmarking an algorithm, or exploring mosquito biodiversity,\nthis guide will help you get up and running quickly with available mosquito datasets.\n\n### What you will learn:\n\n*   How to initialize the `DatasetsManager`.\n*   To list available mosquito datasets and view their specific details.\n*   How to load classification, detection, and segmentation datasets.\n*   How to perform exploratory data analysis (EDA) on a mosquito diversity dataset.\n\n### Prerequisites\n\nBefore you start, make sure you have `culicidaelab` and other necessary libraries installed with code:\n\n"
      ]
    },
    {
      "cell_type": "markdown",
      "metadata": {},
      "source": [
        "%pip install culicidaelab requests matplotlib numpy\n\n"
      ]
    },
    {
      "cell_type": "markdown",
      "metadata": {},
      "source": [
        "Standard library imports\n\n"
      ]
    },
    {
      "cell_type": "code",
      "execution_count": null,
      "metadata": {
        "collapsed": false
      },
      "outputs": [],
      "source": [
        "from collections import defaultdict\nfrom pathlib import Path\nimport json\n\n# Third-party imports\nimport matplotlib.pyplot as plt\nimport numpy as np\nimport requests\nimport yaml\nimport cv2\n\n# CulicidaeLab imports\nfrom culicidaelab import get_settings, DatasetsManager, DatasetConfig"
      ]
    },
    {
      "cell_type": "markdown",
      "metadata": {},
      "source": [
        "## 1. Quick Start: Load a Dataset in 3 Lines\n\nFor those who want to get data immediately. This snippet initializes the library and loads the test\nsplit of the mosquito species classification dataset.\n\n"
      ]
    },
    {
      "cell_type": "code",
      "execution_count": null,
      "metadata": {
        "collapsed": false
      },
      "outputs": [],
      "source": [
        "print(\"--- Quick Start: Loading Classification Dataset ---\")\n# Initialize settings and datasets manager\nsettings = get_settings()\nmanager = DatasetsManager(settings)\n# Load the classification dataset\nclassification_dataset = manager.load_dataset(\"classification\", split=\"test\")\n\nprint(f\"\ud83d\ude80 Quick Start successful! Loaded {len(classification_dataset)} classification samples.\")"
      ]
    },
    {
      "cell_type": "markdown",
      "metadata": {},
      "source": [
        "## 2. Initializing and Exploring Available Datasets\n\nNow, let's dive deeper with each component.\n\n"
      ]
    },
    {
      "cell_type": "code",
      "execution_count": null,
      "metadata": {
        "collapsed": false
      },
      "outputs": [],
      "source": [
        "print(\"--- Initializing Core Components ---\")\n# The get_settings() function is a singleton, so it will return the\n# already loaded instance\nsettings = get_settings()\n# The `DatasetsManager` is your central hub for all dataset-related\n# tasks. It handles downloading, caching, and loading.\nmanager = DatasetsManager(settings)\nprint(\"\u2705 Core components initialized.\")"
      ]
    },
    {
      "cell_type": "markdown",
      "metadata": {},
      "source": [
        "### Listing Datasets and Their Statistics\n\nYou can easily see all datasets configured in the library and get a quick overview\nof their contents.\n\n"
      ]
    },
    {
      "cell_type": "code",
      "execution_count": null,
      "metadata": {
        "collapsed": false
      },
      "outputs": [],
      "source": [
        "print(\"\\n--- Available Datasets ---\")\ndataset_names = manager.list_datasets()\n\nfor name in dataset_names:\n    try:\n        # Access the dataset's configuration directly from settings\n        config = settings.get_config(f\"datasets.{name}\")\n        class_count = len(config.classes)\n        print(f\"\\n\ud83d\udccb Dataset: '{name}'\")\n        print(f\"   - Provider: {config.provider_name}\")\n        print(f\"   - Repository: {config.repository}\")\n        print(f\"   - Format: {config.format}\")\n        print(f\"   - Classes: {class_count}\")\n    except KeyError:\n        print(f\"\\nCould not find configuration for dataset: {name}\")"
      ]
    },
    {
      "cell_type": "markdown",
      "metadata": {},
      "source": [
        "## 3. Loading and Visualizing Each Dataset Type\n\n`culicidaelab` supports three main task types: classification, detection, and segmentation.\nLet's load a sample from each and visualize the data to understand its structure.\n\n### Use Case 1: Species Classification\n\n**Goal**: Identify the species of a mosquito from an image.\n\n**Data Structure**: The dataset returns a dictionary containing a PIL `Image`\nand an string `label`.\n\n"
      ]
    },
    {
      "cell_type": "code",
      "execution_count": null,
      "metadata": {
        "collapsed": false
      },
      "outputs": [],
      "source": [
        "print(\"\\n--- Loading Classification Dataset ---\")\nclass_data = manager.load_dataset(\"classification\", split=\"test\")\n\n# Let's inspect a single sample\nsample = class_data[10]\nimage = sample[\"image\"]\nlabel = sample[\"label\"]\n\n# The dataset features contain the mapping from integer ID to class name\nclass_name = class_data.features[\"label\"]\nspecies_name = label.replace(\"_\", \" \").title()\n\nprint(f\"Sample image size: {image.size}\")\nprint(f\"Sample label: {label}\")\nprint(f\"Corresponding species name: {species_name}\")\n\n# Visualize the sample\nplt.figure(figsize=(6, 6))\nplt.imshow(image)\nplt.title(f\"Classification Sample\\nLabel: {label} ({species_name})\")\nplt.axis(\"off\")\nplt.show()"
      ]
    },
    {
      "cell_type": "markdown",
      "metadata": {},
      "source": [
        "### Use Case 2: Mosquito Detection\n\n**Goal**: Draw a bounding box around each mosquito in an image.\n\n**Data Structure**: The dataset provides bounding boxes in `[x_min, y_min, x_max, y_max]`\nformat and corresponding labels for each object.\n\n"
      ]
    },
    {
      "cell_type": "code",
      "execution_count": null,
      "metadata": {
        "collapsed": false
      },
      "outputs": [],
      "source": [
        "print(\"\\n--- Loading Detection Dataset ---\")\n# Note: YOLO format may require special handling not covered here.\n# We will use the COCO-formatted segmentation dataset and treat its boxes as\n# detection boxes for this example.\ndetect_data = manager.load_dataset(\"detection\", split=\"train[:20]\")\n\n# Inspect a detection sample\ndetect_sample = detect_data[5]\ndetect_image_pil = detect_sample[\"image\"]\n# Convert PIL image to OpenCV format for drawing\ndetect_image_cv2 = cv2.cvtColor(np.array(detect_image_pil), cv2.COLOR_RGB2BGR)\n\nobjects = detect_sample[\"objects\"]\nprint(f\"Found {len(objects['bboxes'])} object(s) in this image.\")\n\n# Draw bounding boxes on the image\nfor bbox in objects[\"bboxes\"]:\n    x_min, y_min, x_max, y_max = (int(v) for v in bbox)\n    # Draw a green rectangle\n    cv2.rectangle(detect_image_cv2, (x_min, y_min), (x_max, y_max), (0, 255, 0), 2)\n\n# Visualize the sample\nplt.figure(figsize=(8, 8))\nplt.imshow(cv2.cvtColor(detect_image_cv2, cv2.COLOR_BGR2RGB))\nplt.title(\"Detection Sample with Bounding Boxes\")\nplt.axis(\"off\")\nplt.show()"
      ]
    },
    {
      "cell_type": "markdown",
      "metadata": {},
      "source": [
        "### Use Case 3: Image Segmentation\n\n**Goal**: Isolate the exact pixels of a mosquito's body from the background.\n\n**Data Structure**: The dataset provides a `label` which is a 2D array (mask) where pixel values indicate the class.\n\n"
      ]
    },
    {
      "cell_type": "code",
      "execution_count": null,
      "metadata": {
        "collapsed": false
      },
      "outputs": [],
      "source": [
        "print(\"\\n--- Loading Segmentation Dataset ---\")\nseg_data = manager.load_dataset(\"segmentation\", split=\"train[:20]\")\n\n# Inspect a segmentation sample\nseg_sample = seg_data[0]\nseg_image = seg_sample[\"image\"]\nseg_mask = np.array(seg_sample[\"label\"])  # Convert mask to numpy array\n\nprint(f\"Image size: {seg_image.size}\")\nprint(f\"Segmentation mask shape: {seg_mask.shape}\")\nprint(f\"Unique values in mask: {np.unique(seg_mask)}\")  # 0 is background, 1 is mosquito\n\n# Create a colored overlay for the mask\n# Where the mask is 1 (mosquito), we make it red\noverlay = np.zeros((*seg_mask.shape, 4), dtype=np.uint8)\noverlay[seg_mask >= 1] = [255, 0, 0, 128]  # Red color with 50% opacity\n\n# Visualize the image with the mask overlay\nfig, ax = plt.subplots(figsize=(8, 8))\nax.imshow(seg_image)\nax.imshow(overlay)\nax.set_title(\"Segmentation Sample with Mask Overlay\")\nax.axis(\"off\")\nplt.show()"
      ]
    },
    {
      "cell_type": "markdown",
      "metadata": {},
      "source": [
        "## 4. Advanced: Exploratory Data Analysis (EDA)\n\nUnderstanding your data's distribution is vital. Here, we'll analyze the foundational\n`mosquito-species-diversity` dataset.\n\nWe will fetch the `repository_id` using datasets manager, making the code robust and reusable.\n\n"
      ]
    },
    {
      "cell_type": "markdown",
      "metadata": {},
      "source": [
        "Get the repository ID from the dataset config.\n\n"
      ]
    },
    {
      "cell_type": "code",
      "execution_count": null,
      "metadata": {
        "collapsed": false
      },
      "outputs": [],
      "source": [
        "try:\n    diversity_config = manager.get_dataset_info(\"species_diversity\")\n    repo_id = diversity_config.repository\n    print(f\"\u2705 Successfully found repository ID from settings: {repo_id}\")\nexcept KeyError:\n    print(\"\u274c Could not find 'mosquito-species-diversity' dataset in settings.\")\n    repo_id = None"
      ]
    },
    {
      "cell_type": "markdown",
      "metadata": {},
      "source": [
        "#### **Exploring the mosquito species diversity dataset**\n\nThis dataset serves as the foundational source for the classification, detection, and\nsegmentation datasets. It contains a rich collection of images with corresponding\nlabels and bounding box information.\n\nLet's start by fetching some basic statistics.\n\n"
      ]
    },
    {
      "cell_type": "markdown",
      "metadata": {},
      "source": [
        "The repository ID for our source dataset on Hugging Face\n\n"
      ]
    },
    {
      "cell_type": "code",
      "execution_count": null,
      "metadata": {
        "collapsed": false
      },
      "outputs": [],
      "source": [
        "def get_dataset_statistics(repo_id, config_name=\"default\", split_name=\"train\"):\n    \"\"\"Fetch detailed column statistics for a dataset split from the Hugging Face API.\"\"\"\n    api_url = (\n        f\"https://datasets-server.huggingface.co/statistics?dataset={repo_id}&config={config_name}&split={split_name}\"\n    )\n    print(f\"Querying API: {api_url}\")\n    response = requests.get(api_url, timeout=10)\n    response.raise_for_status()  # Will raise an error for bad responses\n    return response.json()\n\n\n# Fetch the statistics\nprint(f\"--- Fetching statistics for '{repo_id}' ---\")\ntry:\n    dataset_info = get_dataset_statistics(repo_id)\n    print(\"\u2705 Statistics fetched successfully.\")\nexcept requests.exceptions.RequestException as e:\n    print(f\"\u274c Failed to fetch statistics: {e}\")\n    dataset_info = None"
      ]
    },
    {
      "cell_type": "markdown",
      "metadata": {},
      "source": [
        "#### **Visualizing Class Distribution**\n\nA balanced dataset is crucial for training a robust model.\nLet's write a function to visualize the number of samples for\neach mosquito species to check for any significant imbalances.\n\n"
      ]
    },
    {
      "cell_type": "code",
      "execution_count": null,
      "metadata": {
        "collapsed": false
      },
      "outputs": [],
      "source": [
        "def get_label_stats(dataset_info):\n    \"\"\"Extract label frequencies from the fetched dataset statistics.\"\"\"\n    if not dataset_info:\n        return None\n\n    for column in dataset_info.get(\"statistics\", []):\n        if column.get(\"column_name\") == \"label\" and column.get(\"column_type\") == \"string_label\":\n            return column[\"column_statistics\"].get(\"frequencies\", {})\n\n    print(\"Warning: 'label' statistics not found.\")\n    return None\n\n\ndef create_distribution_plot(\n    dataset_info,\n    repo_id,\n    color=\"teal\",\n    figsize=(15, 12),\n    output_file=\"class_distribution.png\",\n):\n    \"\"\"Creates and saves a bar chart of the class distribution.\"\"\"\n    label_stats = get_label_stats(dataset_info)\n    if not label_stats:\n        print(\"Cannot create plot: No label statistics available.\")\n        return\n\n    # Sort classes by the number of samples for better visualization\n    sorted_items = sorted(label_stats.items(), key=lambda x: x[1], reverse=True)\n    classes, counts = zip(*sorted_items)\n\n    _, ax = plt.subplots(figsize=figsize)\n    y_pos = np.arange(len(classes))\n    ax.barh(y_pos, counts, align=\"center\", color=color, alpha=0.8)\n\n    # Format plot for clarity\n    ax.set_yticks(y_pos)\n    formatted_classes = [c.replace(\"_\", \" \").title() for c in classes]\n    ax.set_yticklabels(formatted_classes, fontsize=12)\n    ax.invert_yaxis()  # Display the class with the most samples at the top\n    ax.set_xlabel(\"Number of Samples\", fontsize=14)\n    ax.set_title(f\"Distribution of Mosquito Species in {repo_id}\", pad=20, fontsize=18)\n\n    # Add count labels to each bar\n    for i, v in enumerate(counts):\n        ax.text(v + 3, i, str(v), color=\"blue\", va=\"center\", fontsize=10)\n\n    plt.tight_layout()\n    plt.savefig(output_file, dpi=300, bbox_inches=\"tight\")\n    print(f\"\u2705 Distribution plot saved as {output_file}\")\n    plt.show()\n\n\n# Generate and display the plot\nif dataset_info:\n    create_distribution_plot(dataset_info, repo_id)"
      ]
    },
    {
      "cell_type": "markdown",
      "metadata": {},
      "source": [
        "This chart gives you an immediate understanding of which species\nare well-represented and which might require techniques\nlike data augmentation or weighted loss functions during model training.\n\n"
      ]
    },
    {
      "cell_type": "markdown",
      "metadata": {},
      "source": [
        "#### **Visualizing Taxonomic Distribution**\n\nTo better understand the relationships between species, we can visualize the dataset\nin a hierarchical tree structure, grouping species by their genus.\nThis provides insight into the taxonomic diversity of the data.\n\n"
      ]
    },
    {
      "cell_type": "code",
      "execution_count": null,
      "metadata": {
        "collapsed": false
      },
      "outputs": [],
      "source": [
        "def create_tree_visualization(\n    dataset_info,\n    figsize=(16, 12),\n    output_file=\"taxonomic_tree.png\",\n):\n    \"\"\"Creates a tree-like visualization of species grouped by genus.\"\"\"\n    label_stats = get_label_stats(dataset_info)\n    if not label_stats:\n        print(\"Cannot create visualization: No label statistics available.\")\n        return\n\n    # Group species by genus and calculate totals\n    genus_groups = defaultdict(list)\n    genus_totals = defaultdict(int)\n    for species, count in label_stats.items():\n        genus = species.split(\"_\")[0]\n        genus_groups[genus].append((species, count))\n        genus_totals[genus] += count\n\n    # Sort genera by the total number of samples\n    sorted_genera = sorted(genus_totals.items(), key=lambda x: x[1], reverse=True)\n\n    fig, ax = plt.subplots(figsize=figsize)\n\n    # --- Plotting Logic ---\n    total_species_count = len(label_stats)\n    y_positions = np.linspace(0.95, 0.05, total_species_count)\n    current_y_idx = 0\n\n    # Use a color map for different genera\n    colors = plt.cm.get_cmap(\"tab20\", len(sorted_genera))\n\n    for i, (genus, total_count) in enumerate(sorted_genera):\n        species_in_genus = sorted(genus_groups[genus], key=lambda x: x[1], reverse=True)\n        num_species = len(species_in_genus)\n\n        # Define y-coordinates for this genus block\n        y_start = y_positions[current_y_idx]\n        y_end = y_positions[current_y_idx + num_species - 1]\n        y_genus_mid = (y_start + y_end) / 2\n\n        # Draw genus branch and label\n        ax.plot([0.1, 0.2], [y_genus_mid, y_genus_mid], color=colors(i), linewidth=3)\n        ax.text(\n            0.08,\n            y_genus_mid,\n            f\"{genus.title()}\\n({total_count})\",\n            ha=\"right\",\n            va=\"center\",\n            fontsize=14,\n            weight=\"bold\",\n        )\n\n        # Draw vertical connector for species in this genus\n        ax.plot([0.2, 0.2], [y_start, y_end], color=colors(i), linewidth=1)\n\n        # Draw branches for each species\n        for species_name, count in species_in_genus:\n            y_species = y_positions[current_y_idx]\n            branch_length = 0.1 + 0.5 * (count / max(label_stats.values()))\n\n            ax.plot([0.2, 0.2 + branch_length], [y_species, y_species], color=colors(i), linewidth=1.5)\n            ax.text(\n                0.22 + branch_length,\n                y_species,\n                f\"{species_name.replace('_', ' ').title()} ({count})\",\n                va=\"center\",\n                fontsize=12,\n            )\n            current_y_idx += 1\n\n    # --- Final Plot Customization ---\n    ax.axis(\"off\")\n    plt.title(\"Taxonomic Distribution of Mosquito Species\", fontsize=20, pad=20)\n    plt.savefig(output_file, dpi=300, bbox_inches=\"tight\")\n    print(f\"\u2705 Tree visualization saved as {output_file}\")\n    plt.show()\n\n\n# Generate and display the tree visualization\nif dataset_info:\n    create_tree_visualization(dataset_info)"
      ]
    },
    {
      "cell_type": "markdown",
      "metadata": {},
      "source": [
        "This plot provides a clear visual summary of the dataset's structure,\nshowing which genera are most prevalent and how the samples are distributed\namong their respective species. It's an invaluable tool for both educational\npurposes and for guiding research that may focus on specific genera.\n\n"
      ]
    },
    {
      "cell_type": "markdown",
      "metadata": {},
      "source": [
        "## 5. Advanced: Adding a Custom Dataset\n\n`culicidaelab` is designed to be extensible. You can easily add your own Hugging Face\ndatasets by creating a simple YAML configuration file.\n\n### Step 1: Understanding the Required Structure with `DatasetConfig`\n\nBefore writing a configuration, you need to know what fields are required.\nAll dataset configurations are validated against the `DatasetConfig` Pydantic model.\nWe can inspect this model directly to get a perfect template.\n\n"
      ]
    },
    {
      "cell_type": "code",
      "execution_count": null,
      "metadata": {
        "collapsed": false
      },
      "outputs": [],
      "source": [
        "# Let's print the model's docstring for a human-readable explanation.\nprint(\"--- DatasetConfig Model Documentation ---\")\nprint(DatasetConfig.__doc__)\n\n# For a precise, technical blueprint, we can generate its JSON Schema.\n# This shows all fields, their types, and which ones are required.\nprint(\"\\n--- DatasetConfig JSON Schema ---\")\nschema = DatasetConfig.model_json_schema()\nprint(json.dumps(schema, indent=2))"
      ]
    },
    {
      "cell_type": "markdown",
      "metadata": {},
      "source": [
        "### Step 2: Create a Custom Configuration File\n\nNow that we know the required structure, let's create a custom configuration.\n\nFirst, it's best practice to keep your custom configurations separate from the\nlibrary's defaults. We'll create a dedicated directory for them.\n\n"
      ]
    },
    {
      "cell_type": "code",
      "execution_count": null,
      "metadata": {
        "collapsed": false
      },
      "outputs": [],
      "source": [
        "custom_config_dir = Path(\"culicidae_custom_config\")\ncustom_config_dir.mkdir(exist_ok=True)\nprint(f\"Created custom config directory at: ./{custom_config_dir.name}\")"
      ]
    },
    {
      "cell_type": "markdown",
      "metadata": {},
      "source": [
        "Next, create a `.yaml` file inside this directory. Your file must name\n`datasets`, in this file you can define one or more named dataset configurations,\nwhere each one follows the `DatasetConfig` structure we just inspected.\n\n**Example**: Let's add a configuration for a hypothetical `culex-pipiens-complex` dataset.\n\n"
      ]
    },
    {
      "cell_type": "markdown",
      "metadata": {},
      "source": [
        "The file's stem will become the top-level key in the merged config.\nTo override the library's 'datasets' section, save the mapping directly\n\n"
      ]
    },
    {
      "cell_type": "code",
      "execution_count": null,
      "metadata": {
        "collapsed": false
      },
      "outputs": [],
      "source": [
        "custom_dataset_config = {\n    \"culex-pipiens-complex\": {\n        \"name\": \"culex-pipiens-complex\",\n        \"path\": \"culex_pipiens_complex\",\n        \"format\": \"imagefolder\",\n        \"classes\": [\"culex_pipiens\", \"culex_torrentium\"],\n        \"provider_name\": \"huggingface\",\n        \"repository\": \"my-org/culex-pipiens-complex-dataset\",\n    },\n}\n\n\nconfig_file_path = custom_config_dir / \"datasets.yaml\"\nwith open(config_file_path, \"w\") as f:\n    yaml.safe_dump(custom_dataset_config, f)\n\nprint(f\"\u2705 Custom dataset config saved to: {config_file_path}\")"
      ]
    },
    {
      "cell_type": "markdown",
      "metadata": {},
      "source": [
        "### Step 3: Load `culicidaelab` with Your Custom Configuration\n\nThe `get_settings` function will create a *new*, merged settings instance\nwhen a `config_dir` is provided, loading your custom file on top of the defaults.\n\n"
      ]
    },
    {
      "cell_type": "code",
      "execution_count": null,
      "metadata": {
        "collapsed": false
      },
      "outputs": [],
      "source": [
        "print(\"\\n--- Initializing with Custom Settings ---\")\ncustom_settings = get_settings(config_dir=str(custom_config_dir))\n\n# Create a new manager with the custom settings\ncustom_manager = DatasetsManager(custom_settings)\n\nprint(\"\\n--- Listing All Datasets (including custom) ---\")\nall_datasets = custom_manager.list_datasets()\nprint(all_datasets)\n\nif \"culex-pipiens-complex\" in all_datasets:\n    print(\"\\n\u2705 Successfully added 'culex-pipiens-complex' to the available datasets!\")\nelse:\n    print(\"\\n\u274c Custom dataset was not loaded correctly.\")"
      ]
    },
    {
      "cell_type": "markdown",
      "metadata": {},
      "source": [
        "## 6. Next Steps & Further Reading\nYou now have a solid understanding of how to use the `DatasetsManager` in `culicidaelab`.\nFrom here, you can:\n\n*   **Train a new model:** Use the loaded data with your favorite deep learning framework.\n*   **Contribute to the project:** If you have your own labeled mosquito datasets,\nconsider sharing them with the community.\n*   **Explore the API:** Dive deeper into the `culicidaelab` source code to discover more functionalities.\n\nBy providing standardized datasets and an easy-to-use interface, `culicidaelab` aims\nto accelerate innovation in the fight against mosquito-borne diseases. Happy coding!\n\n"
      ]
    }
  ],
  "metadata": {
    "kernelspec": {
      "display_name": "Python 3",
      "language": "python",
      "name": "python3"
    },
    "language_info": {
      "codemirror_mode": {
        "name": "ipython",
        "version": 3
      },
      "file_extension": ".py",
      "mimetype": "text/x-python",
      "name": "python",
      "nbconvert_exporter": "python",
      "pygments_lexer": "ipython3",
      "version": "3.11.6"
    }
  },
  "nbformat": 4,
  "nbformat_minor": 0
}