{
  "cells": [
    {
      "cell_type": "code",
      "execution_count": null,
      "metadata": {
        "collapsed": false
      },
      "outputs": [],
      "source": [
        "%matplotlib inline"
      ]
    },
    {
      "cell_type": "markdown",
      "metadata": {},
      "source": [
        "\n# Managing and Loading Datasets\n\nThis tutorial demonstrates how to use the `DatasetsManager` in CulicidaeLab\nto interact with the datasets defined in the library's configuration.\n"
      ]
    },
    {
      "cell_type": "markdown",
      "metadata": {},
      "source": [
        "Install the `culicidaelab` library if not already installed\n!pip install -q culicidaelab\n\n"
      ]
    },
    {
      "cell_type": "markdown",
      "metadata": {},
      "source": [
        "Third-party imports\n\n"
      ]
    },
    {
      "cell_type": "code",
      "execution_count": null,
      "metadata": {
        "collapsed": false
      },
      "outputs": [],
      "source": [
        "import matplotlib.pyplot as plt\nimport numpy as np\nimport requests\n\nfrom collections import defaultdict\n\n# CulicidaeLab imports\nfrom culicidaelab import get_settings, ProviderService, DatasetsManager"
      ]
    },
    {
      "cell_type": "markdown",
      "metadata": {},
      "source": [
        "## 1. Initializing the DatasetsManager\n\nThe `DatasetsManager` is the high-level interface for all dataset operations.\nIt requires the `settings` object and a `ProviderService` to function.\n\n"
      ]
    },
    {
      "cell_type": "code",
      "execution_count": null,
      "metadata": {
        "collapsed": false
      },
      "outputs": [],
      "source": [
        "print(\"--- 1. Initializing DatasetsManager ---\")\nsettings = get_settings()\nprovider_service = ProviderService(settings)\nmanager = DatasetsManager(settings, provider_service)\nprint(\"DatasetsManager initialized successfully.\")"
      ]
    },
    {
      "cell_type": "markdown",
      "metadata": {},
      "source": [
        "## 2. Listing Available Datasets\n\nYou can easily see all datasets configured in the library.\n\n"
      ]
    },
    {
      "cell_type": "code",
      "execution_count": null,
      "metadata": {
        "collapsed": false
      },
      "outputs": [],
      "source": [
        "print(\"\\n--- 2. Listing all available datasets ---\")\navailable_datasets = manager.list_datasets()\nprint(f\"Available datasets found in configuration: {available_datasets}\")"
      ]
    },
    {
      "cell_type": "markdown",
      "metadata": {},
      "source": [
        "## 3. Getting Information for a Specific Dataset\n\nBefore loading, you can retrieve the configuration metadata for any dataset.\n\n"
      ]
    },
    {
      "cell_type": "code",
      "execution_count": null,
      "metadata": {
        "collapsed": false
      },
      "outputs": [],
      "source": [
        "print(\"\\n--- 3. Getting info for 'classification' dataset ---\")\ntry:\n    info = manager.get_dataset_info(\"classification\")\n    print(f\"  - Name: {info.name}\")\n    print(f\"  - Hugging Face Repository: {info.repository}\")\n    print(f\"  - Data Format: {info.format}\")\n    print(f\"  - Provider: {info.provider_name}\")\n    # print(f\"  - Classes: {info.classes}\") # This can be long, so we'll omit it here.\nexcept KeyError as e:\n    print(e)"
      ]
    },
    {
      "cell_type": "markdown",
      "metadata": {},
      "source": [
        "## 4. Loading a Dataset\n\nWhen you load a dataset for the first time, the manager performs several actions:\n1. It locates the appropriate data provider (e.g., `HuggingFaceProvider`).\n2. It instructs the provider to download the dataset to a local cache.\n3. It loads the dataset from the local cache into memory.\n\nOn subsequent calls, the manager will use the cached version, making loading much faster.\n\n"
      ]
    },
    {
      "cell_type": "code",
      "execution_count": null,
      "metadata": {
        "collapsed": false
      },
      "outputs": [],
      "source": [
        "print(\"\\n--- 4. Loading 'classification' dataset's 'test' split for the first time ---\")\nprint(\"This may take a moment as it triggers a download from Hugging Face.\")\nclassification_data = manager.load_dataset(\"classification\", split=\"test\")\nprint(\"\\nDataset loaded successfully!\")\nprint(f\"Returned data type: {type(classification_data)}\")\nprint(f\"Dataset features: {classification_data.features}\")\nprint(f\"Number of samples in test split: {len(classification_data)}\")"
      ]
    },
    {
      "cell_type": "markdown",
      "metadata": {},
      "source": [
        "## 5. Listing Loaded Datasets\n\nThe manager keeps an internal cache of datasets that have been loaded during the session.\n\n"
      ]
    },
    {
      "cell_type": "code",
      "execution_count": null,
      "metadata": {
        "collapsed": false
      },
      "outputs": [],
      "source": [
        "print(\"\\n--- 5. Listing currently loaded (cached) datasets ---\")\nloaded_list = manager.list_loaded_datasets()\nprint(f\"Manager reports these datasets are loaded: {loaded_list}\")"
      ]
    },
    {
      "cell_type": "markdown",
      "metadata": {},
      "source": [
        "---\n## Advanced: Exploring Dataset Statistics with the Hugging Face API\n\nThe rest of this tutorial goes beyond the core `culicidaelab` library functionality.\nIt demonstrates how you can directly query the Hugging Face Datasets Server API\nto get detailed statistics and create insightful visualizations for mosquito species dataset.\nThis is useful for exploratory data analysis (EDA).\n\n**Note:** The following code does not use the `DatasetsManager` and is provided as a supplementary example.\n\n"
      ]
    },
    {
      "cell_type": "markdown",
      "metadata": {},
      "source": [
        "Define the dataset name we want to explore\n\n"
      ]
    },
    {
      "cell_type": "code",
      "execution_count": null,
      "metadata": {
        "collapsed": false
      },
      "outputs": [],
      "source": [
        "repo_id = \"iloncka/mosquito-species-classification-dataset\""
      ]
    },
    {
      "cell_type": "markdown",
      "metadata": {},
      "source": [
        "### Fetching Dataset Metadata and Statistics\nWe'll use helper functions to query the API endpoints for general metadata and detailed statistics.\n\n"
      ]
    },
    {
      "cell_type": "code",
      "execution_count": null,
      "metadata": {
        "collapsed": false
      },
      "outputs": [],
      "source": [
        "def get_dataset_metadata(repo_id):\n    \"\"\"Fetch general metadata for a given dataset from Hugging Face.\"\"\"\n    api_url = f\"https://datasets-server.huggingface.co/croissant-crumbs?dataset={repo_id}\"\n    response = requests.get(api_url, timeout=10)\n    response.raise_for_status()\n    return response.json()\n\n\ndef get_dataset_statistics(repo_id, config_name=\"default\", split_name=\"test\"):\n    \"\"\"Fetch detailed column statistics for a dataset split.\"\"\"\n    api_url = (\n        f\"https://datasets-server.huggingface.co/statistics?dataset={repo_id}&config={config_name}&split={split_name}\"\n    )\n    response = requests.get(api_url, timeout=10)\n    response.raise_for_status()\n    return response.json()\n\n\nprint(f\"--- Fetching statistics for '{repo_id}' ---\")\ndataset_info = get_dataset_statistics(repo_id)\nprint(\"Statistics fetched successfully.\")"
      ]
    },
    {
      "cell_type": "markdown",
      "metadata": {},
      "source": [
        "### Visualizing Class Distribution\nA balanced dataset is crucial for training a good model. Let's visualize the number of samples per species.\n\n"
      ]
    },
    {
      "cell_type": "code",
      "execution_count": null,
      "metadata": {
        "collapsed": false
      },
      "outputs": [],
      "source": [
        "def get_label_stats(dataset_info):\n    \"\"\"Extract label statistics from dataset_info.\"\"\"\n    label_stats = None\n    for column in dataset_info[\"statistics\"]:\n        if column[\"column_type\"] == \"string_label\":\n            label_stats = column[\"column_statistics\"].get(\"frequencies\", {})\n            break\n\n    return label_stats\n\n\ndef create_distribution_plot(\n    dataset_info,\n    repo_id,\n    color=\"teal\",\n    figsize=(15, 10),\n    output_file=\"class_distribution.png\",\n):\n    # (Code from original script remains unchanged here)\n    # Get label frequencies from dataset_info\n    label_stats = get_label_stats(dataset_info)\n\n    if not label_stats:\n        print(\"No label statistics found in dataset_info\")\n        return\n    # Sort classes by sample count\n    sorted_items = sorted(label_stats.items(), key=lambda x: x[1], reverse=True)\n    classes, counts = zip(*sorted_items)\n    # Create figure with custom size\n    _, ax = plt.subplots(figsize=figsize)\n    # Create horizontal bars\n    y_pos = np.arange(len(classes))\n    ax.barh(y_pos, counts, align=\"center\", color=color, alpha=0.8)\n    # Customize the plot\n    ax.set_yticks(y_pos)\n    # Format class names by replacing underscores with spaces and capitalize\n    formatted_classes = [c.replace(\"_\", \" \").title() for c in classes]\n    ax.set_yticklabels(formatted_classes, fontsize=16)\n    # Add value labels on the bars\n    for i, v in enumerate(counts):\n        ax.text(v + 0.5, i, str(v), va=\"center\", fontsize=20)\n    # Add title and labels\n    plt.title(f\"Distribution of Mosquito Species in {repo_id}\", pad=20, fontsize=18)\n    plt.xlabel(\"Number of Samples\", fontsize=14)\n    # Adjust layout to prevent label cutoff\n    plt.tight_layout()\n    # Save the plot\n    plt.savefig(output_file, dpi=300, bbox_inches=\"tight\")\n    print(f\"Distribution plot saved as {output_file}\")\n    # Display the plot\n    plt.show()\n\n\n# Create the plot\ncreate_distribution_plot(dataset_info, repo_id)"
      ]
    },
    {
      "cell_type": "markdown",
      "metadata": {},
      "source": [
        "### Visualizing Taxonomic Distribution\nWe can also visualize the data in a more structured, tree-like format to see how species are grouped by genus.\n\n"
      ]
    },
    {
      "cell_type": "code",
      "execution_count": null,
      "metadata": {
        "collapsed": false
      },
      "outputs": [],
      "source": [
        "def create_tree_visualization(dataset_info, figsize=(15, 10), output_file=\"tree_distribution.png\"):\n    # (Code from original script remains unchanged here)\n    # Get label frequencies from dataset_info\n    label_stats = get_label_stats(dataset_info)\n\n    if not label_stats:\n        print(\"No label statistics found in dataset_info\")\n        return\n    # Group species by genus\n    genus_groups = defaultdict(list)\n    genus_totals = defaultdict(int)\n    for species, count in label_stats.items():\n        genus = species.split(\"_\")[0]\n        genus_groups[genus].append((species, count))\n        genus_totals[genus] += count\n    # Sort genera by total count\n    sorted_genera = sorted(genus_totals.items(), key=lambda x: x[1], reverse=True)\n    # Create figure\n    fig, ax = plt.subplots(figsize=figsize)\n    # Calculate scaling factors\n    max_count = max(label_stats.values())\n    min_count = min(label_stats.values())\n    max_genus_count = max(genus_totals.values())\n    min_genus_count = min(genus_totals.values())\n    # Calculate positions\n    total_species = sum(len(group) for group in genus_groups.values())\n    y_positions = np.linspace(0.1, 0.9, total_species)\n    trunk_x = 0.15  # Position of main vertical line\n    max_branch_length = 0.4  # Maximum branch length\n    current_y_index = 0\n    text_offset = 0.02\n    # Color map for genera\n    colors = plt.cm.tab20(np.linspace(0, 1, len(genus_groups)))\n    # Draw main trunk segments between genera\n    for (genus, _), color in zip(sorted_genera, colors):\n        species_count = len(genus_groups[genus])\n        start_y = y_positions[current_y_index]\n        end_y = y_positions[current_y_index + species_count - 1]\n        # Draw main trunk segment for this genus\n        ax.plot([trunk_x, trunk_x], [start_y, end_y], color=\"k\", linewidth=3)\n        current_y_index += species_count\n    # Reset current_y_index for species drawing\n    current_y_index = 0\n    # Draw branches for each genus\n    for (genus, total_count), color in zip(sorted_genera, colors):\n        species_list = genus_groups[genus]\n        species_count = len(species_list)\n        # Calculate genus branch position and length\n        genus_y = np.mean(y_positions[current_y_index : current_y_index + species_count])\n        genus_branch_length = 0.02  # Fixed length for genus branches\n        # Calculate line thickness based on count\n        thickness = 1 + 3 * (total_count - min_genus_count) / (max_genus_count - min_genus_count)\n        # Draw genus branch\n        ax.plot([trunk_x, trunk_x + genus_branch_length], [genus_y, genus_y], \"-\", color=color, linewidth=thickness)\n        # Add genus name\n        ax.text(\n            trunk_x - 0.02,\n            genus_y,\n            f\"{genus.title()}\\n({total_count} total)\",\n            horizontalalignment=\"right\",\n            verticalalignment=\"center\",\n            fontsize=18,\n            fontweight=\"bold\",\n        )\n        # Draw vertical connector for species\n        if species_count > 1:\n            ax.plot(\n                [trunk_x + genus_branch_length, trunk_x + genus_branch_length],\n                [y_positions[current_y_index], y_positions[current_y_index + species_count - 1]],\n                \"-\",\n                color=color,\n                linewidth=1,\n                alpha=1,\n            )\n        # Draw species branches\n        for i, (species, count) in enumerate(sorted(species_list, key=lambda x: x[1], reverse=True)):\n            y_pos = y_positions[current_y_index + i]\n            # Calculate species branch length based on count\n            species_branch_length = max_branch_length * 0.5 * (count - min_count) / (max_count - min_count)\n            # Draw species branch\n            species_thickness = 0.5 + 2 * (count - min_count) / (max_count - min_count)\n            ax.plot(\n                [trunk_x + genus_branch_length, trunk_x + genus_branch_length + species_branch_length],\n                [y_pos, y_pos],\n                \"-\",\n                color=color,\n                linewidth=species_thickness,\n            )\n            # Add species name with genus\n            species_name = species.replace(\"_\", \" \").title()\n            ax.text(\n                trunk_x + genus_branch_length + species_branch_length + text_offset,\n                y_pos,\n                f\"{species_name} ({count})\",\n                verticalalignment=\"center\",\n                fontsize=16,\n            )\n        current_y_index += species_count\n    # Customize the plot\n    ax.set_xlim(0, 1)\n    ax.set_ylim(0, 1)\n    ax.axis(\"off\")\n    # Add title\n    plt.suptitle(\"Mosquito Species Distribution by Genus and Species\", y=0.95, fontsize=18)\n    # Add total samples count and legend\n    total_samples = sum(label_stats.values())\n    text_img = f\"\"\"Total samples: {total_samples}\\n\n    Number of genera: {len(genus_groups)}\\n\n    Number of species: {len(label_stats)}\\n\n    Branch length \u221d sample count\"\"\"\n    # Add text at the bottom of the figure\n    plt.figtext(\n        0.02,\n        0.02,\n        text_img,\n        fontsize=18,\n    )\n    # Save the plot\n    plt.savefig(output_file, dpi=300, bbox_inches=\"tight\")\n    print(f\"Tree visualization saved as {output_file}\")\n    # Display the plot\n    plt.show()\n\n\n# Example usage\ncreate_tree_visualization(dataset_info)"
      ]
    }
  ],
  "metadata": {
    "kernelspec": {
      "display_name": "Python 3",
      "language": "python",
      "name": "python3"
    },
    "language_info": {
      "codemirror_mode": {
        "name": "ipython",
        "version": 3
      },
      "file_extension": ".py",
      "mimetype": "text/x-python",
      "name": "python",
      "nbconvert_exporter": "python",
      "pygments_lexer": "ipython3",
      "version": "3.11.13"
    }
  },
  "nbformat": 4,
  "nbformat_minor": 0
}