{
  "cells": [
    {
      "cell_type": "code",
      "execution_count": null,
      "metadata": {
        "collapsed": false
      },
      "outputs": [],
      "source": [
        "%matplotlib inline"
      ]
    },
    {
      "cell_type": "markdown",
      "metadata": {},
      "source": [
        "\n# Mosquito Detection Tutorial\n\nThis tutorial shows how to use the `MosquitoDetector` from the CulicidaeLab\nlibrary to perform object detection on images. We will cover:\n\n- Loading the detector model\n- Preparing an image\n- Running the model to get bounding boxes\n- Visualizing the results\n- Evaluating prediction accuracy\n- Running predictions on a batch of images\n"
      ]
    },
    {
      "cell_type": "markdown",
      "metadata": {},
      "source": [
        "## 1. Initialization\n\nFirst, we'll get the global `settings` instance and use it to initialize our `MosquitoDetector`.\nBy setting `load_model=True`, we tell the detector to load the model weights into memory immediately.\nIf the model file doesn't exist locally, it will be downloaded automatically.\n\n"
      ]
    },
    {
      "cell_type": "code",
      "execution_count": null,
      "metadata": {
        "collapsed": false
      },
      "outputs": [],
      "source": [
        "import re\nimport cv2\nimport matplotlib.pyplot as plt\nfrom pathlib import Path\n\nfrom culicidaelab import get_settings\nfrom culicidaelab import MosquitoDetector\n\n# Get settings instance\nsettings = get_settings()\n\n# Instantiate the detector and load the model\nprint(\"Initializing MosquitoDetector and loading model...\")\ndetector = MosquitoDetector(settings=settings, load_model=True)\nprint(\"Model loaded successfully.\")"
      ]
    },
    {
      "cell_type": "markdown",
      "metadata": {},
      "source": [
        "## 2. Detecting Mosquitoes in a Single Image\n\nNow let's load a test image and run the detector on it.\n\n"
      ]
    },
    {
      "cell_type": "markdown",
      "metadata": {},
      "source": [
        "Load a test image from the local 'test_imgs' directory\n\n"
      ]
    },
    {
      "cell_type": "code",
      "execution_count": null,
      "metadata": {
        "collapsed": false
      },
      "outputs": [],
      "source": [
        "image_path = Path(\"test_imgs\") / \"640px-Aedes_aegypti.jpg\"\nimage = cv2.imread(str(image_path))\nimage_rgb = cv2.cvtColor(image, cv2.COLOR_BGR2RGB)  # Convert to RGB for matplotlib\n\n# The `predict` method returns a list of detections.\n# Each detection is a tuple: (center_x, center_y, width, height, confidence_score)\ndetections = detector.predict(image_rgb)\n\n# The `visualize` method draws the bounding boxes onto the image for easy inspection.\nannotated_image = detector.visualize(image_rgb, detections)\n\n# Display the result\nplt.figure(figsize=(12, 8))\nplt.imshow(annotated_image)\nplt.axis(\"off\")\nplt.title(\"Detected Mosquitoes\")\nplt.show()\n\n# Print the numerical detection results\nprint(\"\\nDetection Results:\")\nif detections:\n    for i, (x, y, w, h, conf) in enumerate(detections):\n        print(f\"  - Mosquito {i+1}: Confidence = {conf:.2f}, Box = (x={x:.1f}, y={y:.1f}, w={w:.1f}, h={h:.1f})\")\nelse:\n    print(\"  No mosquitoes detected.\")"
      ]
    },
    {
      "cell_type": "markdown",
      "metadata": {},
      "source": [
        "## 3. Evaluating a Prediction\n\nThe `evaluate` method allows you to compare a prediction against a ground truth.\nThis is useful for measuring the model's accuracy. The method returns several metrics,\nincluding Average Precision (AP), which is a standard for object detection.\n\nHere, we'll use the detection we just found as a mock ground truth to demonstrate the process.\n\n"
      ]
    },
    {
      "cell_type": "markdown",
      "metadata": {},
      "source": [
        "A ground truth is a list of boxes without the confidence score: [(x, y, w, h), ...]\n\n"
      ]
    },
    {
      "cell_type": "code",
      "execution_count": null,
      "metadata": {
        "collapsed": false
      },
      "outputs": [],
      "source": [
        "if detections:\n    test_ground_truth = [detections[0][:4]]  # Use the first detected box as our ground truth\n\n    # You can evaluate using a pre-computed prediction\n    print(\"--- Evaluating with a pre-computed prediction ---\")\n    evaluation = detector.evaluate(ground_truth=test_ground_truth, prediction=detections)\n    print(evaluation)\n\n    # Or you can let the method run prediction internally by passing the raw image\n    print(\"\\n--- Evaluating directly from an image ---\")\n    evaluation_from_raw = detector.evaluate(ground_truth=test_ground_truth, input_data=image_rgb)\n    print(evaluation_from_raw)\nelse:\n    print(\"Skipping evaluation as no detections were found.\")"
      ]
    },
    {
      "cell_type": "markdown",
      "metadata": {},
      "source": [
        "## 4. Running Batch Predictions\n\nFor efficiency, you can process multiple images at once using `predict_batch`.\nThis is much faster than looping and calling `predict` on each image individually.\n\n"
      ]
    },
    {
      "cell_type": "markdown",
      "metadata": {},
      "source": [
        "Find all image files in the 'test_imgs' directory\n\n"
      ]
    },
    {
      "cell_type": "code",
      "execution_count": null,
      "metadata": {
        "collapsed": false
      },
      "outputs": [],
      "source": [
        "image_dir = Path(\"test_imgs\")\npattern = re.compile(r\"\\.(jpg|jpeg|png)$\", re.IGNORECASE)\nimage_paths = [path for path in image_dir.iterdir() if path.is_file() and pattern.search(str(path))]\n\n# Load all images into a list (our \"batch\")\ntry:\n    batch = [cv2.cvtColor(cv2.imread(str(path)), cv2.COLOR_BGR2RGB) for path in image_paths]\n    print(f\"\\n--- Processing a batch of {len(batch)} images ---\")\nexcept Exception as e:\n    print(f\"An error occurred while reading images: {e}\")\n    batch = []\n\n# Run batch prediction\ndetections_batch = detector.predict_batch(batch)\nprint(\"Batch prediction complete.\")\nfor i, dets in enumerate(detections_batch):\n    print(f\"  - Image {i+1} ({image_paths[i].name}): Found {len(dets)} detection(s).\")"
      ]
    },
    {
      "cell_type": "markdown",
      "metadata": {},
      "source": [
        "## 5. Evaluating a Batch of Predictions\n\nSimilarly, `evaluate_batch` can be used to get aggregated metrics over an entire set of images.\n\n"
      ]
    },
    {
      "cell_type": "markdown",
      "metadata": {},
      "source": [
        "Create a mock ground truth batch from our batch prediction results\n\n"
      ]
    },
    {
      "cell_type": "code",
      "execution_count": null,
      "metadata": {
        "collapsed": false
      },
      "outputs": [],
      "source": [
        "batch_test_gt = [[(x, y, w, h) for (x, y, w, h, conf) in detections] for detections in detections_batch]\n\n# Call evaluate_batch. We provide the predictions directly.\nprint(\"\\n--- Evaluating the entire batch ---\")\nbatch_evaluation = detector.evaluate_batch(\n    ground_truth_batch=batch_test_gt,\n    predictions_batch=detections_batch,\n    num_workers=1,\n)\n\nprint(\"Aggregated batch evaluation metrics:\")\nprint(batch_evaluation)"
      ]
    }
  ],
  "metadata": {
    "kernelspec": {
      "display_name": "Python 3",
      "language": "python",
      "name": "python3"
    },
    "language_info": {
      "codemirror_mode": {
        "name": "ipython",
        "version": 3
      },
      "file_extension": ".py",
      "mimetype": "text/x-python",
      "name": "python",
      "nbconvert_exporter": "python",
      "pygments_lexer": "ipython3",
      "version": "3.11.13"
    }
  },
  "nbformat": 4,
  "nbformat_minor": 0
}